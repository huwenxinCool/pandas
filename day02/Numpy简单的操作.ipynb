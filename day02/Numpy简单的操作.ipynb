{
 "cells": [
  {
   "cell_type": "code",
   "execution_count": 1,
   "metadata": {},
   "outputs": [],
   "source": [
    "import numpy as np"
   ]
  },
  {
   "cell_type": "markdown",
   "metadata": {},
   "source": [
    "- numpy是什么？\n",
    "    - numpy 是python的一个开源免费的库\n",
    "    - 用于处理任意维度的数组的库"
   ]
  },
  {
   "cell_type": "code",
   "execution_count": 3,
   "metadata": {},
   "outputs": [],
   "source": [
    "a = np.array([[1, 2, 3], [4, 5, 6], [22, 33, 44]])"
   ]
  },
  {
   "cell_type": "code",
   "execution_count": 4,
   "metadata": {},
   "outputs": [
    {
     "data": {
      "text/plain": [
       "numpy.ndarray"
      ]
     },
     "execution_count": 4,
     "metadata": {},
     "output_type": "execute_result"
    }
   ],
   "source": [
    "type(a)"
   ]
  },
  {
   "cell_type": "markdown",
   "metadata": {},
   "source": [
    "- 和ｐｙｔｈｏｎ的数组有什么区别\n",
    "　 - 查看　type(a)   类型为numpy.ndarray \n",
    "   - 具体查看　a.dtype"
   ]
  },
  {
   "cell_type": "code",
   "execution_count": 5,
   "metadata": {},
   "outputs": [
    {
     "data": {
      "text/plain": [
       "dtype('int64')"
      ]
     },
     "execution_count": 5,
     "metadata": {},
     "output_type": "execute_result"
    }
   ],
   "source": [
    "a.dtype"
   ]
  },
  {
   "cell_type": "markdown",
   "metadata": {},
   "source": [
    "- 为什么要用numpy的数组　　　　python里面的ｌｉｓｔ有什么区别？\n",
    "    - numpy 是c语言写的，运行速度快，而创建的数组是在内存中是一块连续的内存\n",
    "    - ｐｙｔｈｏｎ的list是通过索引来记录数据的，　不是连续的内存快，速度相对慢\n",
    "    - numpy的数组只能存储同种类型的数据，而且还是个数一样\n",
    "    - ｌｉｓｔ 什么类型的数据的都可以\n",
    "- 创建的数据的时间区别"
   ]
  },
  {
   "cell_type": "code",
   "execution_count": 16,
   "metadata": {},
   "outputs": [
    {
     "name": "stdout",
     "output_type": "stream",
     "text": [
      "7.53 ms ± 180 µs per loop (mean ± std. dev. of 7 runs, 100 loops each)\n",
      "766 µs ± 17.9 µs per loop (mean ± std. dev. of 7 runs, 1000 loops each)\n"
     ]
    }
   ],
   "source": [
    "a = [i for i in range(1000000)]\n",
    "b = np.array(a)\n",
    "\n",
    "%timeit sum(a)\n",
    "# 自带了sum方法，　如果sum(b) 会把他转成列表来计算的\n",
    "%timeit b.sum()"
   ]
  },
  {
   "cell_type": "code",
   "execution_count": null,
   "metadata": {},
   "outputs": [],
   "source": []
  }
 ],
 "metadata": {
  "kernelspec": {
   "display_name": "Python 3",
   "language": "python",
   "name": "python3"
  },
  "language_info": {
   "codemirror_mode": {
    "name": "ipython",
    "version": 3
   },
   "file_extension": ".py",
   "mimetype": "text/x-python",
   "name": "python",
   "nbconvert_exporter": "python",
   "pygments_lexer": "ipython3",
   "version": "3.5.2"
  }
 },
 "nbformat": 4,
 "nbformat_minor": 2
}
