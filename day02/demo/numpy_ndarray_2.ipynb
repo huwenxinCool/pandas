{
 "cells": [
  {
   "cell_type": "code",
   "execution_count": 94,
   "metadata": {},
   "outputs": [],
   "source": [
    "import numpy as np\n",
    "import matplotlib.pyplot as plt"
   ]
  },
  {
   "cell_type": "code",
   "execution_count": 95,
   "metadata": {},
   "outputs": [
    {
     "name": "stdout",
     "output_type": "stream",
     "text": [
      "Help on function ones in module numpy.core.numeric:\n",
      "\n",
      "ones(shape, dtype=None, order='C')\n",
      "    Return a new array of given shape and type, filled with ones.\n",
      "    \n",
      "    Parameters\n",
      "    ----------\n",
      "    shape : int or sequence of ints\n",
      "        Shape of the new array, e.g., ``(2, 3)`` or ``2``.\n",
      "    dtype : data-type, optional\n",
      "        The desired data-type for the array, e.g., `numpy.int8`.  Default is\n",
      "        `numpy.float64`.\n",
      "    order : {'C', 'F'}, optional\n",
      "        Whether to store multidimensional data in C- or Fortran-contiguous\n",
      "        (row- or column-wise) order in memory.\n",
      "    \n",
      "    Returns\n",
      "    -------\n",
      "    out : ndarray\n",
      "        Array of ones with the given shape, dtype, and order.\n",
      "    \n",
      "    See Also\n",
      "    --------\n",
      "    zeros, ones_like\n",
      "    \n",
      "    Examples\n",
      "    --------\n",
      "    >>> np.ones(5)\n",
      "    array([ 1.,  1.,  1.,  1.,  1.])\n",
      "    \n",
      "    >>> np.ones((5,), dtype=int)\n",
      "    array([1, 1, 1, 1, 1])\n",
      "    \n",
      "    >>> np.ones((2, 1))\n",
      "    array([[ 1.],\n",
      "           [ 1.]])\n",
      "    \n",
      "    >>> s = (2,2)\n",
      "    >>> np.ones(s)\n",
      "    array([[ 1.,  1.],\n",
      "           [ 1.,  1.]])\n",
      "\n"
     ]
    }
   ],
   "source": [
    "help(np.ones)"
   ]
  },
  {
   "cell_type": "code",
   "execution_count": 96,
   "metadata": {},
   "outputs": [
    {
     "data": {
      "text/plain": [
       "array([[1, 1, 1],\n",
       "       [1, 1, 1]])"
      ]
     },
     "execution_count": 96,
     "metadata": {},
     "output_type": "execute_result"
    }
   ],
   "source": [
    "# 值全部为1\n",
    "np.ones((2, 3), dtype=int)"
   ]
  },
  {
   "cell_type": "code",
   "execution_count": 97,
   "metadata": {},
   "outputs": [
    {
     "data": {
      "text/plain": [
       "array([[0., 0., 0.],\n",
       "       [0., 0., 0.],\n",
       "       [0., 0., 0.]])"
      ]
     },
     "execution_count": 97,
     "metadata": {},
     "output_type": "execute_result"
    }
   ],
   "source": [
    "# 值全部为零\n",
    "np.zeros((3, 3))"
   ]
  },
  {
   "cell_type": "code",
   "execution_count": 98,
   "metadata": {},
   "outputs": [
    {
     "data": {
      "text/plain": [
       "array([[1.19558414, 0.80003535, 0.96955844],\n",
       "       [1.36948108, 1.30871802, 0.88865944]])"
      ]
     },
     "execution_count": 98,
     "metadata": {},
     "output_type": "execute_result"
    }
   ],
   "source": [
    "# 只创建结构，不做值的初始化，此时的时是没有意义的，不能使用\n",
    "np.empty((2, 3))"
   ]
  },
  {
   "cell_type": "code",
   "execution_count": 99,
   "metadata": {},
   "outputs": [
    {
     "data": {
      "text/plain": [
       "array([[3.14, 3.14, 3.14],\n",
       "       [3.14, 3.14, 3.14]])"
      ]
     },
     "execution_count": 99,
     "metadata": {},
     "output_type": "execute_result"
    }
   ],
   "source": [
    "# 值全部为指定的值\n",
    "np.full((2, 3), 3.14)"
   ]
  },
  {
   "cell_type": "code",
   "execution_count": 100,
   "metadata": {},
   "outputs": [
    {
     "data": {
      "text/plain": [
       "array([[2, 2, 2, 2],\n",
       "       [2, 2, 2, 2],\n",
       "       [2, 2, 2, 2],\n",
       "       [2, 2, 2, 2]], dtype=int8)"
      ]
     },
     "execution_count": 100,
     "metadata": {},
     "output_type": "execute_result"
    }
   ],
   "source": [
    "# 根据已经存在的数组的形状和数据类型创建新数组\n",
    "a = np.ones((4, 4), dtype=np.int8)\n",
    "\n",
    "#  注意：数据类型和原来的数据一样，因此看不到2.23\n",
    "np.full_like(a, 2.23)"
   ]
  },
  {
   "cell_type": "markdown",
   "metadata": {},
   "source": [
    "### 2 从现有数组生成"
   ]
  },
  {
   "cell_type": "code",
   "execution_count": 101,
   "metadata": {},
   "outputs": [
    {
     "data": {
      "text/plain": [
       "array([1, 2, 3])"
      ]
     },
     "execution_count": 101,
     "metadata": {},
     "output_type": "execute_result"
    }
   ],
   "source": [
    "a = np.array([1, 2, 3])\n",
    "a"
   ]
  },
  {
   "cell_type": "code",
   "execution_count": 102,
   "metadata": {},
   "outputs": [
    {
     "data": {
      "text/plain": [
       "array([1, 2, 3])"
      ]
     },
     "execution_count": 102,
     "metadata": {},
     "output_type": "execute_result"
    }
   ],
   "source": [
    "# 根据已有的数据创建新的数组，两个数据相互独立\n",
    "b = np.array(a)\n",
    "b"
   ]
  },
  {
   "cell_type": "code",
   "execution_count": 103,
   "metadata": {},
   "outputs": [
    {
     "name": "stdout",
     "output_type": "stream",
     "text": [
      "orig: [1 2 3]\n",
      "new1: [1 2 3]\n",
      "new2: [1 2 3]\n",
      "orig: [101   2   3]\n",
      "new1: [1 2 3]\n",
      "new2: [101   2   3]\n"
     ]
    }
   ],
   "source": [
    "# 根据已有的数据创建新的数组，如果原来的数组是numpy的ndarray，那么两个数组就会共用相同的数据\n",
    "orig = np.array([1, 2, 3])\n",
    "new1 = np.array(orig)\n",
    "new2 = np.asarray(orig)\n",
    "print('orig:', orig)\n",
    "print('new1:', new1)\n",
    "print('new2:', new2)\n",
    "\n",
    "orig[0] += 100\n",
    "print('orig:', orig)\n",
    "print('new1:', new1)\n",
    "print('new2:', new2)"
   ]
  },
  {
   "cell_type": "code",
   "execution_count": 104,
   "metadata": {},
   "outputs": [
    {
     "name": "stdout",
     "output_type": "stream",
     "text": [
      "orig: [1, 2, 3]\n",
      "new1: [1 2 3]\n",
      "new2: [1 2 3]\n",
      "orig: [101, 2, 3]\n",
      "new1: [1 2 3]\n",
      "new2: [1 2 3]\n"
     ]
    }
   ],
   "source": [
    "# 根据已有的数据创建新的数组，如果原来的数组是numpy的ndarray，那么两个数组就会共用相同的数据\n",
    "orig = [1, 2, 3]\n",
    "new1 = np.array(orig)\n",
    "new2 = np.asarray(orig)\n",
    "print('orig:', orig)\n",
    "print('new1:', new1)\n",
    "print('new2:', new2)\n",
    "\n",
    "orig[0] += 100\n",
    "print('orig:', orig)\n",
    "print('new1:', new1)\n",
    "print('new2:', new2)"
   ]
  },
  {
   "cell_type": "code",
   "execution_count": 105,
   "metadata": {},
   "outputs": [
    {
     "name": "stdout",
     "output_type": "stream",
     "text": [
      "[1 2 3]\n",
      "[1 2 3]\n",
      "[101   2   3]\n",
      "[1 2 3]\n"
     ]
    }
   ],
   "source": [
    "# 用copy复制一份内容相同的数组，两个数组互相独立\n",
    "a = np.array([1, 2, 3])\n",
    "b = a.copy()\n",
    "print(a)\n",
    "print(b)\n",
    "a[0] += 100\n",
    "print(a)\n",
    "print(b)"
   ]
  },
  {
   "cell_type": "markdown",
   "metadata": {},
   "source": [
    "### 3 生成固定范围的数组"
   ]
  },
  {
   "cell_type": "code",
   "execution_count": 106,
   "metadata": {},
   "outputs": [
    {
     "data": {
      "text/plain": [
       "array([10.  , 10.05, 10.1 , 10.15, 10.2 , 10.25, 10.3 , 10.35, 10.4 ,\n",
       "       10.45, 10.5 , 10.55, 10.6 , 10.65, 10.7 , 10.75, 10.8 , 10.85,\n",
       "       10.9 , 10.95, 11.  , 11.05, 11.1 , 11.15, 11.2 , 11.25, 11.3 ,\n",
       "       11.35, 11.4 , 11.45, 11.5 , 11.55, 11.6 , 11.65, 11.7 , 11.75,\n",
       "       11.8 , 11.85, 11.9 , 11.95, 12.  , 12.05, 12.1 , 12.15, 12.2 ,\n",
       "       12.25, 12.3 , 12.35, 12.4 , 12.45, 12.5 , 12.55, 12.6 , 12.65,\n",
       "       12.7 , 12.75, 12.8 , 12.85, 12.9 , 12.95, 13.  , 13.05, 13.1 ,\n",
       "       13.15, 13.2 , 13.25, 13.3 , 13.35, 13.4 , 13.45, 13.5 , 13.55,\n",
       "       13.6 , 13.65, 13.7 , 13.75, 13.8 , 13.85, 13.9 , 13.95, 14.  ,\n",
       "       14.05, 14.1 , 14.15, 14.2 , 14.25, 14.3 , 14.35, 14.4 , 14.45,\n",
       "       14.5 , 14.55, 14.6 , 14.65, 14.7 , 14.75, 14.8 , 14.85, 14.9 ,\n",
       "       14.95])"
      ]
     },
     "execution_count": 106,
     "metadata": {},
     "output_type": "execute_result"
    }
   ],
   "source": [
    "# 生成一系列的数，类似python的range对象，不过numpy.arange()支持小数步长\n",
    "np.arange(10)\n",
    "np.arange(10, 15, 0.05)"
   ]
  },
  {
   "cell_type": "code",
   "execution_count": 107,
   "metadata": {},
   "outputs": [
    {
     "data": {
      "text/plain": [
       "array([0. , 0.1, 0.2, 0.3, 0.4, 0.5, 0.6, 0.7, 0.8, 0.9, 1. , 1.1, 1.2,\n",
       "       1.3, 1.4, 1.5, 1.6, 1.7, 1.8, 1.9, 2. , 2.1, 2.2, 2.3, 2.4, 2.5,\n",
       "       2.6, 2.7, 2.8, 2.9, 3. , 3.1, 3.2, 3.3, 3.4, 3.5, 3.6, 3.7, 3.8,\n",
       "       3.9, 4. , 4.1, 4.2, 4.3, 4.4, 4.5, 4.6, 4.7, 4.8, 4.9, 5. , 5.1,\n",
       "       5.2, 5.3, 5.4, 5.5, 5.6, 5.7, 5.8, 5.9, 6. , 6.1, 6.2, 6.3, 6.4,\n",
       "       6.5, 6.6, 6.7, 6.8, 6.9, 7. , 7.1, 7.2, 7.3, 7.4, 7.5, 7.6, 7.7,\n",
       "       7.8, 7.9, 8. , 8.1, 8.2, 8.3, 8.4, 8.5, 8.6, 8.7, 8.8, 8.9, 9. ,\n",
       "       9.1, 9.2, 9.3, 9.4, 9.5, 9.6, 9.7, 9.8, 9.9])"
      ]
     },
     "execution_count": 107,
     "metadata": {},
     "output_type": "execute_result"
    }
   ],
   "source": [
    "# 如果需要生成某个范围内，制定数量元素的数组，可以使用np.linspace()\n",
    "np.linspace(0, 10, 100, endpoint=False)"
   ]
  },
  {
   "cell_type": "markdown",
   "metadata": {},
   "source": [
    "### 4 生成随机数组"
   ]
  },
  {
   "cell_type": "code",
   "execution_count": 108,
   "metadata": {},
   "outputs": [
    {
     "data": {
      "image/png": "[encoded data removed]",
      "text/plain": [
       "<Figure size 432x288 with 1 Axes>"
      ]
     },
     "metadata": {
      "needs_background": "light"
     },
     "output_type": "display_data"
    }
   ],
   "source": [
    "# 生成均匀分布的随机数\n",
    "a = np.random.uniform(0, 10, 10000000)\n",
    "plt.hist(a, bins=1000)\n",
    "plt.show()"
   ]
  },
  {
   "cell_type": "code",
   "execution_count": 109,
   "metadata": {},
   "outputs": [
    {
     "data": {
      "text/plain": [
       "array([[6.42628375, 0.03536371, 7.28600531],\n",
       "       [1.08581968, 3.12509644, 9.65197219]])"
      ]
     },
     "execution_count": 109,
     "metadata": {},
     "output_type": "execute_result"
    }
   ],
   "source": [
    "# 也可以生成多维的数组\n",
    "np.random.uniform(0, 10, (2, 3))"
   ]
  },
  {
   "cell_type": "code",
   "execution_count": 110,
   "metadata": {},
   "outputs": [
    {
     "data": {
      "image/png": "[encoded data removed]",
      "text/plain": [
       "<Figure size 1080x576 with 2 Axes>"
      ]
     },
     "metadata": {
      "needs_background": "light"
     },
     "output_type": "display_data"
    }
   ],
   "source": [
    "# 钟型，bell-shaped\n",
    "a = np.random.normal(0, 3, 10000)\n",
    "b = np.random.normal(0, 5, 10000)\n",
    "fig, axes = plt.subplots(1, 2, figsize=(15, 8))\n",
    "axes[0].hist(a, bins=100)\n",
    "axes[1].hist(b, bins=100)\n",
    "axes[0].set_xticks(np.arange(-15, 15))\n",
    "axes[1].set_xticks(np.arange(-15, 15))\n",
    "plt.show()"
   ]
  },
  {
   "cell_type": "code",
   "execution_count": 111,
   "metadata": {},
   "outputs": [
    {
     "name": "stdout",
     "output_type": "stream",
     "text": [
      "34.475055921436535 平方岁\n",
      "5.871546297308447 岁\n"
     ]
    }
   ],
   "source": [
    "# 计算教室内所有人的年龄的离散程度\n",
    "ages = np.random.normal(22, 5, 50)\n",
    "\n",
    "# 方差\n",
    "print(ages.var(), '平方岁')\n",
    "\n",
    "# 标准差\n",
    "print(ages.std(), '岁')\n"
   ]
  },
  {
   "cell_type": "markdown",
   "metadata": {},
   "source": [
    "## 案例：随机生成8只股票2周的交易日涨幅数据"
   ]
  },
  {
   "cell_type": "code",
   "execution_count": 112,
   "metadata": {},
   "outputs": [
    {
     "data": {
      "text/plain": [
       "array([[ 0.36735881,  1.23339402, -1.40984269, -0.17098001,  0.82066645,\n",
       "         0.57668324, -0.56185403, -0.13503923, -1.08499338, -1.20484045],\n",
       "       [ 0.93530493, -1.24265657, -2.02328618,  1.2384482 , -1.03697439,\n",
       "        -1.44219121, -0.29592493,  1.72416477, -1.9016215 ,  0.36911732],\n",
       "       [-1.51393735,  0.37044029, -0.24961102,  0.6212562 , -1.46367116,\n",
       "         1.14002876, -0.36858598,  0.08766497, -0.59345709, -0.43799982],\n",
       "       [ 1.85932299, -0.89130264, -0.42954438, -0.08577872,  1.44704071,\n",
       "        -0.80736663, -0.00619793,  0.35289897,  0.88975085, -0.04437197],\n",
       "       [ 1.4575755 ,  1.49079366, -0.03596987, -1.29979658,  0.93372794,\n",
       "        -0.07167456,  1.29710065,  1.30594786,  1.73319443, -1.14925438],\n",
       "       [ 0.70427575, -0.58517133,  0.27908509,  0.89128318, -0.77956769,\n",
       "        -0.3631678 , -0.4151608 ,  1.17877793, -1.08871444,  1.00968462],\n",
       "       [-0.14309745, -1.25420332, -1.11983261, -0.73347057,  1.26949179,\n",
       "         0.45981136,  0.70695966,  0.74004351,  0.97890506, -0.17628644],\n",
       "       [ 0.28337642, -0.17908079, -1.8866213 ,  0.0540481 , -0.50515222,\n",
       "         0.9210943 , -0.79290794, -1.30912405, -0.84133449, -1.01479121]])"
      ]
     },
     "execution_count": 112,
     "metadata": {},
     "output_type": "execute_result"
    }
   ],
   "source": [
    "stock_change = np.random.normal(0, 1, (8, 10))\n",
    "stock_change"
   ]
  },
  {
   "cell_type": "code",
   "execution_count": 113,
   "metadata": {},
   "outputs": [
    {
     "data": {
      "text/plain": [
       "array([ 0.36735881,  1.23339402, -1.40984269, -0.17098001,  0.82066645,\n",
       "        0.57668324, -0.56185403, -0.13503923, -1.08499338, -1.20484045])"
      ]
     },
     "execution_count": 113,
     "metadata": {},
     "output_type": "execute_result"
    }
   ],
   "source": [
    "# 获取第一个股票的所有数据\n",
    "stock_change[0]"
   ]
  },
  {
   "cell_type": "code",
   "execution_count": 114,
   "metadata": {},
   "outputs": [
    {
     "data": {
      "text/plain": [
       "array([ 0.28337642, -0.17908079, -1.8866213 ,  0.0540481 , -0.50515222,\n",
       "        0.9210943 , -0.79290794, -1.30912405, -0.84133449, -1.01479121])"
      ]
     },
     "execution_count": 114,
     "metadata": {},
     "output_type": "execute_result"
    }
   ],
   "source": [
    "# 获取最后一个股票的所有数据\n",
    "stock_change[-1]"
   ]
  },
  {
   "cell_type": "code",
   "execution_count": 115,
   "metadata": {},
   "outputs": [
    {
     "data": {
      "text/plain": [
       "0.36735881342242105"
      ]
     },
     "execution_count": 115,
     "metadata": {},
     "output_type": "execute_result"
    }
   ],
   "source": [
    "# 获取第一个股票第一天的数据\n",
    "stock_change[0, 0]"
   ]
  },
  {
   "cell_type": "code",
   "execution_count": 116,
   "metadata": {},
   "outputs": [
    {
     "data": {
      "text/plain": [
       "array([ 0.36735881,  1.23339402, -1.40984269])"
      ]
     },
     "execution_count": 116,
     "metadata": {},
     "output_type": "execute_result"
    }
   ],
   "source": [
    "# 获取第一个股票前面3天的数据\n",
    "stock_change[0, :3]"
   ]
  },
  {
   "cell_type": "markdown",
   "metadata": {},
   "source": [
    "### 3.3.3 形状修改"
   ]
  },
  {
   "cell_type": "code",
   "execution_count": 117,
   "metadata": {},
   "outputs": [
    {
     "data": {
      "text/plain": [
       "array([ 0.36735881,  1.23339402, -1.40984269])"
      ]
     },
     "execution_count": 117,
     "metadata": {},
     "output_type": "execute_result"
    }
   ],
   "source": [
    "# 把股票数据的日期变成行，各个股票放在列的位置，数据的原来的意义不变\n",
    "stock_change2 = stock_change.T\n",
    "stock_change2[:3, 0]"
   ]
  },
  {
   "cell_type": "code",
   "execution_count": 118,
   "metadata": {},
   "outputs": [
    {
     "data": {
      "text/plain": [
       "array([ 0.36735881, -1.08499338, -0.29592493])"
      ]
     },
     "execution_count": 118,
     "metadata": {},
     "output_type": "execute_result"
    }
   ],
   "source": [
    "# 修改数组的形状，数据的意义已经改变，因为错位了\n",
    "stock_change2 = stock_change.reshape((10, 8))\n",
    "stock_change2[:3, 0]"
   ]
  },
  {
   "cell_type": "code",
   "execution_count": 119,
   "metadata": {},
   "outputs": [
    {
     "name": "stdout",
     "output_type": "stream",
     "text": [
      "[0 1 2 3 4 5]\n"
     ]
    },
    {
     "data": {
      "text/plain": [
       "array([[0, 1, 2],\n",
       "       [3, 4, 5]])"
      ]
     },
     "execution_count": 119,
     "metadata": {},
     "output_type": "execute_result"
    }
   ],
   "source": [
    "# 用简单的数据体会reshape函数\n",
    "a = np.arange(6)\n",
    "print(a)\n",
    "a.reshape((2, 3))"
   ]
  },
  {
   "cell_type": "code",
   "execution_count": 120,
   "metadata": {},
   "outputs": [],
   "source": [
    "# reshape要求修改后的数组的元素总数与原来数组一样，否则出错\n",
    "# a.reshape((1, 5))"
   ]
  },
  {
   "cell_type": "code",
   "execution_count": 121,
   "metadata": {},
   "outputs": [],
   "source": [
    "# 用ndarray.resize()可以同时修改形状和元素总数，注意，需要修改的阵列不能被被的代码引用\n",
    "b = np.arange(6)\n",
    "b.resize((1, 5))"
   ]
  },
  {
   "cell_type": "code",
   "execution_count": 122,
   "metadata": {},
   "outputs": [
    {
     "data": {
      "text/plain": [
       "array([[0, 1, 2, 3, 4]])"
      ]
     },
     "execution_count": 122,
     "metadata": {},
     "output_type": "execute_result"
    }
   ],
   "source": [
    "b"
   ]
  },
  {
   "cell_type": "markdown",
   "metadata": {},
   "source": [
    "### 3.3.4 类型修改"
   ]
  },
  {
   "cell_type": "code",
   "execution_count": 123,
   "metadata": {},
   "outputs": [
    {
     "name": "stdout",
     "output_type": "stream",
     "text": [
      "int64\n",
      "[0 1 2]\n"
     ]
    }
   ],
   "source": [
    "a = np.arange(3)\n",
    "print(a.dtype)\n",
    "print(a)"
   ]
  },
  {
   "cell_type": "code",
   "execution_count": 124,
   "metadata": {},
   "outputs": [
    {
     "data": {
      "text/plain": [
       "array([0, 1, 2], dtype=int8)"
      ]
     },
     "execution_count": 124,
     "metadata": {},
     "output_type": "execute_result"
    }
   ],
   "source": [
    "a.astype(np.int8)"
   ]
  },
  {
   "cell_type": "code",
   "execution_count": 125,
   "metadata": {},
   "outputs": [
    {
     "data": {
      "text/plain": [
       "array([0., 1., 2.])"
      ]
     },
     "execution_count": 125,
     "metadata": {},
     "output_type": "execute_result"
    }
   ],
   "source": [
    "# 也可以通过python的float/int来指定类型\n",
    "a.astype(float)"
   ]
  },
  {
   "cell_type": "code",
   "execution_count": 126,
   "metadata": {},
   "outputs": [
    {
     "data": {
      "text/plain": [
       "b'\\x00\\x00\\x00\\x00\\x00\\x00\\x00\\x00\\x01\\x00\\x00\\x00\\x00\\x00\\x00\\x00\\x02\\x00\\x00\\x00\\x00\\x00\\x00\\x00'"
      ]
     },
     "execution_count": 126,
     "metadata": {},
     "output_type": "execute_result"
    }
   ],
   "source": [
    "a.tostring()"
   ]
  },
  {
   "cell_type": "code",
   "execution_count": 127,
   "metadata": {},
   "outputs": [
    {
     "data": {
      "text/plain": [
       "b'\\x00\\x00\\x00\\x00\\x00\\x00\\x00\\x00\\x01\\x00\\x00\\x00\\x00\\x00\\x00\\x00\\x02\\x00\\x00\\x00\\x00\\x00\\x00\\x00'"
      ]
     },
     "execution_count": 127,
     "metadata": {},
     "output_type": "execute_result"
    }
   ],
   "source": [
    "bytes_data = a.tobytes()\n",
    "bytes_data"
   ]
  },
  {
   "cell_type": "code",
   "execution_count": 128,
   "metadata": {},
   "outputs": [
    {
     "data": {
      "text/plain": [
       "array([0, 1, 2])"
      ]
     },
     "execution_count": 128,
     "metadata": {},
     "output_type": "execute_result"
    }
   ],
   "source": [
    "np.frombuffer(bytes_data, dtype=int)"
   ]
  },
  {
   "cell_type": "markdown",
   "metadata": {},
   "source": [
    "### 3.3.5 数组的去重"
   ]
  },
  {
   "cell_type": "code",
   "execution_count": 129,
   "metadata": {},
   "outputs": [
    {
     "data": {
      "text/plain": [
       "array([[1, 2, 2],\n",
       "       [3, 2, 4]])"
      ]
     },
     "execution_count": 129,
     "metadata": {},
     "output_type": "execute_result"
    }
   ],
   "source": [
    "a = np.array([1, 2, 2, 3, 2, 4]).reshape((2, 3))\n",
    "a"
   ]
  },
  {
   "cell_type": "code",
   "execution_count": 130,
   "metadata": {},
   "outputs": [
    {
     "data": {
      "text/plain": [
       "array([1, 2, 3, 4])"
      ]
     },
     "execution_count": 130,
     "metadata": {},
     "output_type": "execute_result"
    }
   ],
   "source": [
    "np.unique(a)"
   ]
  },
  {
   "cell_type": "markdown",
   "metadata": {},
   "source": [
    "## 3.4 ndarray运算"
   ]
  },
  {
   "cell_type": "code",
   "execution_count": 131,
   "metadata": {},
   "outputs": [
    {
     "data": {
      "text/plain": [
       "array([[ 0.36735881,  1.23339402, -1.40984269, -0.17098001,  0.82066645],\n",
       "       [ 0.93530493, -1.24265657, -2.02328618,  1.2384482 , -1.03697439],\n",
       "       [-1.51393735,  0.37044029, -0.24961102,  0.6212562 , -1.46367116],\n",
       "       [ 1.85932299, -0.89130264, -0.42954438, -0.08577872,  1.44704071],\n",
       "       [ 1.4575755 ,  1.49079366, -0.03596987, -1.29979658,  0.93372794]])"
      ]
     },
     "execution_count": 131,
     "metadata": {},
     "output_type": "execute_result"
    }
   ],
   "source": [
    "# 只获取前面5只股票的前面5天数据\n",
    "stock_change = stock_change[:5, :5]\n",
    "stock_change"
   ]
  },
  {
   "cell_type": "code",
   "execution_count": 132,
   "metadata": {},
   "outputs": [
    {
     "data": {
      "text/plain": [
       "array([[False,  True, False, False,  True],\n",
       "       [ True, False, False,  True, False],\n",
       "       [False, False, False,  True, False],\n",
       "       [ True, False, False, False,  True],\n",
       "       [ True,  True, False, False,  True]])"
      ]
     },
     "execution_count": 132,
     "metadata": {},
     "output_type": "execute_result"
    }
   ],
   "source": [
    "idx = stock_change > 0.5\n",
    "idx"
   ]
  },
  {
   "cell_type": "code",
   "execution_count": 133,
   "metadata": {},
   "outputs": [
    {
     "data": {
      "text/plain": [
       "dtype('bool')"
      ]
     },
     "execution_count": 133,
     "metadata": {},
     "output_type": "execute_result"
    }
   ],
   "source": [
    "# 逻辑判断生成了一个类型为布尔型的数组，此布尔阵列可以用来对原来的数组做索引（筛选）\n",
    "idx.dtype"
   ]
  },
  {
   "cell_type": "code",
   "execution_count": 134,
   "metadata": {},
   "outputs": [
    {
     "name": "stdout",
     "output_type": "stream",
     "text": [
      "[1.23339402 0.82066645 0.93530493 1.2384482  0.6212562  1.85932299\n",
      " 1.44704071 1.4575755  1.49079366 0.93372794]\n",
      "[[ 0.36735881  1.         -1.40984269 -0.17098001  1.        ]\n",
      " [ 1.         -1.24265657 -2.02328618  1.         -1.03697439]\n",
      " [-1.51393735  0.37044029 -0.24961102  1.         -1.46367116]\n",
      " [ 1.         -0.89130264 -0.42954438 -0.08577872  1.        ]\n",
      " [ 1.          1.         -0.03596987 -1.29979658  1.        ]]\n"
     ]
    }
   ],
   "source": [
    "# 可以索引，也可以赋值\n",
    "print(stock_change[idx])\n",
    "stock_change[idx] = 1\n",
    "print(stock_change)"
   ]
  },
  {
   "cell_type": "code",
   "execution_count": 138,
   "metadata": {},
   "outputs": [
    {
     "data": {
      "text/plain": [
       "False"
      ]
     },
     "execution_count": 138,
     "metadata": {},
     "output_type": "execute_result"
    }
   ],
   "source": [
    "# 所有的元素都是True，或者都相当于True，才返回True，否则就返回False\n",
    "np.all(idx)"
   ]
  },
  {
   "cell_type": "code",
   "execution_count": 139,
   "metadata": {},
   "outputs": [
    {
     "data": {
      "text/plain": [
       "True"
      ]
     },
     "execution_count": 139,
     "metadata": {},
     "output_type": "execute_result"
    }
   ],
   "source": [
    "# 只要有一个元素是True，或者相当于True，就返回True，否则就返回False\n",
    "np.any(idx)"
   ]
  },
  {
   "cell_type": "code",
   "execution_count": 141,
   "metadata": {},
   "outputs": [
    {
     "data": {
      "text/plain": [
       "False"
      ]
     },
     "execution_count": 141,
     "metadata": {},
     "output_type": "execute_result"
    }
   ],
   "source": [
    "np.all(stock_change[:2, :5] > 0)"
   ]
  },
  {
   "cell_type": "code",
   "execution_count": 144,
   "metadata": {},
   "outputs": [
    {
     "name": "stdout",
     "output_type": "stream",
     "text": [
      "[[ 0.36735881  1.         -1.40984269 -0.17098001]\n",
      " [ 1.         -1.24265657 -2.02328618  1.        ]\n",
      " [-1.51393735  0.37044029 -0.24961102  1.        ]\n",
      " [ 1.         -0.89130264 -0.42954438 -0.08577872]]\n"
     ]
    },
    {
     "data": {
      "text/plain": [
       "array([[1, 1, 0, 0],\n",
       "       [1, 0, 0, 1],\n",
       "       [0, 1, 0, 1],\n",
       "       [1, 0, 0, 0]])"
      ]
     },
     "execution_count": 144,
     "metadata": {},
     "output_type": "execute_result"
    }
   ],
   "source": [
    "temp = stock_change[:4, :4]\n",
    "print(temp)\n",
    "np.where(temp > 0, 1, 0)\n",
    "# 相当于一个if..else判断"
   ]
  },
  {
   "cell_type": "code",
   "execution_count": 146,
   "metadata": {},
   "outputs": [
    {
     "name": "stdout",
     "output_type": "stream",
     "text": [
      "[False False]\n",
      "[ True False]\n"
     ]
    }
   ],
   "source": [
    "# 符合逻辑操作\n",
    "a1 = np.array([True, False])\n",
    "a2 = np.array([False, False])\n",
    "print(np.logical_and(a1, a2))\n",
    "print(np.logical_or(a1, a2))"
   ]
  },
  {
   "cell_type": "markdown",
   "metadata": {},
   "source": [
    "### 3.4.4 统计运算"
   ]
  },
  {
   "cell_type": "code",
   "execution_count": 149,
   "metadata": {},
   "outputs": [
    {
     "name": "stdout",
     "output_type": "stream",
     "text": [
      "9\n",
      "0\n",
      "4.5\n",
      "4.5\n"
     ]
    }
   ],
   "source": [
    "a = np.arange(10)\n",
    "print(a.max())\n",
    "print(a.min())\n",
    "print(a.mean())\n",
    "# 中值的计算要通过numpy.median()函数\n",
    "print(np.median(a))"
   ]
  },
  {
   "cell_type": "code",
   "execution_count": 155,
   "metadata": {},
   "outputs": [
    {
     "data": {
      "text/plain": [
       "array([[ 0,  1,  2,  3,  4,  5,  6,  7],\n",
       "       [ 8,  9, 10, 11, 12, 13, 14, 15]])"
      ]
     },
     "execution_count": 155,
     "metadata": {},
     "output_type": "execute_result"
    }
   ],
   "source": [
    "a = np.arange(16).reshape((2, 8))\n",
    "a"
   ]
  },
  {
   "cell_type": "code",
   "execution_count": 157,
   "metadata": {},
   "outputs": [
    {
     "data": {
      "text/plain": [
       "array([7, 7])"
      ]
     },
     "execution_count": 157,
     "metadata": {},
     "output_type": "execute_result"
    }
   ],
   "source": [
    "# 找出最大值的位置\n",
    "a.argmax(axis=1)"
   ]
  }
 ],
 "metadata": {
  "kernelspec": {
   "display_name": "Python 3",
   "language": "python",
   "name": "python3"
  },
  "language_info": {
   "codemirror_mode": {
    "name": "ipython",
    "version": 3
   },
   "file_extension": ".py",
   "mimetype": "text/x-python",
   "name": "python",
   "nbconvert_exporter": "python",
   "pygments_lexer": "ipython3",
   "version": "3.5.2"
  }
 },
 "nbformat": 4,
 "nbformat_minor": 2
}
