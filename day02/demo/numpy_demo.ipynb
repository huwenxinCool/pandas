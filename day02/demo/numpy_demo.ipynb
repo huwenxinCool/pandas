{
 "cells": [
  {
   "cell_type": "code",
   "execution_count": 2,
   "metadata": {},
   "outputs": [],
   "source": [
    "import numpy as np"
   ]
  },
  {
   "cell_type": "code",
   "execution_count": 2,
   "metadata": {},
   "outputs": [],
   "source": [
    "scores = np.array([[80, 89, 86, 67, 79],\n",
    "[78, 97, 89, 67, 81],\n",
    "[90, 94, 78, 67, 74],\n",
    "[91, 91, 90, 67, 69],\n",
    "[76, 87, 75, 67, 86],\n",
    "[70, 79, 84, 67, 84],\n",
    "[94, 92, 93, 67, 64],\n",
    "[86, 85, 83, 67, 80]])"
   ]
  },
  {
   "cell_type": "code",
   "execution_count": 3,
   "metadata": {},
   "outputs": [
    {
     "data": {
      "text/plain": [
       "array([[80, 89, 86, 67, 79],\n",
       "       [78, 97, 89, 67, 81],\n",
       "       [90, 94, 78, 67, 74],\n",
       "       [91, 91, 90, 67, 69],\n",
       "       [76, 87, 75, 67, 86],\n",
       "       [70, 79, 84, 67, 84],\n",
       "       [94, 92, 93, 67, 64],\n",
       "       [86, 85, 83, 67, 80]])"
      ]
     },
     "execution_count": 3,
     "metadata": {},
     "output_type": "execute_result"
    }
   ],
   "source": [
    "scores"
   ]
  },
  {
   "cell_type": "code",
   "execution_count": 4,
   "metadata": {},
   "outputs": [
    {
     "data": {
      "text/plain": [
       "numpy.ndarray"
      ]
     },
     "execution_count": 4,
     "metadata": {},
     "output_type": "execute_result"
    }
   ],
   "source": [
    "# 在python的层面看，scores是np.ndarray类型\n",
    "type(scores)"
   ]
  },
  {
   "cell_type": "code",
   "execution_count": 5,
   "metadata": {},
   "outputs": [
    {
     "data": {
      "text/plain": [
       "dtype('int64')"
      ]
     },
     "execution_count": 5,
     "metadata": {},
     "output_type": "execute_result"
    }
   ],
   "source": [
    "# 在numpy层面看，所谓的类型可以进一步细分\n",
    "scores.dtype"
   ]
  },
  {
   "cell_type": "markdown",
   "metadata": {},
   "source": [
    "### 3.1.3 ndarray与Python原生list运算效率对比"
   ]
  },
  {
   "cell_type": "code",
   "execution_count": 3,
   "metadata": {},
   "outputs": [
    {
     "name": "stdout",
     "output_type": "stream",
     "text": [
      "1.12 ms ± 203 µs per loop (mean ± std. dev. of 7 runs, 1000 loops each)\n",
      "43.3 µs ± 1.56 µs per loop (mean ± std. dev. of 7 runs, 10000 loops each)\n"
     ]
    }
   ],
   "source": [
    "import random\n",
    "\n",
    "# 测试原生python的列表求和的效率\n",
    "a = [random.random() for _ in range(100000)]\n",
    "%timeit sum(a)\n",
    "\n",
    "# 测试numpy的数组求和的效率\n",
    "# 解决了ＧＩＬ问题\n",
    "b = np.array(a)\n",
    "%timeit b.sum()"
   ]
  },
  {
   "cell_type": "markdown",
   "metadata": {},
   "source": [
    "- ndarray的几种常用的属性\n",
    "    - shape       数组的维度的元组\n",
    "    - ndim        数组的维数\n",
    "    - size        数组的元素数量\n",
    "    - itemsize    一个字节元素的长度（字节）\n",
    "    - dtype       数组元素的类型"
   ]
  },
  {
   "cell_type": "code",
   "execution_count": 6,
   "metadata": {},
   "outputs": [],
   "source": [
    "a = np.array([[1, 2, 3], [4, 5, 6]])\n",
    "b = np.array([1, 2, 3, 4,5])\n",
    "c = np.array([[[1,2,3],[2, 3,4]]])"
   ]
  },
  {
   "cell_type": "code",
   "execution_count": 7,
   "metadata": {},
   "outputs": [
    {
     "name": "stdout",
     "output_type": "stream",
     "text": [
      "(2, 3)\n",
      "(5,)\n",
      "(1, 2, 3)\n"
     ]
    }
   ],
   "source": [
    "print(a.shape)\n",
    "print(b.shape)\n",
    "print(c.shape)"
   ]
  },
  {
   "cell_type": "code",
   "execution_count": 8,
   "metadata": {},
   "outputs": [
    {
     "name": "stdout",
     "output_type": "stream",
     "text": [
      "2\n",
      "1\n",
      "3\n"
     ]
    }
   ],
   "source": [
    "print(a.ndim)\n",
    "print(b.ndim)\n",
    "print(c.ndim)"
   ]
  },
  {
   "cell_type": "code",
   "execution_count": 10,
   "metadata": {},
   "outputs": [
    {
     "name": "stdout",
     "output_type": "stream",
     "text": [
      "6\n",
      "5\n",
      "6\n"
     ]
    }
   ],
   "source": [
    "print(a.size)\n",
    "print(b.size)\n",
    "print(c.size)"
   ]
  },
  {
   "cell_type": "code",
   "execution_count": 11,
   "metadata": {},
   "outputs": [
    {
     "name": "stdout",
     "output_type": "stream",
     "text": [
      "8\n"
     ]
    }
   ],
   "source": [
    "print(a.itemsize)\n",
    "# 一个元素８个字节，　一个字节为８　　　８　＊　８　＝　６４"
   ]
  },
  {
   "cell_type": "code",
   "execution_count": 12,
   "metadata": {},
   "outputs": [
    {
     "data": {
      "text/plain": [
       "dtype('int64')"
      ]
     },
     "execution_count": 12,
     "metadata": {},
     "output_type": "execute_result"
    }
   ],
   "source": [
    "a.dtype\n",
    "# 只要改变元素的字节就能控制长度"
   ]
  },
  {
   "cell_type": "markdown",
   "metadata": {},
   "source": [
    "# array有那些类型\n",
    "- int: int8/int16/int32/int64\n",
    "- float: float16/float32/float64\n",
    "- unint: unint8/unint16/unint32/unint64 无符号的整数\n",
    "- complex: complex64/complex128 复数\n",
    "- bool: 布尔\n",
    "- object_:对象\n",
    "- string_: 字符串\n",
    "- unicode_: unicode类型，存储中文"
   ]
  },
  {
   "cell_type": "code",
   "execution_count": 16,
   "metadata": {},
   "outputs": [
    {
     "data": {
      "text/plain": [
       "array([1., 3., 5., 6.], dtype=float32)"
      ]
     },
     "execution_count": 16,
     "metadata": {},
     "output_type": "execute_result"
    }
   ],
   "source": [
    "# 指定类型创建数组\n",
    "np.array([1, 3, 5, 6], dtype=np.float32)"
   ]
  },
  {
   "cell_type": "code",
   "execution_count": 20,
   "metadata": {},
   "outputs": [],
   "source": [
    "a = np.array([[1, 3, 5], [6, 7, 8]], dtype=float)\n",
    "# 也可以用python的类型来指定，不过一般都是６４的"
   ]
  },
  {
   "cell_type": "code",
   "execution_count": 21,
   "metadata": {},
   "outputs": [
    {
     "data": {
      "text/plain": [
       "dtype('float64')"
      ]
     },
     "execution_count": 21,
     "metadata": {},
     "output_type": "execute_result"
    }
   ],
   "source": [
    "a.dtype"
   ]
  },
  {
   "cell_type": "markdown",
   "metadata": {},
   "source": [
    "# 生成0和１的数组\n",
    "- ones   生成全都是１的数组\n",
    "- zeros　生成全部都是０的数组"
   ]
  },
  {
   "cell_type": "code",
   "execution_count": 22,
   "metadata": {},
   "outputs": [
    {
     "data": {
      "text/plain": [
       "array([[1., 1., 1., 1.],\n",
       "       [1., 1., 1., 1.],\n",
       "       [1., 1., 1., 1.]])"
      ]
     },
     "execution_count": 22,
     "metadata": {},
     "output_type": "execute_result"
    }
   ],
   "source": [
    "np.ones([3, 4])"
   ]
  },
  {
   "cell_type": "code",
   "execution_count": 26,
   "metadata": {},
   "outputs": [],
   "source": [
    "# 这样生成都是float类型的，需要指定类型来生成别的类型的数组\n",
    "c = np.zeros([4, 3], dtype=np.int8)"
   ]
  },
  {
   "cell_type": "code",
   "execution_count": 27,
   "metadata": {},
   "outputs": [
    {
     "data": {
      "text/plain": [
       "array([[0, 0, 0],\n",
       "       [0, 0, 0],\n",
       "       [0, 0, 0],\n",
       "       [0, 0, 0]], dtype=int8)"
      ]
     },
     "execution_count": 27,
     "metadata": {},
     "output_type": "execute_result"
    }
   ],
   "source": [
    "c"
   ]
  },
  {
   "cell_type": "markdown",
   "metadata": {},
   "source": [
    "# 从现有的数据中生成\n",
    "- array()\n",
    "- asarray()\n",
    "- copy()"
   ]
  },
  {
   "cell_type": "code",
   "execution_count": 28,
   "metadata": {},
   "outputs": [],
   "source": [
    "data = np.ones([3, 4])"
   ]
  },
  {
   "cell_type": "code",
   "execution_count": 29,
   "metadata": {},
   "outputs": [
    {
     "data": {
      "text/plain": [
       "array([[1., 1., 1., 1.],\n",
       "       [1., 1., 1., 1.],\n",
       "       [1., 1., 1., 1.]])"
      ]
     },
     "execution_count": 29,
     "metadata": {},
     "output_type": "execute_result"
    }
   ],
   "source": [
    "data"
   ]
  },
  {
   "cell_type": "code",
   "execution_count": 30,
   "metadata": {},
   "outputs": [],
   "source": [
    "data1 = np.array(data)"
   ]
  },
  {
   "cell_type": "code",
   "execution_count": 31,
   "metadata": {},
   "outputs": [
    {
     "data": {
      "text/plain": [
       "array([[1., 1., 1., 1.],\n",
       "       [1., 1., 1., 1.],\n",
       "       [1., 1., 1., 1.]])"
      ]
     },
     "execution_count": 31,
     "metadata": {},
     "output_type": "execute_result"
    }
   ],
   "source": [
    "data1"
   ]
  },
  {
   "cell_type": "code",
   "execution_count": 32,
   "metadata": {},
   "outputs": [],
   "source": [
    "data[0, 0] = 2.0"
   ]
  },
  {
   "cell_type": "code",
   "execution_count": 33,
   "metadata": {},
   "outputs": [
    {
     "data": {
      "text/plain": [
       "array([[2., 1., 1., 1.],\n",
       "       [1., 1., 1., 1.],\n",
       "       [1., 1., 1., 1.]])"
      ]
     },
     "execution_count": 33,
     "metadata": {},
     "output_type": "execute_result"
    }
   ],
   "source": [
    "data"
   ]
  },
  {
   "cell_type": "code",
   "execution_count": 34,
   "metadata": {},
   "outputs": [
    {
     "data": {
      "text/plain": [
       "array([[1., 1., 1., 1.],\n",
       "       [1., 1., 1., 1.],\n",
       "       [1., 1., 1., 1.]])"
      ]
     },
     "execution_count": 34,
     "metadata": {},
     "output_type": "execute_result"
    }
   ],
   "source": [
    "data1\n",
    "# 两个不同的数组"
   ]
  },
  {
   "cell_type": "code",
   "execution_count": 36,
   "metadata": {},
   "outputs": [],
   "source": [
    "data2 = np.asarray(data)"
   ]
  },
  {
   "cell_type": "code",
   "execution_count": 37,
   "metadata": {},
   "outputs": [
    {
     "data": {
      "text/plain": [
       "array([[2., 1., 1., 1.],\n",
       "       [1., 1., 1., 1.],\n",
       "       [1., 1., 1., 1.]])"
      ]
     },
     "execution_count": 37,
     "metadata": {},
     "output_type": "execute_result"
    }
   ],
   "source": [
    "data2"
   ]
  },
  {
   "cell_type": "code",
   "execution_count": 38,
   "metadata": {},
   "outputs": [],
   "source": [
    "data[0, 0] = 3.0"
   ]
  },
  {
   "cell_type": "code",
   "execution_count": 39,
   "metadata": {},
   "outputs": [
    {
     "data": {
      "text/plain": [
       "array([[3., 1., 1., 1.],\n",
       "       [1., 1., 1., 1.],\n",
       "       [1., 1., 1., 1.]])"
      ]
     },
     "execution_count": 39,
     "metadata": {},
     "output_type": "execute_result"
    }
   ],
   "source": [
    "# 相当于前拷贝\n",
    "data2"
   ]
  },
  {
   "cell_type": "code",
   "execution_count": 44,
   "metadata": {},
   "outputs": [],
   "source": [
    "data3 = np.copy(data)"
   ]
  },
  {
   "cell_type": "code",
   "execution_count": 45,
   "metadata": {},
   "outputs": [
    {
     "data": {
      "text/plain": [
       "array([[3., 1., 1., 1.],\n",
       "       [1., 1., 1., 1.],\n",
       "       [1., 1., 1., 1.]])"
      ]
     },
     "execution_count": 45,
     "metadata": {},
     "output_type": "execute_result"
    }
   ],
   "source": [
    "data3"
   ]
  },
  {
   "cell_type": "code",
   "execution_count": 46,
   "metadata": {},
   "outputs": [],
   "source": [
    "data[0, 0] = 4.0"
   ]
  },
  {
   "cell_type": "code",
   "execution_count": 47,
   "metadata": {},
   "outputs": [
    {
     "data": {
      "text/plain": [
       "array([[3., 1., 1., 1.],\n",
       "       [1., 1., 1., 1.],\n",
       "       [1., 1., 1., 1.]])"
      ]
     },
     "execution_count": 47,
     "metadata": {},
     "output_type": "execute_result"
    }
   ],
   "source": [
    "data3"
   ]
  },
  {
   "cell_type": "markdown",
   "metadata": {},
   "source": [
    "# linspace(start,stop,num,endpoint,retstep,dtype)\n",
    "- start 起始位置\n",
    "- stop 终止位置\n",
    "- num 间隔\n",
    "- endpoint 是否包含stop位置\n",
    "- retstep 如果为Ｔｒｕｅ，返回样咧，以及连续的数字之间的步长\n",
    "- dtype 指定类型"
   ]
  },
  {
   "cell_type": "code",
   "execution_count": 54,
   "metadata": {},
   "outputs": [
    {
     "data": {
      "text/plain": [
       "array([ 0., 10., 20., 30., 40., 50., 60., 70., 80., 90.])"
      ]
     },
     "execution_count": 54,
     "metadata": {},
     "output_type": "execute_result"
    }
   ],
   "source": [
    "# 生成间隔数组\n",
    "np.linspace(0, 100, 10, endpoint=False)"
   ]
  },
  {
   "cell_type": "code",
   "execution_count": 58,
   "metadata": {},
   "outputs": [
    {
     "data": {
      "text/plain": [
       "(array([ 0, 10, 20, 30, 40, 50, 60, 70, 80, 90], dtype=int8), 10.0)"
      ]
     },
     "execution_count": 58,
     "metadata": {},
     "output_type": "execute_result"
    }
   ],
   "source": [
    "np.linspace(0, 100, 10, endpoint=False, retstep=True, dtype=np.int8)"
   ]
  },
  {
   "cell_type": "markdown",
   "metadata": {},
   "source": [
    "# arange(start, stop, step, dtype)\n",
    "- start 起始位置\n",
    "- stop 结束位置\n",
    "- step 中间的间隔\n",
    "- dtype 类型"
   ]
  },
  {
   "cell_type": "code",
   "execution_count": 59,
   "metadata": {},
   "outputs": [
    {
     "data": {
      "text/plain": [
       "array([ 1,  6, 11, 16, 21, 26, 31, 36, 41, 46, 51, 56, 61, 66, 71, 76, 81,\n",
       "       86, 91, 96])"
      ]
     },
     "execution_count": 59,
     "metadata": {},
     "output_type": "execute_result"
    }
   ],
   "source": [
    "np.arange(1, 100, 5)"
   ]
  },
  {
   "cell_type": "markdown",
   "metadata": {},
   "source": [
    "# 生成随机数\n",
    "## random.uniform(low, high, size)\n",
    "### 均匀分布，　从［low, high)中随机取样\n",
    "- low 下限\n",
    "- high　上限\n",
    "- size 就是shape"
   ]
  },
  {
   "cell_type": "code",
   "execution_count": 60,
   "metadata": {},
   "outputs": [],
   "source": [
    "import matplotlib.pyplot as plt"
   ]
  },
  {
   "cell_type": "code",
   "execution_count": 75,
   "metadata": {},
   "outputs": [],
   "source": [
    "a = np.random.uniform(-1, 1, 100000000)"
   ]
  },
  {
   "cell_type": "code",
   "execution_count": 62,
   "metadata": {},
   "outputs": [
    {
     "data": {
      "text/plain": [
       "array([-0.32644721,  0.95552263,  0.18305   , ..., -0.3991398 ,\n",
       "       -0.64973972, -0.42205353])"
      ]
     },
     "execution_count": 62,
     "metadata": {},
     "output_type": "execute_result"
    }
   ],
   "source": [
    "a"
   ]
  },
  {
   "cell_type": "code",
   "execution_count": 76,
   "metadata": {},
   "outputs": [
    {
     "data": {
      "image/png": "[encoded data removed]",
      "text/plain": [
       "<Figure size 432x288 with 1 Axes>"
      ]
     },
     "metadata": {
      "needs_background": "light"
     },
     "output_type": "display_data"
    }
   ],
   "source": [
    "plt.hist(a, bins=1000)\n",
    "plt.show()"
   ]
  },
  {
   "cell_type": "markdown",
   "metadata": {},
   "source": [
    "# 正态分布\n",
    "## np.random.normal(loc, scale, size)\n",
    "- loc 均值\n",
    "- scale 标准差\n",
    "- size 返回指定类型的维度的数组"
   ]
  },
  {
   "cell_type": "code",
   "execution_count": 86,
   "metadata": {},
   "outputs": [
    {
     "data": {
      "image/png": "[encoded data removed]",
      "text/plain": [
       "<Figure size 432x288 with 1 Axes>"
      ]
     },
     "metadata": {
      "needs_background": "light"
     },
     "output_type": "display_data"
    }
   ],
   "source": [
    "b = np.random.normal(0,1, 10000000)\n",
    "plt.hist(b, 1000)\n",
    "plt.show()"
   ]
  },
  {
   "cell_type": "code",
   "execution_count": 87,
   "metadata": {},
   "outputs": [
    {
     "data": {
      "text/plain": [
       "array([[ 3.20961041e-01,  1.42306893e+00,  1.37336208e+00,\n",
       "        -2.04880924e+00, -8.15807624e-01, -4.60096254e-01,\n",
       "        -9.45303721e-01, -5.49321977e-01,  6.12218166e-04,\n",
       "        -9.32893432e-01],\n",
       "       [-1.28729729e+00, -6.99704999e-01,  2.07689741e+00,\n",
       "         1.24633913e+00,  4.33674125e-01, -1.67687385e+00,\n",
       "        -1.01773540e-02,  2.69048811e-02,  1.69772217e+00,\n",
       "         4.82615244e-01],\n",
       "       [-1.45518925e-01, -1.00986141e+00, -1.29542081e+00,\n",
       "         1.71425525e-01, -2.58264239e-01,  4.79555318e-01,\n",
       "        -1.86907402e-01, -4.93843602e-01,  1.14359117e+00,\n",
       "        -1.79322307e+00],\n",
       "       [ 2.26929669e-01,  2.73596875e-01,  1.18465208e+00,\n",
       "         1.08743485e+00, -3.63808521e-01, -5.63675438e-01,\n",
       "        -2.74968521e-01,  1.64563033e+00, -8.64259705e-01,\n",
       "         9.84156216e-01],\n",
       "       [-2.36062931e+00, -7.58957769e-01,  1.02245354e+00,\n",
       "         1.31774474e-02, -4.44465300e-01,  5.22244686e-01,\n",
       "         5.27631157e-01,  2.87276629e-01, -6.08488194e-01,\n",
       "         1.27728211e+00],\n",
       "       [ 4.98885289e-02, -5.84454102e-01, -1.75579579e-01,\n",
       "         1.99224522e+00,  5.74453603e-01,  6.42012434e-01,\n",
       "         2.34678462e-01,  1.53510675e+00,  1.06587120e+00,\n",
       "        -1.18988737e+00],\n",
       "       [-1.00740754e+00, -6.82295638e-01,  2.34652491e-01,\n",
       "        -6.25637038e-01,  7.23641838e-01, -2.81331027e-01,\n",
       "        -1.56991409e+00, -3.19457862e-01, -6.62176952e-01,\n",
       "        -1.78226064e-02],\n",
       "       [ 1.85156561e+00,  1.99047087e+00, -3.14790392e-01,\n",
       "         3.56148038e-01, -2.85221005e-01, -6.29250890e-01,\n",
       "        -8.26030071e-01,  4.69164889e-02, -1.51854888e-01,\n",
       "         9.82998583e-01]])"
      ]
     },
     "execution_count": 87,
     "metadata": {},
     "output_type": "execute_result"
    }
   ],
   "source": [
    "stock_change = np.random.normal(0, 1, (8, 10))\n",
    "stock_change"
   ]
  },
  {
   "cell_type": "code",
   "execution_count": 89,
   "metadata": {},
   "outputs": [
    {
     "data": {
      "text/plain": [
       "array([0.32096104, 1.42306893, 1.37336208])"
      ]
     },
     "execution_count": 89,
     "metadata": {},
     "output_type": "execute_result"
    }
   ],
   "source": [
    "# 切片操作   取出第一条数据的前面３个数据\n",
    "stock_change[0, :3]"
   ]
  },
  {
   "cell_type": "code",
   "execution_count": 92,
   "metadata": {},
   "outputs": [
    {
     "data": {
      "text/plain": [
       "array([[ 0.32096104,  1.42306893,  1.37336208],\n",
       "       [-1.28729729, -0.699705  ,  2.07689741],\n",
       "       [-0.14551893, -1.00986141, -1.29542081],\n",
       "       [ 0.22692967,  0.27359687,  1.18465208],\n",
       "       [-2.36062931, -0.75895777,  1.02245354]])"
      ]
     },
     "execution_count": 92,
     "metadata": {},
     "output_type": "execute_result"
    }
   ],
   "source": [
    "stock_change[:5, :3]"
   ]
  },
  {
   "cell_type": "code",
   "execution_count": 93,
   "metadata": {},
   "outputs": [
    {
     "data": {
      "text/plain": [
       "array([[ 3.20961041e-01,  1.42306893e+00,  1.37336208e+00,\n",
       "        -2.04880924e+00, -8.15807624e-01, -4.60096254e-01,\n",
       "        -9.45303721e-01, -5.49321977e-01],\n",
       "       [ 6.12218166e-04, -9.32893432e-01, -1.28729729e+00,\n",
       "        -6.99704999e-01,  2.07689741e+00,  1.24633913e+00,\n",
       "         4.33674125e-01, -1.67687385e+00],\n",
       "       [-1.01773540e-02,  2.69048811e-02,  1.69772217e+00,\n",
       "         4.82615244e-01, -1.45518925e-01, -1.00986141e+00,\n",
       "        -1.29542081e+00,  1.71425525e-01],\n",
       "       [-2.58264239e-01,  4.79555318e-01, -1.86907402e-01,\n",
       "        -4.93843602e-01,  1.14359117e+00, -1.79322307e+00,\n",
       "         2.26929669e-01,  2.73596875e-01],\n",
       "       [ 1.18465208e+00,  1.08743485e+00, -3.63808521e-01,\n",
       "        -5.63675438e-01, -2.74968521e-01,  1.64563033e+00,\n",
       "        -8.64259705e-01,  9.84156216e-01],\n",
       "       [-2.36062931e+00, -7.58957769e-01,  1.02245354e+00,\n",
       "         1.31774474e-02, -4.44465300e-01,  5.22244686e-01,\n",
       "         5.27631157e-01,  2.87276629e-01],\n",
       "       [-6.08488194e-01,  1.27728211e+00,  4.98885289e-02,\n",
       "        -5.84454102e-01, -1.75579579e-01,  1.99224522e+00,\n",
       "         5.74453603e-01,  6.42012434e-01],\n",
       "       [ 2.34678462e-01,  1.53510675e+00,  1.06587120e+00,\n",
       "        -1.18988737e+00, -1.00740754e+00, -6.82295638e-01,\n",
       "         2.34652491e-01, -6.25637038e-01],\n",
       "       [ 7.23641838e-01, -2.81331027e-01, -1.56991409e+00,\n",
       "        -3.19457862e-01, -6.62176952e-01, -1.78226064e-02,\n",
       "         1.85156561e+00,  1.99047087e+00],\n",
       "       [-3.14790392e-01,  3.56148038e-01, -2.85221005e-01,\n",
       "        -6.29250890e-01, -8.26030071e-01,  4.69164889e-02,\n",
       "        -1.51854888e-01,  9.82998583e-01]])"
      ]
     },
     "execution_count": 93,
     "metadata": {},
     "output_type": "execute_result"
    }
   ],
   "source": [
    "# 形状修改   把（８，　１０）　改成了（１０，　８）\n",
    "stock_change.reshape([10, 8])"
   ]
  },
  {
   "cell_type": "code",
   "execution_count": 96,
   "metadata": {},
   "outputs": [
    {
     "data": {
      "text/plain": [
       "array([[ 3.20961041e-01,  1.42306893e+00,  1.37336208e+00,\n",
       "        -2.04880924e+00, -8.15807624e-01, -4.60096254e-01,\n",
       "        -9.45303721e-01, -5.49321977e-01,  6.12218166e-04,\n",
       "        -9.32893432e-01, -1.28729729e+00, -6.99704999e-01,\n",
       "         2.07689741e+00,  1.24633913e+00,  4.33674125e-01,\n",
       "        -1.67687385e+00, -1.01773540e-02,  2.69048811e-02,\n",
       "         1.69772217e+00,  4.82615244e-01],\n",
       "       [-1.45518925e-01, -1.00986141e+00, -1.29542081e+00,\n",
       "         1.71425525e-01, -2.58264239e-01,  4.79555318e-01,\n",
       "        -1.86907402e-01, -4.93843602e-01,  1.14359117e+00,\n",
       "        -1.79322307e+00,  2.26929669e-01,  2.73596875e-01,\n",
       "         1.18465208e+00,  1.08743485e+00, -3.63808521e-01,\n",
       "        -5.63675438e-01, -2.74968521e-01,  1.64563033e+00,\n",
       "        -8.64259705e-01,  9.84156216e-01],\n",
       "       [-2.36062931e+00, -7.58957769e-01,  1.02245354e+00,\n",
       "         1.31774474e-02, -4.44465300e-01,  5.22244686e-01,\n",
       "         5.27631157e-01,  2.87276629e-01, -6.08488194e-01,\n",
       "         1.27728211e+00,  4.98885289e-02, -5.84454102e-01,\n",
       "        -1.75579579e-01,  1.99224522e+00,  5.74453603e-01,\n",
       "         6.42012434e-01,  2.34678462e-01,  1.53510675e+00,\n",
       "         1.06587120e+00, -1.18988737e+00],\n",
       "       [-1.00740754e+00, -6.82295638e-01,  2.34652491e-01,\n",
       "        -6.25637038e-01,  7.23641838e-01, -2.81331027e-01,\n",
       "        -1.56991409e+00, -3.19457862e-01, -6.62176952e-01,\n",
       "        -1.78226064e-02,  1.85156561e+00,  1.99047087e+00,\n",
       "        -3.14790392e-01,  3.56148038e-01, -2.85221005e-01,\n",
       "        -6.29250890e-01, -8.26030071e-01,  4.69164889e-02,\n",
       "        -1.51854888e-01,  9.82998583e-01]])"
      ]
     },
     "execution_count": 96,
     "metadata": {},
     "output_type": "execute_result"
    }
   ],
   "source": [
    "stock_change.reshape([-1, 20])\n",
    "# -1 表示待计算，　就是用能注意这个数，它会自动帮你计算的"
   ]
  },
  {
   "cell_type": "code",
   "execution_count": 97,
   "metadata": {},
   "outputs": [],
   "source": [
    "stock_change.resize([10, 8])\n",
    "# resize 就是把本身转换过来"
   ]
  },
  {
   "cell_type": "code",
   "execution_count": 101,
   "metadata": {},
   "outputs": [
    {
     "name": "stdout",
     "output_type": "stream",
     "text": [
      "float64\n"
     ]
    },
    {
     "data": {
      "text/plain": [
       "array([[ 0,  1,  1, -2,  0,  0,  0,  0],\n",
       "       [ 0,  0, -1,  0,  2,  1,  0, -1],\n",
       "       [ 0,  0,  1,  0,  0, -1, -1,  0],\n",
       "       [ 0,  0,  0,  0,  1, -1,  0,  0],\n",
       "       [ 1,  1,  0,  0,  0,  1,  0,  0],\n",
       "       [-2,  0,  1,  0,  0,  0,  0,  0],\n",
       "       [ 0,  1,  0,  0,  0,  1,  0,  0],\n",
       "       [ 0,  1,  1, -1, -1,  0,  0,  0],\n",
       "       [ 0,  0, -1,  0,  0,  0,  1,  1],\n",
       "       [ 0,  0,  0,  0,  0,  0,  0,  0]], dtype=int32)"
      ]
     },
     "execution_count": 101,
     "metadata": {},
     "output_type": "execute_result"
    }
   ],
   "source": [
    "# 类型修改\n",
    "print(stock_change.dtype)\n",
    "stock_change.astype(np.int32)"
   ]
  },
  {
   "cell_type": "code",
   "execution_count": 105,
   "metadata": {},
   "outputs": [],
   "source": [
    "# 转换成字符串\n",
    "data = stock_change.tostring()"
   ]
  },
  {
   "cell_type": "code",
   "execution_count": 106,
   "metadata": {},
   "outputs": [
    {
     "data": {
      "text/plain": [
       "b'n\\xf7\\x83-\\xa0\\x8a\\xd4?\\xd6(%\\xee\\xe3\\xc4\\xf6?\\xf8\\xe3Q\\x83J\\xf9\\xf5?\\x80\\x1bC\\x19\\xf6c\\x00\\xc0t\\x80V\\x97\\x18\\x1b\\xea\\xbfT\\xd3\\x83\\x8f7r\\xdd\\xbfbg\\xca\\x96\\xed?\\xee\\xbfp\\xea\\xef\\xae\\x0b\\x94\\xe1\\xbf\\xa9\\xb1\\x18\\x80\\xa8\\x0fD?\\x05\\xef\\x92SC\\xda\\xed\\xbfF\\x18{\\n\\xc5\\x98\\xf4\\xbf]e\\x10\\xbd\\xfbc\\xe6\\xbf\\x84\\xca\\rc|\\x9d\\x00@#\\x99\\x9eM\\x01\\xf1\\xf3?\\xa7\\xdb\\xca\\x1dQ\\xc1\\xdb?\\x16\\xff\\x88\\xacy\\xd4\\xfa\\xbf\\xa9\\x1fXU\\xdd\\xd7\\x84\\xbfcb\\xcc\\x01\\xf4\\x8c\\x9b?@\\xdep\\xb9\\xde)\\xfb?\\xbf\\x9b\\xb3\\x0c+\\xe3\\xde?\\xcb\\xac\\xa78]\\xa0\\xc2\\xbf\\xb0?Wpd(\\xf0\\xbfE\\xb2\\xd7,\\x0b\\xba\\xf4\\xbf_u\\xeb\\x86E\\xf1\\xc5?\\xef\\xca\\xab\\xbaf\\x87\\xd0\\xbfd\\xdf;\\xca\\x08\\xb1\\xde?\\n4\\xa7\\xec\\x94\\xec\\xc7\\xbf\\xfd\\x0fs2\"\\x9b\\xdf\\xbf\\xde\\xa6\\x17@&L\\xf2?#\\xc3B\\xac\\n\\xb1\\xfc\\xbf,\\xf8\\x9b\\t\\x08\\x0c\\xcd?\\x98/Iw\\x9c\\x82\\xd1?\\xb2\\xe3:\\xbdU\\xf4\\xf2?1\\xaf\\x04\\x16\"f\\xf1?Y\\x9b1\\x89\\xa3H\\xd7\\xbf\\xc8\\x98{\\x12\\xa1\\t\\xe2\\xbf\\xe2\\x7f\\xeb\\x90\\x15\\x99\\xd1\\xbf\\x06\\xf4\\x0fw\\x80T\\xfa?Du\\xcb\\xf7\\x03\\xa8\\xeb\\xbf\\xc5)s-5~\\xef?\\xe3=\\xb5\\x9e\\x91\\xe2\\x02\\xc0@|\\x9b\\xcdaI\\xe8\\xbf\\xbeR\\xcc=\\xf8[\\xf0?$\\x92\\x93\\x0c\\xc7\\xfc\\x8a?\\x11\\x10R\\x96\\x1er\\xdc\\xbf\\x88n\\x1f}:\\xb6\\xe0?{xH\\xbcZ\\xe2\\xe0?\\xec\\xbd.\\x83\\xbdb\\xd2?\\xb3\\x99\\xd4;\\xbcx\\xe3\\xbf\\xecWZ\\\\\\xbfo\\xf4?\\x1d\\x9d\\xf0?\\xfd\\x8a\\xa9?|\\xdf\\x04\\x17\\xd9\\xb3\\xe2\\xbf}\\xd3\\xdcBdy\\xc6\\xbff\\xf3I\\x87<\\xe0\\xff?\\r{\\x80\\x85\\xeca\\xe2?bU\\x0f\\xa9]\\x8b\\xe4?*~\\xea\\x9e\\xf1\\t\\xce?\\xb72I\\x19\\xcc\\x8f\\xf8?\\x13}\\xa4\\xf4\\xce\\r\\xf1?\\xbc\\xb0\\xccV\\xc7\\t\\xf3\\xbft\\n\\x9b^W\\x1e\\xf0\\xbf\\x15\\x81\\x8c\\xa9]\\xd5\\xe5\\xbf\\xb6\\xd1\\xe5\\xc2\\x17\\t\\xce?\\xc6LS\\xf77\\x05\\xe4\\xbf\\x881W\\xed\\x12(\\xe7?\\xfe\\xb5F\\xdaS\\x01\\xd2\\xbfO\\xb1L;^\\x1e\\xf9\\xbf\\n<\\x11c\\xffq\\xd4\\xbfJ?c\\xb8\\x8d0\\xe5\\xbf%\\r\\xac\\xdd\\x16@\\x92\\xbf\\x978MB\\x03\\xa0\\xfd?#\\xfb\\xee\\xfa\\xf7\\xd8\\xff?\\x9d0\\x83\\x99\\x86%\\xd4\\xbf[rp$!\\xcb\\xd6?\\xfb\\x97O\\x9a\\x0fA\\xd2\\xbf\\xe6\\x1eE\\xc3\\xd2\"\\xe4\\xbf\\xec=\\x8f\\x9d\\xd6n\\xea\\xbf\\xce[\\xfb\"p\\x05\\xa8?V\\x14& \\xfbo\\xc3\\xbf\\xb8\\x8b\\x8bq\\xb9t\\xef?'"
      ]
     },
     "execution_count": 106,
     "metadata": {},
     "output_type": "execute_result"
    }
   ],
   "source": [
    "data"
   ]
  },
  {
   "cell_type": "code",
   "execution_count": 109,
   "metadata": {},
   "outputs": [
    {
     "data": {
      "text/plain": [
       "array([ 3.20961041e-01,  1.42306893e+00,  1.37336208e+00, -2.04880924e+00,\n",
       "       -8.15807624e-01, -4.60096254e-01, -9.45303721e-01, -5.49321977e-01,\n",
       "        6.12218166e-04, -9.32893432e-01, -1.28729729e+00, -6.99704999e-01,\n",
       "        2.07689741e+00,  1.24633913e+00,  4.33674125e-01, -1.67687385e+00,\n",
       "       -1.01773540e-02,  2.69048811e-02,  1.69772217e+00,  4.82615244e-01,\n",
       "       -1.45518925e-01, -1.00986141e+00, -1.29542081e+00,  1.71425525e-01,\n",
       "       -2.58264239e-01,  4.79555318e-01, -1.86907402e-01, -4.93843602e-01,\n",
       "        1.14359117e+00, -1.79322307e+00,  2.26929669e-01,  2.73596875e-01,\n",
       "        1.18465208e+00,  1.08743485e+00, -3.63808521e-01, -5.63675438e-01,\n",
       "       -2.74968521e-01,  1.64563033e+00, -8.64259705e-01,  9.84156216e-01,\n",
       "       -2.36062931e+00, -7.58957769e-01,  1.02245354e+00,  1.31774474e-02,\n",
       "       -4.44465300e-01,  5.22244686e-01,  5.27631157e-01,  2.87276629e-01,\n",
       "       -6.08488194e-01,  1.27728211e+00,  4.98885289e-02, -5.84454102e-01,\n",
       "       -1.75579579e-01,  1.99224522e+00,  5.74453603e-01,  6.42012434e-01,\n",
       "        2.34678462e-01,  1.53510675e+00,  1.06587120e+00, -1.18988737e+00,\n",
       "       -1.00740754e+00, -6.82295638e-01,  2.34652491e-01, -6.25637038e-01,\n",
       "        7.23641838e-01, -2.81331027e-01, -1.56991409e+00, -3.19457862e-01,\n",
       "       -6.62176952e-01, -1.78226064e-02,  1.85156561e+00,  1.99047087e+00,\n",
       "       -3.14790392e-01,  3.56148038e-01, -2.85221005e-01, -6.29250890e-01,\n",
       "       -8.26030071e-01,  4.69164889e-02, -1.51854888e-01,  9.82998583e-01])"
      ]
     },
     "execution_count": 109,
     "metadata": {},
     "output_type": "execute_result"
    }
   ],
   "source": [
    "np.frombuffer(data, dtype=np.float64)"
   ]
  },
  {
   "cell_type": "code",
   "execution_count": 121,
   "metadata": {},
   "outputs": [],
   "source": [
    "# 快速生成数组\n",
    "a = np.arange(0, 100, 1).reshape([-1, 20])"
   ]
  },
  {
   "cell_type": "code",
   "execution_count": 124,
   "metadata": {},
   "outputs": [
    {
     "data": {
      "text/plain": [
       "(5, 20)"
      ]
     },
     "execution_count": 124,
     "metadata": {},
     "output_type": "execute_result"
    }
   ],
   "source": [
    "a.shape"
   ]
  },
  {
   "cell_type": "code",
   "execution_count": 127,
   "metadata": {},
   "outputs": [
    {
     "data": {
      "text/plain": [
       "(20, 5)"
      ]
     },
     "execution_count": 127,
     "metadata": {},
     "output_type": "execute_result"
    }
   ],
   "source": [
    "# 数组的转置\n",
    "a.T.shape"
   ]
  },
  {
   "cell_type": "code",
   "execution_count": 132,
   "metadata": {},
   "outputs": [
    {
     "data": {
      "text/plain": [
       "array([[1, 2, 3, 5, 5],\n",
       "       [3, 4, 6, 5, 7]])"
      ]
     },
     "execution_count": 132,
     "metadata": {},
     "output_type": "execute_result"
    }
   ],
   "source": [
    "# 数组的去重\n",
    "temp = np.array([[1, 2, 3, 5, 5], [3, 4, 6, 5, 7]])\n",
    "temp"
   ]
  },
  {
   "cell_type": "code",
   "execution_count": 133,
   "metadata": {},
   "outputs": [
    {
     "data": {
      "text/plain": [
       "array([1, 2, 3, 4, 5, 6, 7])"
      ]
     },
     "execution_count": 133,
     "metadata": {},
     "output_type": "execute_result"
    }
   ],
   "source": [
    "# unique 去重, 会把重复数据删除，并压缩成一维数组\n",
    "np.unique(temp)"
   ]
  },
  {
   "cell_type": "markdown",
   "metadata": {},
   "source": [
    "# ndarray运算"
   ]
  },
  {
   "cell_type": "code",
   "execution_count": 134,
   "metadata": {},
   "outputs": [],
   "source": [
    "stock_change = np.random.normal(0, 1, (8, 10))"
   ]
  },
  {
   "cell_type": "code",
   "execution_count": 135,
   "metadata": {},
   "outputs": [],
   "source": [
    "stock_change = stock_change[:5, :5]"
   ]
  },
  {
   "cell_type": "code",
   "execution_count": 136,
   "metadata": {},
   "outputs": [
    {
     "data": {
      "text/plain": [
       "array([[False, False, False, False, False],\n",
       "       [False, False, False, False, False],\n",
       "       [ True, False, False, False, False],\n",
       "       [False,  True, False, False, False],\n",
       "       [False,  True,  True, False, False]])"
      ]
     },
     "execution_count": 136,
     "metadata": {},
     "output_type": "execute_result"
    }
   ],
   "source": [
    "stock_change > 0.5"
   ]
  },
  {
   "cell_type": "code",
   "execution_count": 137,
   "metadata": {},
   "outputs": [],
   "source": [
    "stock_change[stock_change > 0.5] = 1"
   ]
  },
  {
   "cell_type": "code",
   "execution_count": 138,
   "metadata": {},
   "outputs": [
    {
     "data": {
      "text/plain": [
       "array([[-0.71368926, -0.22110138, -0.32649424,  0.30115117, -1.9303353 ],\n",
       "       [ 0.24519358,  0.29612651, -1.64531758, -0.18550428, -0.41748935],\n",
       "       [ 1.        ,  0.15250658, -0.38016608,  0.39195909, -0.34680728],\n",
       "       [ 0.12134161,  1.        , -0.47778194,  0.49578557,  0.43626164],\n",
       "       [-0.53198497,  1.        ,  1.        ,  0.04465684, -0.82336857]])"
      ]
     },
     "execution_count": 138,
     "metadata": {},
     "output_type": "execute_result"
    }
   ],
   "source": [
    "stock_change"
   ]
  },
  {
   "cell_type": "markdown",
   "metadata": {},
   "source": [
    "## 通用判断\n",
    "- np.all() 必选全部满足条件才返回True\n",
    "- np.any() 只要有一个满足条件就返回True"
   ]
  },
  {
   "cell_type": "code",
   "execution_count": 139,
   "metadata": {},
   "outputs": [
    {
     "data": {
      "text/plain": [
       "False"
      ]
     },
     "execution_count": 139,
     "metadata": {},
     "output_type": "execute_result"
    }
   ],
   "source": [
    "np.all(stock_change[0:2, 0:5] > 0.5)"
   ]
  },
  {
   "cell_type": "code",
   "execution_count": 142,
   "metadata": {},
   "outputs": [
    {
     "data": {
      "text/plain": [
       "True"
      ]
     },
     "execution_count": 142,
     "metadata": {},
     "output_type": "execute_result"
    }
   ],
   "source": [
    "np.any(stock_change[0:3, 0:5] > 0.5)"
   ]
  },
  {
   "cell_type": "markdown",
   "metadata": {},
   "source": [
    "# 三元运算符\n",
    "np.where(条件，　成立返回的值，　不成立返回的值)"
   ]
  },
  {
   "cell_type": "code",
   "execution_count": 143,
   "metadata": {},
   "outputs": [],
   "source": [
    "temp = np.where(stock_change[0:4, 0:5] > 0, 1, 0)"
   ]
  },
  {
   "cell_type": "code",
   "execution_count": 144,
   "metadata": {},
   "outputs": [
    {
     "data": {
      "text/plain": [
       "array([[0, 0, 0, 1, 0],\n",
       "       [1, 1, 0, 0, 0],\n",
       "       [1, 1, 0, 1, 0],\n",
       "       [1, 1, 0, 1, 1]])"
      ]
     },
     "execution_count": 144,
     "metadata": {},
     "output_type": "execute_result"
    }
   ],
   "source": [
    "temp"
   ]
  },
  {
   "cell_type": "code",
   "execution_count": 145,
   "metadata": {},
   "outputs": [
    {
     "data": {
      "text/plain": [
       "array([[-0.71368926, -0.22110138, -0.32649424,  0.30115117, -1.9303353 ],\n",
       "       [ 0.24519358,  0.29612651, -1.64531758, -0.18550428, -0.41748935],\n",
       "       [ 1.        ,  0.15250658, -0.38016608,  0.39195909, -0.34680728],\n",
       "       [ 0.12134161,  1.        , -0.47778194,  0.49578557,  0.43626164],\n",
       "       [-0.53198497,  1.        ,  1.        ,  0.04465684, -0.82336857]])"
      ]
     },
     "execution_count": 145,
     "metadata": {},
     "output_type": "execute_result"
    }
   ],
   "source": [
    "stock_change"
   ]
  },
  {
   "cell_type": "code",
   "execution_count": 147,
   "metadata": {},
   "outputs": [],
   "source": [
    "stock_change = np.random.normal(0, 1, (5, 5))"
   ]
  },
  {
   "cell_type": "code",
   "execution_count": 148,
   "metadata": {},
   "outputs": [
    {
     "data": {
      "text/plain": [
       "array([[-0.46239874, -1.06356438,  0.40400655, -0.59435763, -1.51744606],\n",
       "       [-0.34829834,  1.83740536, -0.59715278,  0.48720057, -0.23088663],\n",
       "       [ 0.55053305, -0.34174712, -0.65264629,  0.80647753, -0.56198701],\n",
       "       [ 0.40470974, -1.31511542, -0.59769104, -0.52832647,  0.27566249],\n",
       "       [ 0.02441437,  1.63180823,  1.18700395, -0.33727366, -1.31100737]])"
      ]
     },
     "execution_count": 148,
     "metadata": {},
     "output_type": "execute_result"
    }
   ],
   "source": [
    "stock_change"
   ]
  },
  {
   "cell_type": "markdown",
   "metadata": {},
   "source": [
    "# 统计运算\n",
    "- min()           最小值\n",
    "- max()　　　　　　　最大值\n",
    "- median()　　　　　\n",
    "- mean()         平均值\n",
    "- std()　　　　　　平均\n",
    "- var()　　　　　　标准差"
   ]
  },
  {
   "cell_type": "code",
   "execution_count": 152,
   "metadata": {},
   "outputs": [
    {
     "data": {
      "text/plain": [
       "array([-1.51744606, -0.59715278, -0.65264629, -1.31511542, -1.31100737])"
      ]
     },
     "execution_count": 152,
     "metadata": {},
     "output_type": "execute_result"
    }
   ],
   "source": [
    "# axis=0 是求这张表的所有的最小值，　axis=1是求这一行的最小值\n",
    "np.min(stock_change, axis=1)"
   ]
  },
  {
   "cell_type": "code",
   "execution_count": 153,
   "metadata": {},
   "outputs": [
    {
     "data": {
      "text/plain": [
       "1.8374053632521046"
      ]
     },
     "execution_count": 153,
     "metadata": {},
     "output_type": "execute_result"
    }
   ],
   "source": [
    "np.max(stock_change)"
   ]
  },
  {
   "cell_type": "code",
   "execution_count": 155,
   "metadata": {},
   "outputs": [
    {
     "data": {
      "text/plain": [
       "array([0.40400655, 1.83740536, 0.80647753, 0.40470974, 1.63180823])"
      ]
     },
     "execution_count": 155,
     "metadata": {},
     "output_type": "execute_result"
    }
   ],
   "source": [
    "np.max(stock_change, axis=1)"
   ]
  },
  {
   "cell_type": "code",
   "execution_count": 156,
   "metadata": {},
   "outputs": [
    {
     "data": {
      "text/plain": [
       "-0.34174711885284853"
      ]
     },
     "execution_count": 156,
     "metadata": {},
     "output_type": "execute_result"
    }
   ],
   "source": [
    "np.median(stock_change)"
   ]
  },
  {
   "cell_type": "code",
   "execution_count": 157,
   "metadata": {},
   "outputs": [
    {
     "data": {
      "text/plain": [
       "array([-0.59435763, -0.23088663, -0.34174712, -0.52832647,  0.02441437])"
      ]
     },
     "execution_count": 157,
     "metadata": {},
     "output_type": "execute_result"
    }
   ],
   "source": [
    "np.median(stock_change, axis=1)"
   ]
  },
  {
   "cell_type": "code",
   "execution_count": 158,
   "metadata": {},
   "outputs": [
    {
     "data": {
      "text/plain": [
       "-0.11402708427658823"
      ]
     },
     "execution_count": 158,
     "metadata": {},
     "output_type": "execute_result"
    }
   ],
   "source": [
    "np.mean(stock_change)"
   ]
  },
  {
   "cell_type": "code",
   "execution_count": 159,
   "metadata": {},
   "outputs": [
    {
     "data": {
      "text/plain": [
       "array([-0.64675205,  0.22965364, -0.03987397, -0.35215214,  0.2389891 ])"
      ]
     },
     "execution_count": 159,
     "metadata": {},
     "output_type": "execute_result"
    }
   ],
   "source": [
    "np.mean(stock_change, axis=1)"
   ]
  },
  {
   "cell_type": "code",
   "execution_count": 163,
   "metadata": {},
   "outputs": [
    {
     "data": {
      "text/plain": [
       "-0.646752053065643"
      ]
     },
     "execution_count": 163,
     "metadata": {},
     "output_type": "execute_result"
    }
   ],
   "source": [
    "(stock_change[:1].sum())/5"
   ]
  },
  {
   "cell_type": "code",
   "execution_count": 165,
   "metadata": {},
   "outputs": [
    {
     "data": {
      "text/plain": [
       "array([0.64384245, 0.88101427, 0.60068472, 0.63017714, 1.06012145])"
      ]
     },
     "execution_count": 165,
     "metadata": {},
     "output_type": "execute_result"
    }
   ],
   "source": [
    "np.std(stock_change, axis=1)"
   ]
  },
  {
   "cell_type": "code",
   "execution_count": 166,
   "metadata": {},
   "outputs": [
    {
     "data": {
      "text/plain": [
       "array([0.41453311, 0.77618614, 0.36082213, 0.39712323, 1.12385748])"
      ]
     },
     "execution_count": 166,
     "metadata": {},
     "output_type": "execute_result"
    }
   ],
   "source": [
    "\n",
    "np.var(stock_change, axis=1)"
   ]
  },
  {
   "cell_type": "markdown",
   "metadata": {},
   "source": [
    "# 数组与数之间的运算\n"
   ]
  },
  {
   "cell_type": "code",
   "execution_count": 168,
   "metadata": {},
   "outputs": [
    {
     "data": {
      "text/plain": [
       "array([[ 2,  4,  6,  4,  2,  8],\n",
       "       [10, 12,  2,  4,  6,  2]])"
      ]
     },
     "execution_count": 168,
     "metadata": {},
     "output_type": "execute_result"
    }
   ],
   "source": [
    "arr = np.array([[1, 2, 3, 2, 1, 4], [5, 6, 1, 2, 3, 1]])\n",
    "arr * 2"
   ]
  },
  {
   "cell_type": "code",
   "execution_count": 170,
   "metadata": {},
   "outputs": [
    {
     "data": {
      "text/plain": [
       "[1, 2, 3, 4, 1, 2, 3, 4]"
      ]
     },
     "execution_count": 170,
     "metadata": {},
     "output_type": "execute_result"
    }
   ],
   "source": [
    "# python 是进行重复的添加, 还不加，只能列表加列表，　而array就是数学的运算\n",
    "alist = [1, 2, 3, 4]\n",
    "alist * 2"
   ]
  },
  {
   "cell_type": "code",
   "execution_count": 177,
   "metadata": {},
   "outputs": [
    {
     "data": {
      "text/plain": [
       "[1, 2, 3, 4, 1, 2]"
      ]
     },
     "execution_count": 177,
     "metadata": {},
     "output_type": "execute_result"
    }
   ],
   "source": [
    "blist = [1, 2]\n",
    "alist + blist"
   ]
  },
  {
   "cell_type": "markdown",
   "metadata": {},
   "source": [
    "# 广播机制\n",
    "- array 如果维度不一样的时候相加，就看是不是广播机制，如果可以用广播机制就能相加\n",
    "- 最的维度是相同的，　或者两个其中一个出现１　就能计算\n",
    "- 如果广播机制还不能计算，相加就会报错"
   ]
  },
  {
   "cell_type": "code",
   "execution_count": 179,
   "metadata": {},
   "outputs": [
    {
     "name": "stdout",
     "output_type": "stream",
     "text": [
      "(1, 2, 3)\n",
      "(2, 1)\n"
     ]
    },
    {
     "data": {
      "text/plain": [
       "array([[[3, 4, 5],\n",
       "        [4, 6, 8]]])"
      ]
     },
     "execution_count": 179,
     "metadata": {},
     "output_type": "execute_result"
    }
   ],
   "source": [
    "a = np.array([[[1, 2, 3], [1, 3, 5]]])\n",
    "b = np.array([[2], [3]])\n",
    "print(a.shape)\n",
    "print(b.shape)\n",
    "a + b"
   ]
  },
  {
   "cell_type": "markdown",
   "metadata": {},
   "source": [
    "# 矩阵运算\n",
    "## 什么是矩阵？\n",
    "- 矩阵是一种特殊的二维数据\n",
    "## 矩阵的乘法\n",
    "- (M行，Ｎ列）　＊　（Ｎ行，　Ｌ列）　＝　（Ｍ行，　Ｌ列）"
   ]
  },
  {
   "cell_type": "code",
   "execution_count": 181,
   "metadata": {},
   "outputs": [],
   "source": [
    "a = np.array([[80, 86],\n",
    "[82, 80],\n",
    "[85, 78],\n",
    "[90, 90],\n",
    "[86, 82],\n",
    "[82, 90],\n",
    "[78, 80],\n",
    "[92, 94]])\n",
    "b = np.array([[0.7], [0.3]])"
   ]
  },
  {
   "cell_type": "code",
   "execution_count": 190,
   "metadata": {},
   "outputs": [
    {
     "data": {
      "text/plain": [
       "array([[81.8],\n",
       "       [81.4],\n",
       "       [82.9],\n",
       "       [90. ],\n",
       "       [84.8],\n",
       "       [84.4],\n",
       "       [78.6],\n",
       "       [92.6]])"
      ]
     },
     "execution_count": 190,
     "metadata": {},
     "output_type": "execute_result"
    }
   ],
   "source": [
    "# 转换成矩阵\n",
    "np.matmul(a, b)"
   ]
  },
  {
   "cell_type": "code",
   "execution_count": 191,
   "metadata": {},
   "outputs": [
    {
     "data": {
      "text/plain": [
       "array([[81.8],\n",
       "       [81.4],\n",
       "       [82.9],\n",
       "       [90. ],\n",
       "       [84.8],\n",
       "       [84.4],\n",
       "       [78.6],\n",
       "       [92.6]])"
      ]
     },
     "execution_count": 191,
     "metadata": {},
     "output_type": "execute_result"
    }
   ],
   "source": [
    "np.dot(a, b)"
   ]
  },
  {
   "cell_type": "markdown",
   "metadata": {},
   "source": [
    "# 合并, 分割"
   ]
  },
  {
   "cell_type": "code",
   "execution_count": 208,
   "metadata": {},
   "outputs": [],
   "source": [
    "a = np.array([[1, 3], [4, 5]])\n",
    "b = np.array([[5, 6], [7, 8]])"
   ]
  },
  {
   "cell_type": "code",
   "execution_count": 196,
   "metadata": {},
   "outputs": [],
   "source": [
    "c = np.array((1, 2, 3))"
   ]
  },
  {
   "cell_type": "code",
   "execution_count": 198,
   "metadata": {},
   "outputs": [],
   "source": [
    "d = np.array((1, 2, 3))"
   ]
  },
  {
   "cell_type": "code",
   "execution_count": 200,
   "metadata": {},
   "outputs": [
    {
     "data": {
      "text/plain": [
       "array([1, 2, 3, 1, 2, 3])"
      ]
     },
     "execution_count": 200,
     "metadata": {},
     "output_type": "execute_result"
    }
   ],
   "source": [
    "np.hstack((c, d))"
   ]
  },
  {
   "cell_type": "code",
   "execution_count": 201,
   "metadata": {},
   "outputs": [
    {
     "data": {
      "text/plain": [
       "array([[1, 2, 3],\n",
       "       [1, 2, 3]])"
      ]
     },
     "execution_count": 201,
     "metadata": {},
     "output_type": "execute_result"
    }
   ],
   "source": [
    "np.vstack((c, d))"
   ]
  },
  {
   "cell_type": "code",
   "execution_count": 210,
   "metadata": {},
   "outputs": [
    {
     "data": {
      "text/plain": [
       "array([[1, 3, 5, 6],\n",
       "       [4, 5, 7, 8]])"
      ]
     },
     "execution_count": 210,
     "metadata": {},
     "output_type": "execute_result"
    }
   ],
   "source": [
    "np.concatenate((a, b), axis=1)"
   ]
  },
  {
   "cell_type": "code",
   "execution_count": 212,
   "metadata": {},
   "outputs": [
    {
     "data": {
      "text/plain": [
       "array([[1, 3, 5, 6],\n",
       "       [4, 5, 7, 8]])"
      ]
     },
     "execution_count": 212,
     "metadata": {},
     "output_type": "execute_result"
    }
   ],
   "source": [
    "# 列合并\n",
    "np.hstack((a, b))"
   ]
  },
  {
   "cell_type": "code",
   "execution_count": 214,
   "metadata": {},
   "outputs": [],
   "source": [
    "# 行合并\n",
    "aa = np.vstack((a, b))"
   ]
  },
  {
   "cell_type": "code",
   "execution_count": 215,
   "metadata": {},
   "outputs": [
    {
     "data": {
      "text/plain": [
       "(4, 2)"
      ]
     },
     "execution_count": 215,
     "metadata": {},
     "output_type": "execute_result"
    }
   ],
   "source": [
    "aa.shape"
   ]
  },
  {
   "cell_type": "code",
   "execution_count": 216,
   "metadata": {},
   "outputs": [
    {
     "data": {
      "text/plain": [
       "8"
      ]
     },
     "execution_count": 216,
     "metadata": {},
     "output_type": "execute_result"
    }
   ],
   "source": [
    "aa.size"
   ]
  },
  {
   "cell_type": "code",
   "execution_count": 217,
   "metadata": {},
   "outputs": [
    {
     "data": {
      "text/plain": [
       "array([0., 1., 2., 3., 4., 5., 6., 7., 8.])"
      ]
     },
     "execution_count": 217,
     "metadata": {},
     "output_type": "execute_result"
    }
   ],
   "source": [
    "x = np.arange(9.0)\n",
    "x"
   ]
  },
  {
   "cell_type": "code",
   "execution_count": 218,
   "metadata": {},
   "outputs": [
    {
     "data": {
      "text/plain": [
       "[array([0., 1., 2.]), array([3., 4., 5.]), array([6., 7., 8.])]"
      ]
     },
     "execution_count": 218,
     "metadata": {},
     "output_type": "execute_result"
    }
   ],
   "source": [
    "np.split(x, 3)"
   ]
  },
  {
   "cell_type": "markdown",
   "metadata": {},
   "source": [
    "# 读取文件，操作数据"
   ]
  },
  {
   "cell_type": "code",
   "execution_count": 223,
   "metadata": {},
   "outputs": [],
   "source": [
    "test = np.genfromtxt(\"test.csv\", delimiter=',', skip_header=1)\n"
   ]
  },
  {
   "cell_type": "code",
   "execution_count": 224,
   "metadata": {},
   "outputs": [
    {
     "data": {
      "text/plain": [
       "array([[  1. , 123. ,   1.4,  23. ],\n",
       "       [  2. , 110. ,   nan,  18. ],\n",
       "       [  3. ,   nan,   2.1,  19. ]])"
      ]
     },
     "execution_count": 224,
     "metadata": {},
     "output_type": "execute_result"
    }
   ],
   "source": [
    "test\n"
   ]
  },
  {
   "cell_type": "code",
   "execution_count": 222,
   "metadata": {},
   "outputs": [],
   "source": []
  },
  {
   "cell_type": "code",
   "execution_count": null,
   "metadata": {},
   "outputs": [],
   "source": []
  }
 ],
 "metadata": {
  "kernelspec": {
   "display_name": "Python 3",
   "language": "python",
   "name": "python3"
  },
  "language_info": {
   "codemirror_mode": {
    "name": "ipython",
    "version": 3
   },
   "file_extension": ".py",
   "mimetype": "text/x-python",
   "name": "python",
   "nbconvert_exporter": "python",
   "pygments_lexer": "ipython3",
   "version": "3.5.2"
  }
 },
 "nbformat": 4,
 "nbformat_minor": 2
}
