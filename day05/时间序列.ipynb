{
 "cells": [
  {
   "cell_type": "markdown",
   "metadata": {},
   "source": [
    "# 什么是时间序列\n",
    "- 时间序列是一组按照时间发生先后顺序进行排列的数据点序列\n",
    "## pandas 时间类型\n",
    "- pd.to_datetime('')       把字符串转换成时间序列"
   ]
  },
  {
   "cell_type": "code",
   "execution_count": 11,
   "metadata": {},
   "outputs": [],
   "source": [
    "import pandas as pd\n",
    "import numpy as np"
   ]
  },
  {
   "cell_type": "code",
   "execution_count": 3,
   "metadata": {},
   "outputs": [
    {
     "data": {
      "text/plain": [
       "Timestamp('2018-01-01 00:00:00')"
      ]
     },
     "execution_count": 3,
     "metadata": {},
     "output_type": "execute_result"
    }
   ],
   "source": [
    "# 最标准的转换\n",
    "pd.to_datetime('2018-01-01')"
   ]
  },
  {
   "cell_type": "code",
   "execution_count": 4,
   "metadata": {},
   "outputs": [
    {
     "data": {
      "text/plain": [
       "Timestamp('2018-01-01 00:00:00')"
      ]
     },
     "execution_count": 4,
     "metadata": {},
     "output_type": "execute_result"
    }
   ],
   "source": [
    "# 其他转换方式\n",
    "pd.to_datetime('20180101')"
   ]
  },
  {
   "cell_type": "code",
   "execution_count": 5,
   "metadata": {},
   "outputs": [
    {
     "data": {
      "text/plain": [
       "Timestamp('2018-01-02 00:00:00')"
      ]
     },
     "execution_count": 5,
     "metadata": {},
     "output_type": "execute_result"
    }
   ],
   "source": [
    "pd.to_datetime('01/02/2018')"
   ]
  },
  {
   "cell_type": "markdown",
   "metadata": {},
   "source": [
    "# pandas 时间序列类型\n"
   ]
  },
  {
   "cell_type": "code",
   "execution_count": 6,
   "metadata": {},
   "outputs": [],
   "source": [
    "from datetime import datetime"
   ]
  },
  {
   "cell_type": "code",
   "execution_count": 7,
   "metadata": {},
   "outputs": [
    {
     "data": {
      "text/plain": [
       "DatetimeIndex(['2018-01-02', '2018-01-05', '2018-08-08'], dtype='datetime64[ns]', freq=None)"
      ]
     },
     "execution_count": 7,
     "metadata": {},
     "output_type": "execute_result"
    }
   ],
   "source": [
    "date1 = ['2018-01-02', '2018-01-05', '2018-08-08']\n",
    "pd.to_datetime(date1)"
   ]
  },
  {
   "cell_type": "code",
   "execution_count": 8,
   "metadata": {},
   "outputs": [
    {
     "data": {
      "text/plain": [
       "datetime.datetime(2018, 3, 1, 0, 0)"
      ]
     },
     "execution_count": 8,
     "metadata": {},
     "output_type": "execute_result"
    }
   ],
   "source": [
    "datetime(2018, 3, 1)"
   ]
  },
  {
   "cell_type": "code",
   "execution_count": 9,
   "metadata": {},
   "outputs": [],
   "source": [
    "date2 = [datetime(2018, 2, 5), datetime(2018, 8, 9), datetime(2018, 8, 19)]"
   ]
  },
  {
   "cell_type": "code",
   "execution_count": 10,
   "metadata": {},
   "outputs": [
    {
     "data": {
      "text/plain": [
       "DatetimeIndex(['2018-02-05', '2018-08-09', '2018-08-19'], dtype='datetime64[ns]', freq=None)"
      ]
     },
     "execution_count": 10,
     "metadata": {},
     "output_type": "execute_result"
    }
   ],
   "source": [
    "pd.to_datetime(date2)"
   ]
  },
  {
   "cell_type": "code",
   "execution_count": 12,
   "metadata": {},
   "outputs": [],
   "source": [
    "date3 = [datetime(2018, 2, 5), datetime(2018, 8, 9), datetime(2018, 8, 19), np.nan]"
   ]
  },
  {
   "cell_type": "code",
   "execution_count": 13,
   "metadata": {},
   "outputs": [
    {
     "data": {
      "text/plain": [
       "DatetimeIndex(['2018-02-05', '2018-08-09', '2018-08-19', 'NaT'], dtype='datetime64[ns]', freq=None)"
      ]
     },
     "execution_count": 13,
     "metadata": {},
     "output_type": "execute_result"
    }
   ],
   "source": [
    "pd.to_datetime(date3)"
   ]
  },
  {
   "cell_type": "markdown",
   "metadata": {},
   "source": [
    "- np.nan 类型会显示成NaT类型"
   ]
  },
  {
   "cell_type": "code",
   "execution_count": 15,
   "metadata": {},
   "outputs": [
    {
     "data": {
      "text/plain": [
       "array(['2018-02-05T00:00:00.000000000', '2018-08-09T00:00:00.000000000',\n",
       "       '2018-08-19T00:00:00.000000000',                           'NaT'],\n",
       "      dtype='datetime64[ns]')"
      ]
     },
     "execution_count": 15,
     "metadata": {},
     "output_type": "execute_result"
    }
   ],
   "source": [
    "pd.to_datetime(date3).values"
   ]
  },
  {
   "cell_type": "code",
   "execution_count": 16,
   "metadata": {},
   "outputs": [],
   "source": [
    "series_date = pd.Series(3.0, index=date1)"
   ]
  },
  {
   "cell_type": "code",
   "execution_count": 17,
   "metadata": {},
   "outputs": [
    {
     "data": {
      "text/plain": [
       "2018-01-02    3.0\n",
       "2018-01-05    3.0\n",
       "2018-08-08    3.0\n",
       "dtype: float64"
      ]
     },
     "execution_count": 17,
     "metadata": {},
     "output_type": "execute_result"
    }
   ],
   "source": [
    "series_date"
   ]
  },
  {
   "cell_type": "code",
   "execution_count": 18,
   "metadata": {},
   "outputs": [
    {
     "data": {
      "text/plain": [
       "array([3., 3., 3.])"
      ]
     },
     "execution_count": 18,
     "metadata": {},
     "output_type": "execute_result"
    }
   ],
   "source": [
    "series_date.values"
   ]
  },
  {
   "cell_type": "code",
   "execution_count": 21,
   "metadata": {},
   "outputs": [
    {
     "data": {
      "text/plain": [
       "2018-01-02   1970-01-01 00:00:00.000000003\n",
       "2018-01-05   1970-01-01 00:00:00.000000003\n",
       "2018-08-08   1970-01-01 00:00:00.000000003\n",
       "dtype: datetime64[ns]"
      ]
     },
     "execution_count": 21,
     "metadata": {},
     "output_type": "execute_result"
    }
   ],
   "source": [
    "pd.to_datetime(series_date)"
   ]
  },
  {
   "cell_type": "code",
   "execution_count": 22,
   "metadata": {},
   "outputs": [
    {
     "data": {
      "text/plain": [
       "array(['1970-01-01T00:00:00.000000003', '1970-01-01T00:00:00.000000003',\n",
       "       '1970-01-01T00:00:00.000000003'], dtype='datetime64[ns]')"
      ]
     },
     "execution_count": 22,
     "metadata": {},
     "output_type": "execute_result"
    }
   ],
   "source": [
    "pd.to_datetime(series_date).values"
   ]
  },
  {
   "cell_type": "markdown",
   "metadata": {},
   "source": [
    "# pandas生成指定的时间序列\n",
    "- pd.date_range(start, end,periods,freq,tz)\n",
    "- periods 产生多长\n",
    "- freq 频率 D,H,Q等\n",
    "- tz 时区\n",
    "- 参数\t含义\n",
    "- D\t     每日\n",
    "- B\t     每工作日\n",
    "- H、T或者min、S\t时、分、秒\n",
    "- M\t     每月最后一天\n",
    "- BM\t 每月最后一个工作日\n",
    "- WOM-1MON, WOM-3FRI\t每月第几周的星期几"
   ]
  },
  {
   "cell_type": "code",
   "execution_count": 25,
   "metadata": {},
   "outputs": [
    {
     "data": {
      "text/plain": [
       "DatetimeIndex(['2017-01-02', '2017-01-03', '2017-01-04', '2017-01-05',\n",
       "               '2017-01-06', '2017-01-07', '2017-01-08', '2017-01-09',\n",
       "               '2017-01-10', '2017-01-11',\n",
       "               ...\n",
       "               '2017-12-21', '2017-12-22', '2017-12-23', '2017-12-24',\n",
       "               '2017-12-25', '2017-12-26', '2017-12-27', '2017-12-28',\n",
       "               '2017-12-29', '2017-12-30'],\n",
       "              dtype='datetime64[ns]', length=363, freq='D')"
      ]
     },
     "execution_count": 25,
     "metadata": {},
     "output_type": "execute_result"
    }
   ],
   "source": [
    "pd.date_range('2017-01-02', '2017-12-30')"
   ]
  },
  {
   "cell_type": "code",
   "execution_count": 26,
   "metadata": {},
   "outputs": [
    {
     "data": {
      "text/plain": [
       "DatetimeIndex(['2017-01-02', '2017-01-03', '2017-01-04', '2017-01-05',\n",
       "               '2017-01-06', '2017-01-09', '2017-01-10', '2017-01-11',\n",
       "               '2017-01-12', '2017-01-13',\n",
       "               ...\n",
       "               '2017-12-18', '2017-12-19', '2017-12-20', '2017-12-21',\n",
       "               '2017-12-22', '2017-12-25', '2017-12-26', '2017-12-27',\n",
       "               '2017-12-28', '2017-12-29'],\n",
       "              dtype='datetime64[ns]', length=260, freq='B')"
      ]
     },
     "execution_count": 26,
     "metadata": {},
     "output_type": "execute_result"
    }
   ],
   "source": [
    "pd.date_range('2017-01-02', '2017-12-30', freq='B')"
   ]
  },
  {
   "cell_type": "code",
   "execution_count": 29,
   "metadata": {},
   "outputs": [
    {
     "data": {
      "text/plain": [
       "DatetimeIndex(['2016-01-01', '2016-01-04', '2016-01-05', '2016-01-06',\n",
       "               '2016-01-07', '2016-01-08', '2016-01-11', '2016-01-12',\n",
       "               '2016-01-13', '2016-01-14',\n",
       "               ...\n",
       "               '2017-11-23', '2017-11-24', '2017-11-27', '2017-11-28',\n",
       "               '2017-11-29', '2017-11-30', '2017-12-01', '2017-12-04',\n",
       "               '2017-12-05', '2017-12-06'],\n",
       "              dtype='datetime64[ns]', length=504, freq='B')"
      ]
     },
     "execution_count": 29,
     "metadata": {},
     "output_type": "execute_result"
    }
   ],
   "source": [
    "pd.date_range('2016-01-01', periods=504, freq='B')"
   ]
  },
  {
   "cell_type": "code",
   "execution_count": 30,
   "metadata": {
    "scrolled": true
   },
   "outputs": [
    {
     "data": {
      "text/plain": [
       "DatetimeIndex(['2018-01-01 00:00:00', '2018-01-01 01:00:00',\n",
       "               '2018-01-01 02:00:00', '2018-01-01 03:00:00',\n",
       "               '2018-01-01 04:00:00', '2018-01-01 05:00:00',\n",
       "               '2018-01-01 06:00:00', '2018-01-01 07:00:00',\n",
       "               '2018-01-01 08:00:00', '2018-01-01 09:00:00',\n",
       "               ...\n",
       "               '2018-07-31 15:00:00', '2018-07-31 16:00:00',\n",
       "               '2018-07-31 17:00:00', '2018-07-31 18:00:00',\n",
       "               '2018-07-31 19:00:00', '2018-07-31 20:00:00',\n",
       "               '2018-07-31 21:00:00', '2018-07-31 22:00:00',\n",
       "               '2018-07-31 23:00:00', '2018-08-01 00:00:00'],\n",
       "              dtype='datetime64[ns]', length=5089, freq='H')"
      ]
     },
     "execution_count": 30,
     "metadata": {},
     "output_type": "execute_result"
    }
   ],
   "source": [
    "pd.date_range('2018-01-01', '2018-08-01', freq='H')"
   ]
  },
  {
   "cell_type": "code",
   "execution_count": 31,
   "metadata": {},
   "outputs": [
    {
     "data": {
      "text/plain": [
       "DatetimeIndex(['2018-01-01 00:00:00', '2018-01-01 03:00:00',\n",
       "               '2018-01-01 06:00:00', '2018-01-01 09:00:00',\n",
       "               '2018-01-01 12:00:00', '2018-01-01 15:00:00',\n",
       "               '2018-01-01 18:00:00', '2018-01-01 21:00:00',\n",
       "               '2018-01-02 00:00:00', '2018-01-02 03:00:00',\n",
       "               ...\n",
       "               '2018-07-30 21:00:00', '2018-07-31 00:00:00',\n",
       "               '2018-07-31 03:00:00', '2018-07-31 06:00:00',\n",
       "               '2018-07-31 09:00:00', '2018-07-31 12:00:00',\n",
       "               '2018-07-31 15:00:00', '2018-07-31 18:00:00',\n",
       "               '2018-07-31 21:00:00', '2018-08-01 00:00:00'],\n",
       "              dtype='datetime64[ns]', length=1697, freq='3H')"
      ]
     },
     "execution_count": 31,
     "metadata": {},
     "output_type": "execute_result"
    }
   ],
   "source": [
    "pd.date_range('2018-01-01', '2018-08-01', freq='3H')"
   ]
  },
  {
   "cell_type": "code",
   "execution_count": 33,
   "metadata": {},
   "outputs": [
    {
     "data": {
      "text/plain": [
       "DatetimeIndex(['2018-01-01 00:00:00', '2018-01-01 01:30:00',\n",
       "               '2018-01-01 03:00:00', '2018-01-01 04:30:00',\n",
       "               '2018-01-01 06:00:00', '2018-01-01 07:30:00',\n",
       "               '2018-01-01 09:00:00', '2018-01-01 10:30:00',\n",
       "               '2018-01-01 12:00:00', '2018-01-01 13:30:00',\n",
       "               ...\n",
       "               '2018-07-31 10:30:00', '2018-07-31 12:00:00',\n",
       "               '2018-07-31 13:30:00', '2018-07-31 15:00:00',\n",
       "               '2018-07-31 16:30:00', '2018-07-31 18:00:00',\n",
       "               '2018-07-31 19:30:00', '2018-07-31 21:00:00',\n",
       "               '2018-07-31 22:30:00', '2018-08-01 00:00:00'],\n",
       "              dtype='datetime64[ns]', length=3393, freq='90T')"
      ]
     },
     "execution_count": 33,
     "metadata": {},
     "output_type": "execute_result"
    }
   ],
   "source": [
    "pd.date_range('2018-01-01', '2018-08-01', freq='1H30min')"
   ]
  },
  {
   "cell_type": "code",
   "execution_count": 34,
   "metadata": {},
   "outputs": [
    {
     "data": {
      "text/plain": [
       "DatetimeIndex(['2018-01-31', '2018-02-28', '2018-03-31', '2018-04-30',\n",
       "               '2018-05-31', '2018-06-30', '2018-07-31'],\n",
       "              dtype='datetime64[ns]', freq='M')"
      ]
     },
     "execution_count": 34,
     "metadata": {},
     "output_type": "execute_result"
    }
   ],
   "source": [
    "pd.date_range('2018-01-01', '2018-08-01', freq='M')"
   ]
  },
  {
   "cell_type": "code",
   "execution_count": 35,
   "metadata": {},
   "outputs": [
    {
     "data": {
      "text/plain": [
       "DatetimeIndex(['2018-01-19', '2018-02-16', '2018-03-16', '2018-04-20',\n",
       "               '2018-05-18', '2018-06-15', '2018-07-20'],\n",
       "              dtype='datetime64[ns]', freq='WOM-3FRI')"
      ]
     },
     "execution_count": 35,
     "metadata": {},
     "output_type": "execute_result"
    }
   ],
   "source": [
    "pd.date_range('2018-01-01', '2018-08-01', freq='WOM-3FRI')"
   ]
  },
  {
   "cell_type": "code",
   "execution_count": 37,
   "metadata": {},
   "outputs": [
    {
     "data": {
      "text/plain": [
       "DatetimeIndex(['2018-01-01', '2018-02-05', '2018-03-05', '2018-04-02',\n",
       "               '2018-05-07', '2018-06-04', '2018-07-02'],\n",
       "              dtype='datetime64[ns]', freq='WOM-1MON')"
      ]
     },
     "execution_count": 37,
     "metadata": {},
     "output_type": "execute_result"
    }
   ],
   "source": [
    "pd.date_range('2018-01-01', '2018-08-01', freq='WOM-1MON')"
   ]
  }
 ],
 "metadata": {
  "kernelspec": {
   "display_name": "Python 3",
   "language": "python",
   "name": "python3"
  },
  "language_info": {
   "codemirror_mode": {
    "name": "ipython",
    "version": 3
   },
   "file_extension": ".py",
   "mimetype": "text/x-python",
   "name": "python",
   "nbconvert_exporter": "python",
   "pygments_lexer": "ipython3",
   "version": "3.5.2"
  }
 },
 "nbformat": 4,
 "nbformat_minor": 2
}
