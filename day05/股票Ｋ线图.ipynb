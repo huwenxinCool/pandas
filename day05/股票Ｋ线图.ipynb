{
 "cells": [
  {
   "cell_type": "markdown",
   "metadata": {},
   "source": [
    "# 案列: 绘制股票行情图\n",
    "- 不同的时间间隔看待股票数据变化，会有不一样的发现！\n",
    "- Ｋ线的计算周期分为日Ｋ线，周Ｋ线，月Ｋ线，年Ｋ线\n",
    "- 最原始的数据只有日Ｋ线，需要通过日的数据来生成月的，周的，年的数据\n",
    "- K线数据重采样"
   ]
  },
  {
   "cell_type": "code",
   "execution_count": null,
   "metadata": {},
   "outputs": [],
   "source": [
    "- DataFrame.resample(rule, how, axis, fill_method, closed, kind)\n",
    "- rule 重采样的频率\n",
    "- how 用于产生聚合值的函数名或数组\n",
    "- axis 轴\n",
    "- closed "
   ]
  },
  {
   "cell_type": "code",
   "execution_count": 27,
   "metadata": {},
   "outputs": [],
   "source": [
    "import pandas as pd\n",
    "import numpy as np"
   ]
  },
  {
   "cell_type": "code",
   "execution_count": 8,
   "metadata": {},
   "outputs": [],
   "source": [
    "stock_day = pd.read_csv('stock_day.csv', usecols=['open', 'low', 'high', 'close'])"
   ]
  },
  {
   "cell_type": "code",
   "execution_count": 9,
   "metadata": {},
   "outputs": [
    {
     "data": {
      "text/html": [
       "<div>\n",
       "<style>\n",
       "    .dataframe thead tr:only-child th {\n",
       "        text-align: right;\n",
       "    }\n",
       "\n",
       "    .dataframe thead th {\n",
       "        text-align: left;\n",
       "    }\n",
       "\n",
       "    .dataframe tbody tr th {\n",
       "        vertical-align: top;\n",
       "    }\n",
       "</style>\n",
       "<table border=\"1\" class=\"dataframe\">\n",
       "  <thead>\n",
       "    <tr style=\"text-align: right;\">\n",
       "      <th></th>\n",
       "      <th>open</th>\n",
       "      <th>high</th>\n",
       "      <th>close</th>\n",
       "      <th>low</th>\n",
       "    </tr>\n",
       "  </thead>\n",
       "  <tbody>\n",
       "    <tr>\n",
       "      <th>2018-02-27</th>\n",
       "      <td>23.53</td>\n",
       "      <td>25.88</td>\n",
       "      <td>24.16</td>\n",
       "      <td>23.53</td>\n",
       "    </tr>\n",
       "    <tr>\n",
       "      <th>2018-02-26</th>\n",
       "      <td>22.80</td>\n",
       "      <td>23.78</td>\n",
       "      <td>23.53</td>\n",
       "      <td>22.80</td>\n",
       "    </tr>\n",
       "    <tr>\n",
       "      <th>2018-02-23</th>\n",
       "      <td>22.88</td>\n",
       "      <td>23.37</td>\n",
       "      <td>22.82</td>\n",
       "      <td>22.71</td>\n",
       "    </tr>\n",
       "    <tr>\n",
       "      <th>2018-02-22</th>\n",
       "      <td>22.25</td>\n",
       "      <td>22.76</td>\n",
       "      <td>22.28</td>\n",
       "      <td>22.02</td>\n",
       "    </tr>\n",
       "    <tr>\n",
       "      <th>2018-02-14</th>\n",
       "      <td>21.49</td>\n",
       "      <td>21.99</td>\n",
       "      <td>21.92</td>\n",
       "      <td>21.48</td>\n",
       "    </tr>\n",
       "  </tbody>\n",
       "</table>\n",
       "</div>"
      ],
      "text/plain": [
       "             open   high  close    low\n",
       "2018-02-27  23.53  25.88  24.16  23.53\n",
       "2018-02-26  22.80  23.78  23.53  22.80\n",
       "2018-02-23  22.88  23.37  22.82  22.71\n",
       "2018-02-22  22.25  22.76  22.28  22.02\n",
       "2018-02-14  21.49  21.99  21.92  21.48"
      ]
     },
     "execution_count": 9,
     "metadata": {},
     "output_type": "execute_result"
    }
   ],
   "source": [
    "stock_day.head()"
   ]
  },
  {
   "cell_type": "code",
   "execution_count": 12,
   "metadata": {},
   "outputs": [
    {
     "data": {
      "text/plain": [
       "Index(['2018-02-27', '2018-02-26', '2018-02-23', '2018-02-22', '2018-02-14',\n",
       "       '2018-02-13', '2018-02-12', '2018-02-09', '2018-02-08', '2018-02-07',\n",
       "       ...\n",
       "       '2015-03-13', '2015-03-12', '2015-03-11', '2015-03-10', '2015-03-09',\n",
       "       '2015-03-06', '2015-03-05', '2015-03-04', '2015-03-03', '2015-03-02'],\n",
       "      dtype='object', length=643)"
      ]
     },
     "execution_count": 12,
     "metadata": {},
     "output_type": "execute_result"
    }
   ],
   "source": [
    "# 将索引转换成时间类型\n",
    "stock_day.index"
   ]
  },
  {
   "cell_type": "code",
   "execution_count": 13,
   "metadata": {},
   "outputs": [
    {
     "data": {
      "text/plain": [
       "DatetimeIndex(['2018-02-27', '2018-02-26', '2018-02-23', '2018-02-22',\n",
       "               '2018-02-14', '2018-02-13', '2018-02-12', '2018-02-09',\n",
       "               '2018-02-08', '2018-02-07',\n",
       "               ...\n",
       "               '2015-03-13', '2015-03-12', '2015-03-11', '2015-03-10',\n",
       "               '2015-03-09', '2015-03-06', '2015-03-05', '2015-03-04',\n",
       "               '2015-03-03', '2015-03-02'],\n",
       "              dtype='datetime64[ns]', length=643, freq=None)"
      ]
     },
     "execution_count": 13,
     "metadata": {},
     "output_type": "execute_result"
    }
   ],
   "source": [
    "pd.to_datetime(stock_day.index)"
   ]
  },
  {
   "cell_type": "code",
   "execution_count": 14,
   "metadata": {},
   "outputs": [],
   "source": [
    "stock_day.index = pd.to_datetime(stock_day.index)"
   ]
  },
  {
   "cell_type": "code",
   "execution_count": 15,
   "metadata": {},
   "outputs": [
    {
     "data": {
      "text/plain": [
       "DatetimeIndex(['2018-02-27', '2018-02-26', '2018-02-23', '2018-02-22',\n",
       "               '2018-02-14', '2018-02-13', '2018-02-12', '2018-02-09',\n",
       "               '2018-02-08', '2018-02-07',\n",
       "               ...\n",
       "               '2015-03-13', '2015-03-12', '2015-03-11', '2015-03-10',\n",
       "               '2015-03-09', '2015-03-06', '2015-03-05', '2015-03-04',\n",
       "               '2015-03-03', '2015-03-02'],\n",
       "              dtype='datetime64[ns]', length=643, freq=None)"
      ]
     },
     "execution_count": 15,
     "metadata": {},
     "output_type": "execute_result"
    }
   ],
   "source": [
    "stock_day.index"
   ]
  },
  {
   "cell_type": "code",
   "execution_count": 18,
   "metadata": {},
   "outputs": [],
   "source": [
    "# 把周日的价格拿出来\n",
    "period_week_data = stock_day.resample('W').last()"
   ]
  },
  {
   "cell_type": "code",
   "execution_count": 20,
   "metadata": {},
   "outputs": [],
   "source": [
    "# 拿去到开盘价格\n",
    "period_week_data['open'] = stock_day.resample('W').first()"
   ]
  },
  {
   "cell_type": "code",
   "execution_count": 21,
   "metadata": {},
   "outputs": [],
   "source": [
    "# 最高价\n",
    "period_week_data['high'] = stock_day.resample('W').max()"
   ]
  },
  {
   "cell_type": "code",
   "execution_count": 23,
   "metadata": {},
   "outputs": [],
   "source": [
    "period_week_data['low'] = stock_day.resample('W').min()"
   ]
  },
  {
   "cell_type": "code",
   "execution_count": 24,
   "metadata": {},
   "outputs": [
    {
     "data": {
      "text/html": [
       "<div>\n",
       "<style>\n",
       "    .dataframe thead tr:only-child th {\n",
       "        text-align: right;\n",
       "    }\n",
       "\n",
       "    .dataframe thead th {\n",
       "        text-align: left;\n",
       "    }\n",
       "\n",
       "    .dataframe tbody tr th {\n",
       "        vertical-align: top;\n",
       "    }\n",
       "</style>\n",
       "<table border=\"1\" class=\"dataframe\">\n",
       "  <thead>\n",
       "    <tr style=\"text-align: right;\">\n",
       "      <th></th>\n",
       "      <th>open</th>\n",
       "      <th>high</th>\n",
       "      <th>close</th>\n",
       "      <th>low</th>\n",
       "    </tr>\n",
       "  </thead>\n",
       "  <tbody>\n",
       "    <tr>\n",
       "      <th>2015-03-08</th>\n",
       "      <td>12.25</td>\n",
       "      <td>13.17</td>\n",
       "      <td>14.28</td>\n",
       "      <td>12.25</td>\n",
       "    </tr>\n",
       "    <tr>\n",
       "      <th>2015-03-15</th>\n",
       "      <td>14.14</td>\n",
       "      <td>14.80</td>\n",
       "      <td>14.47</td>\n",
       "      <td>14.11</td>\n",
       "    </tr>\n",
       "    <tr>\n",
       "      <th>2015-03-22</th>\n",
       "      <td>14.52</td>\n",
       "      <td>15.38</td>\n",
       "      <td>15.34</td>\n",
       "      <td>14.52</td>\n",
       "    </tr>\n",
       "    <tr>\n",
       "      <th>2015-03-29</th>\n",
       "      <td>15.34</td>\n",
       "      <td>15.97</td>\n",
       "      <td>15.77</td>\n",
       "      <td>14.90</td>\n",
       "    </tr>\n",
       "    <tr>\n",
       "      <th>2015-04-05</th>\n",
       "      <td>15.99</td>\n",
       "      <td>16.78</td>\n",
       "      <td>16.66</td>\n",
       "      <td>15.99</td>\n",
       "    </tr>\n",
       "  </tbody>\n",
       "</table>\n",
       "</div>"
      ],
      "text/plain": [
       "             open   high  close    low\n",
       "2015-03-08  12.25  13.17  14.28  12.25\n",
       "2015-03-15  14.14  14.80  14.47  14.11\n",
       "2015-03-22  14.52  15.38  15.34  14.52\n",
       "2015-03-29  15.34  15.97  15.77  14.90\n",
       "2015-04-05  15.99  16.78  16.66  15.99"
      ]
     },
     "execution_count": 24,
     "metadata": {},
     "output_type": "execute_result"
    }
   ],
   "source": [
    "period_week_data.head()"
   ]
  },
  {
   "cell_type": "code",
   "execution_count": 34,
   "metadata": {},
   "outputs": [],
   "source": [
    "# 处理缺失值\n",
    "for index in period_week_data.index:\n",
    "    if np.any(period_week_data.loc[index].isnull()):\n",
    "        period_week_data.drop(index, inplace=True)"
   ]
  },
  {
   "cell_type": "code",
   "execution_count": 38,
   "metadata": {},
   "outputs": [],
   "source": [
    "from mpl_finance import candlestick_ochl\n",
    "import matplotlib.pyplot as plt\n",
    "from matplotlib.pylab import date2num"
   ]
  },
  {
   "cell_type": "code",
   "execution_count": 41,
   "metadata": {},
   "outputs": [
    {
     "data": {
      "text/plain": [
       "array([[23.53, 25.88, 24.16, 23.53],\n",
       "       [22.8 , 23.78, 23.53, 22.8 ],\n",
       "       [22.88, 23.37, 22.82, 22.71],\n",
       "       ...,\n",
       "       [12.8 , 12.92, 12.9 , 12.61],\n",
       "       [12.52, 13.06, 12.7 , 12.52],\n",
       "       [12.25, 12.67, 12.52, 12.2 ]])"
      ]
     },
     "execution_count": 41,
     "metadata": {},
     "output_type": "execute_result"
    }
   ],
   "source": [
    "stock_day.values"
   ]
  },
  {
   "cell_type": "code",
   "execution_count": 64,
   "metadata": {},
   "outputs": [
    {
     "data": {
      "image/png": "[encoded data removed]",
      "text/plain": [
       "<Figure size 2000x800 with 1 Axes>"
      ]
     },
     "metadata": {
      "needs_background": "light"
     },
     "output_type": "display_data"
    }
   ],
   "source": [
    "fig, axes = plt.subplots(figsize=(20, 8), dpi=100)\n",
    "stock_day['date'] = date2num(stock_day.index)\n",
    "day_k = stock_day[['date', 'open', 'close', 'high', 'low']]\n",
    "candlestick_ochl(axes, day_k.values, colorup='r', colordown='g')\n",
    "axes.xaxis_date()\n",
    "plt.show()"
   ]
  },
  {
   "cell_type": "code",
   "execution_count": 45,
   "metadata": {},
   "outputs": [
    {
     "data": {
      "text/html": [
       "<div>\n",
       "<style>\n",
       "    .dataframe thead tr:only-child th {\n",
       "        text-align: right;\n",
       "    }\n",
       "\n",
       "    .dataframe thead th {\n",
       "        text-align: left;\n",
       "    }\n",
       "\n",
       "    .dataframe tbody tr th {\n",
       "        vertical-align: top;\n",
       "    }\n",
       "</style>\n",
       "<table border=\"1\" class=\"dataframe\">\n",
       "  <thead>\n",
       "    <tr style=\"text-align: right;\">\n",
       "      <th></th>\n",
       "      <th>date</th>\n",
       "      <th>open</th>\n",
       "      <th>close</th>\n",
       "      <th>high</th>\n",
       "      <th>low</th>\n",
       "    </tr>\n",
       "  </thead>\n",
       "  <tbody>\n",
       "    <tr>\n",
       "      <th>2018-02-27</th>\n",
       "      <td>736752.0</td>\n",
       "      <td>23.53</td>\n",
       "      <td>24.16</td>\n",
       "      <td>25.88</td>\n",
       "      <td>23.53</td>\n",
       "    </tr>\n",
       "    <tr>\n",
       "      <th>2018-02-26</th>\n",
       "      <td>736751.0</td>\n",
       "      <td>22.80</td>\n",
       "      <td>23.53</td>\n",
       "      <td>23.78</td>\n",
       "      <td>22.80</td>\n",
       "    </tr>\n",
       "    <tr>\n",
       "      <th>2018-02-23</th>\n",
       "      <td>736748.0</td>\n",
       "      <td>22.88</td>\n",
       "      <td>22.82</td>\n",
       "      <td>23.37</td>\n",
       "      <td>22.71</td>\n",
       "    </tr>\n",
       "    <tr>\n",
       "      <th>2018-02-22</th>\n",
       "      <td>736747.0</td>\n",
       "      <td>22.25</td>\n",
       "      <td>22.28</td>\n",
       "      <td>22.76</td>\n",
       "      <td>22.02</td>\n",
       "    </tr>\n",
       "    <tr>\n",
       "      <th>2018-02-14</th>\n",
       "      <td>736739.0</td>\n",
       "      <td>21.49</td>\n",
       "      <td>21.92</td>\n",
       "      <td>21.99</td>\n",
       "      <td>21.48</td>\n",
       "    </tr>\n",
       "  </tbody>\n",
       "</table>\n",
       "</div>"
      ],
      "text/plain": [
       "                date   open  close   high    low\n",
       "2018-02-27  736752.0  23.53  24.16  25.88  23.53\n",
       "2018-02-26  736751.0  22.80  23.53  23.78  22.80\n",
       "2018-02-23  736748.0  22.88  22.82  23.37  22.71\n",
       "2018-02-22  736747.0  22.25  22.28  22.76  22.02\n",
       "2018-02-14  736739.0  21.49  21.92  21.99  21.48"
      ]
     },
     "execution_count": 45,
     "metadata": {},
     "output_type": "execute_result"
    }
   ],
   "source": [
    "stock_day[['date', 'open', 'close', 'high', 'low']].head()"
   ]
  },
  {
   "cell_type": "code",
   "execution_count": 61,
   "metadata": {},
   "outputs": [
    {
     "data": {
      "text/plain": [
       "array([[2.35300e+01, 2.58800e+01, 2.41600e+01, 2.35300e+01, 7.36752e+05],\n",
       "       [2.28000e+01, 2.37800e+01, 2.35300e+01, 2.28000e+01, 7.36751e+05],\n",
       "       [2.28800e+01, 2.33700e+01, 2.28200e+01, 2.27100e+01, 7.36748e+05],\n",
       "       ...,\n",
       "       [1.28000e+01, 1.29200e+01, 1.29000e+01, 1.26100e+01, 7.35661e+05],\n",
       "       [1.25200e+01, 1.30600e+01, 1.27000e+01, 1.25200e+01, 7.35660e+05],\n",
       "       [1.22500e+01, 1.26700e+01, 1.25200e+01, 1.22000e+01, 7.35659e+05]])"
      ]
     },
     "execution_count": 61,
     "metadata": {},
     "output_type": "execute_result"
    }
   ],
   "source": [
    "stock_day.values"
   ]
  },
  {
   "cell_type": "code",
   "execution_count": 62,
   "metadata": {},
   "outputs": [
    {
     "data": {
      "text/plain": [
       "array([[7.36752e+05, 2.35300e+01, 2.41600e+01, 2.58800e+01, 2.35300e+01],\n",
       "       [7.36751e+05, 2.28000e+01, 2.35300e+01, 2.37800e+01, 2.28000e+01],\n",
       "       [7.36748e+05, 2.28800e+01, 2.28200e+01, 2.33700e+01, 2.27100e+01],\n",
       "       ...,\n",
       "       [7.35661e+05, 1.28000e+01, 1.29000e+01, 1.29200e+01, 1.26100e+01],\n",
       "       [7.35660e+05, 1.25200e+01, 1.27000e+01, 1.30600e+01, 1.25200e+01],\n",
       "       [7.35659e+05, 1.22500e+01, 1.25200e+01, 1.26700e+01, 1.22000e+01]])"
      ]
     },
     "execution_count": 62,
     "metadata": {},
     "output_type": "execute_result"
    }
   ],
   "source": [
    "day_k.values"
   ]
  },
  {
   "cell_type": "code",
   "execution_count": 71,
   "metadata": {},
   "outputs": [
    {
     "data": {
      "image/png": "[encoded data removed]",
      "text/plain": [
       "<Figure size 2000x800 with 1 Axes>"
      ]
     },
     "metadata": {
      "needs_background": "light"
     },
     "output_type": "display_data"
    }
   ],
   "source": [
    "fig, axes = plt.subplots(figsize=(20, 8), dpi=100)\n",
    "period_week_data['date'] = date2num(period_week_data.index)\n",
    "week_k = period_week_data[['date', 'open', 'close', 'high', 'low']]\n",
    "\n",
    "candlestick_ochl(axes, week_k.values, width=1.5, colorup='r', colordown='g')\n",
    "# x刻度设置为日期\n",
    "axes.xaxis_date()\n",
    "plt.show()"
   ]
  },
  {
   "cell_type": "code",
   "execution_count": 73,
   "metadata": {},
   "outputs": [],
   "source": [
    "candlestick_ochl?"
   ]
  }
 ],
 "metadata": {
  "kernelspec": {
   "display_name": "Python 3",
   "language": "python",
   "name": "python3"
  },
  "language_info": {
   "codemirror_mode": {
    "name": "ipython",
    "version": 3
   },
   "file_extension": ".py",
   "mimetype": "text/x-python",
   "name": "python",
   "nbconvert_exporter": "python",
   "pygments_lexer": "ipython3",
   "version": "3.5.2"
  }
 },
 "nbformat": 4,
 "nbformat_minor": 2
}
