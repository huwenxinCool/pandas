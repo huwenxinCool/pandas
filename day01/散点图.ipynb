{
 "cells": [
  {
   "cell_type": "code",
   "execution_count": 2,
   "metadata": {},
   "outputs": [],
   "source": [
    "import matplotlib.pyplot as plt"
   ]
  },
  {
   "cell_type": "markdown",
   "metadata": {},
   "source": [
    "- 散点图主要用来看数据的分布\n",
    "- 折线图主要看数据的走势\n",
    "- 直方图主要看数据的分布\n",
    "- 饼状图主要看百分比\n",
    "- 柱状图主要是来比大小的"
   ]
  },
  {
   "cell_type": "markdown",
   "metadata": {},
   "source": [
    "# 散点图的基本绘制"
   ]
  },
  {
   "cell_type": "code",
   "execution_count": 7,
   "metadata": {},
   "outputs": [
    {
     "data": {
      "image/png": "[encoded data removed]",
      "text/plain": [
       "<Figure size 432x288 with 1 Axes>"
      ]
     },
     "metadata": {
      "needs_background": "light"
     },
     "output_type": "display_data"
    }
   ],
   "source": [
    "# ｄａｔｅ\n",
    "x = [225.98, 247.07, 253.14, 457.85, 241.58, 301.01,  20.67, 288.64,\n",
    "       163.56, 120.06, 207.83, 342.75, 147.9 ,  53.06, 224.72,  29.51,\n",
    "        21.61, 483.21, 245.25, 399.25, 343.35]\n",
    "y = [196.63, 203.88, 210.75, 372.74, 202.41, 247.61,  24.9 , 239.34,\n",
    "       140.32, 104.15, 176.84, 288.23, 128.79,  49.64, 191.74,  33.1 ,\n",
    "        30.74, 400.02, 205.35, 330.64, 283.45]\n",
    "\n",
    "# 绘制　　散点图的api　是scatter\n",
    "plt.scatter(x, y)\n",
    "x = range(1000)\n",
    "y = range(600)\n",
    "plt.yticks(y[::100])\n",
    "plt.xticks(x[::100])\n",
    "plt.grid(True)\n",
    "plt.show()"
   ]
  },
  {
   "cell_type": "code",
   "execution_count": null,
   "metadata": {},
   "outputs": [],
   "source": []
  }
 ],
 "metadata": {
  "kernelspec": {
   "display_name": "Python 3",
   "language": "python",
   "name": "python3"
  },
  "language_info": {
   "codemirror_mode": {
    "name": "ipython",
    "version": 3
   },
   "file_extension": ".py",
   "mimetype": "text/x-python",
   "name": "python",
   "nbconvert_exporter": "python",
   "pygments_lexer": "ipython3",
   "version": "3.5.2"
  }
 },
 "nbformat": 4,
 "nbformat_minor": 2
}
