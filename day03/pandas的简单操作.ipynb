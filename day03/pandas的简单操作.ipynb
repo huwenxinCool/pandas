{
 "cells": [
  {
   "cell_type": "markdown",
   "metadata": {},
   "source": [
    "# pandas\n",
    "### 为什么要用pandas?\n",
    "- pandas对numpy, matplotlib进行封装\n",
    "- 对数据更友好的显示\n",
    "- 更快的对数据的操作\n",
    "- 都是用numpy进行数据的计算, pandas进行数据的处理，　matploylib对数据进行图形化的处理"
   ]
  },
  {
   "cell_type": "markdown",
   "metadata": {},
   "source": [
    "## 案列: 回忆我们在numpy中创建的股票的涨幅形式"
   ]
  },
  {
   "cell_type": "code",
   "execution_count": 6,
   "metadata": {},
   "outputs": [
    {
     "data": {
      "text/plain": [
       "array([[ 0.4977132 , -0.02615169, -0.27002746, -0.76072652,  1.74305386],\n",
       "       [-1.58271944,  0.02163562,  0.20173155,  1.18238644, -0.11506464],\n",
       "       [ 1.10341738, -1.42804039, -0.18444123, -0.07008924,  0.67561543],\n",
       "       [ 0.67972909,  0.53284919,  0.38852405, -1.00685584, -1.71581229],\n",
       "       [ 0.91106039,  1.94769984, -0.26205291, -0.02970188,  0.47989172],\n",
       "       [-0.31803196, -0.3010128 , -1.26904722,  1.29740347, -0.76435609],\n",
       "       [-1.87301167, -0.08455043, -1.02647736,  0.26479014,  0.52528018],\n",
       "       [ 2.00387478,  0.60759514,  0.21326888, -0.68040583,  0.63355414],\n",
       "       [-0.55912441, -0.37518771,  1.59790687,  0.74361315, -1.06470076],\n",
       "       [ 0.95815305,  1.01307997,  0.55816445,  1.13294564,  2.11211814]])"
      ]
     },
     "execution_count": 6,
     "metadata": {},
     "output_type": "execute_result"
    }
   ],
   "source": [
    "import numpy as np\n",
    "# 正态分布，　生成均值为０，标准差１的　　　　形态（１０，　５）\n",
    "stock_change = np.random.normal(0, 1, (10, 5))\n",
    "stock_change"
   ]
  },
  {
   "cell_type": "code",
   "execution_count": 25,
   "metadata": {},
   "outputs": [
    {
     "data": {
      "text/html": [
       "<div>\n",
       "<style>\n",
       "    .dataframe thead tr:only-child th {\n",
       "        text-align: right;\n",
       "    }\n",
       "\n",
       "    .dataframe thead th {\n",
       "        text-align: left;\n",
       "    }\n",
       "\n",
       "    .dataframe tbody tr th {\n",
       "        vertical-align: top;\n",
       "    }\n",
       "</style>\n",
       "<table border=\"1\" class=\"dataframe\">\n",
       "  <thead>\n",
       "    <tr style=\"text-align: right;\">\n",
       "      <th></th>\n",
       "      <th>0</th>\n",
       "      <th>1</th>\n",
       "      <th>2</th>\n",
       "      <th>3</th>\n",
       "      <th>4</th>\n",
       "    </tr>\n",
       "  </thead>\n",
       "  <tbody>\n",
       "    <tr>\n",
       "      <th>股票0</th>\n",
       "      <td>0.497713</td>\n",
       "      <td>-0.026152</td>\n",
       "      <td>-0.270027</td>\n",
       "      <td>-0.760727</td>\n",
       "      <td>1.743054</td>\n",
       "    </tr>\n",
       "    <tr>\n",
       "      <th>股票1</th>\n",
       "      <td>-1.582719</td>\n",
       "      <td>0.021636</td>\n",
       "      <td>0.201732</td>\n",
       "      <td>1.182386</td>\n",
       "      <td>-0.115065</td>\n",
       "    </tr>\n",
       "    <tr>\n",
       "      <th>股票2</th>\n",
       "      <td>1.103417</td>\n",
       "      <td>-1.428040</td>\n",
       "      <td>-0.184441</td>\n",
       "      <td>-0.070089</td>\n",
       "      <td>0.675615</td>\n",
       "    </tr>\n",
       "    <tr>\n",
       "      <th>股票3</th>\n",
       "      <td>0.679729</td>\n",
       "      <td>0.532849</td>\n",
       "      <td>0.388524</td>\n",
       "      <td>-1.006856</td>\n",
       "      <td>-1.715812</td>\n",
       "    </tr>\n",
       "    <tr>\n",
       "      <th>股票4</th>\n",
       "      <td>0.911060</td>\n",
       "      <td>1.947700</td>\n",
       "      <td>-0.262053</td>\n",
       "      <td>-0.029702</td>\n",
       "      <td>0.479892</td>\n",
       "    </tr>\n",
       "    <tr>\n",
       "      <th>股票5</th>\n",
       "      <td>-0.318032</td>\n",
       "      <td>-0.301013</td>\n",
       "      <td>-1.269047</td>\n",
       "      <td>1.297403</td>\n",
       "      <td>-0.764356</td>\n",
       "    </tr>\n",
       "    <tr>\n",
       "      <th>股票6</th>\n",
       "      <td>-1.873012</td>\n",
       "      <td>-0.084550</td>\n",
       "      <td>-1.026477</td>\n",
       "      <td>0.264790</td>\n",
       "      <td>0.525280</td>\n",
       "    </tr>\n",
       "    <tr>\n",
       "      <th>股票7</th>\n",
       "      <td>2.003875</td>\n",
       "      <td>0.607595</td>\n",
       "      <td>0.213269</td>\n",
       "      <td>-0.680406</td>\n",
       "      <td>0.633554</td>\n",
       "    </tr>\n",
       "    <tr>\n",
       "      <th>股票8</th>\n",
       "      <td>-0.559124</td>\n",
       "      <td>-0.375188</td>\n",
       "      <td>1.597907</td>\n",
       "      <td>0.743613</td>\n",
       "      <td>-1.064701</td>\n",
       "    </tr>\n",
       "    <tr>\n",
       "      <th>股票9</th>\n",
       "      <td>0.958153</td>\n",
       "      <td>1.013080</td>\n",
       "      <td>0.558164</td>\n",
       "      <td>1.132946</td>\n",
       "      <td>2.112118</td>\n",
       "    </tr>\n",
       "  </tbody>\n",
       "</table>\n",
       "</div>"
      ],
      "text/plain": [
       "            0         1         2         3         4\n",
       "股票0  0.497713 -0.026152 -0.270027 -0.760727  1.743054\n",
       "股票1 -1.582719  0.021636  0.201732  1.182386 -0.115065\n",
       "股票2  1.103417 -1.428040 -0.184441 -0.070089  0.675615\n",
       "股票3  0.679729  0.532849  0.388524 -1.006856 -1.715812\n",
       "股票4  0.911060  1.947700 -0.262053 -0.029702  0.479892\n",
       "股票5 -0.318032 -0.301013 -1.269047  1.297403 -0.764356\n",
       "股票6 -1.873012 -0.084550 -1.026477  0.264790  0.525280\n",
       "股票7  2.003875  0.607595  0.213269 -0.680406  0.633554\n",
       "股票8 -0.559124 -0.375188  1.597907  0.743613 -1.064701\n",
       "股票9  0.958153  1.013080  0.558164  1.132946  2.112118"
      ]
     },
     "execution_count": 25,
     "metadata": {},
     "output_type": "execute_result"
    }
   ],
   "source": [
    "# 转换成pandas形式　　　　DataFrame数据类型\n",
    "import pandas as pd\n",
    "stock_code = ['股票' + str(i) for i in range(10)]\n",
    "stock_day_rise = pd.DataFrame(stock_change, index=stock_code)\n",
    "# 显示出成表格形式\n",
    "stock_day_rise"
   ]
  },
  {
   "cell_type": "code",
   "execution_count": 30,
   "metadata": {},
   "outputs": [
    {
     "data": {
      "text/html": [
       "<div>\n",
       "<style>\n",
       "    .dataframe thead tr:only-child th {\n",
       "        text-align: right;\n",
       "    }\n",
       "\n",
       "    .dataframe thead th {\n",
       "        text-align: left;\n",
       "    }\n",
       "\n",
       "    .dataframe tbody tr th {\n",
       "        vertical-align: top;\n",
       "    }\n",
       "</style>\n",
       "<table border=\"1\" class=\"dataframe\">\n",
       "  <thead>\n",
       "    <tr style=\"text-align: right;\">\n",
       "      <th></th>\n",
       "      <th>0</th>\n",
       "      <th>1</th>\n",
       "      <th>2</th>\n",
       "      <th>3</th>\n",
       "      <th>4</th>\n",
       "    </tr>\n",
       "  </thead>\n",
       "  <tbody>\n",
       "    <tr>\n",
       "      <th>股票0</th>\n",
       "      <td>NaN</td>\n",
       "      <td>NaN</td>\n",
       "      <td>NaN</td>\n",
       "      <td>NaN</td>\n",
       "      <td>NaN</td>\n",
       "    </tr>\n",
       "    <tr>\n",
       "      <th>股票1</th>\n",
       "      <td>NaN</td>\n",
       "      <td>NaN</td>\n",
       "      <td>NaN</td>\n",
       "      <td>NaN</td>\n",
       "      <td>NaN</td>\n",
       "    </tr>\n",
       "    <tr>\n",
       "      <th>股票2</th>\n",
       "      <td>NaN</td>\n",
       "      <td>NaN</td>\n",
       "      <td>NaN</td>\n",
       "      <td>NaN</td>\n",
       "      <td>NaN</td>\n",
       "    </tr>\n",
       "    <tr>\n",
       "      <th>股票3</th>\n",
       "      <td>NaN</td>\n",
       "      <td>NaN</td>\n",
       "      <td>NaN</td>\n",
       "      <td>NaN</td>\n",
       "      <td>NaN</td>\n",
       "    </tr>\n",
       "    <tr>\n",
       "      <th>股票4</th>\n",
       "      <td>NaN</td>\n",
       "      <td>NaN</td>\n",
       "      <td>NaN</td>\n",
       "      <td>NaN</td>\n",
       "      <td>NaN</td>\n",
       "    </tr>\n",
       "    <tr>\n",
       "      <th>股票5</th>\n",
       "      <td>NaN</td>\n",
       "      <td>NaN</td>\n",
       "      <td>NaN</td>\n",
       "      <td>NaN</td>\n",
       "      <td>NaN</td>\n",
       "    </tr>\n",
       "    <tr>\n",
       "      <th>股票6</th>\n",
       "      <td>NaN</td>\n",
       "      <td>NaN</td>\n",
       "      <td>NaN</td>\n",
       "      <td>NaN</td>\n",
       "      <td>NaN</td>\n",
       "    </tr>\n",
       "    <tr>\n",
       "      <th>股票7</th>\n",
       "      <td>NaN</td>\n",
       "      <td>NaN</td>\n",
       "      <td>NaN</td>\n",
       "      <td>NaN</td>\n",
       "      <td>NaN</td>\n",
       "    </tr>\n",
       "    <tr>\n",
       "      <th>股票8</th>\n",
       "      <td>NaN</td>\n",
       "      <td>NaN</td>\n",
       "      <td>NaN</td>\n",
       "      <td>NaN</td>\n",
       "      <td>NaN</td>\n",
       "    </tr>\n",
       "    <tr>\n",
       "      <th>股票9</th>\n",
       "      <td>NaN</td>\n",
       "      <td>NaN</td>\n",
       "      <td>NaN</td>\n",
       "      <td>NaN</td>\n",
       "      <td>NaN</td>\n",
       "    </tr>\n",
       "  </tbody>\n",
       "</table>\n",
       "</div>"
      ],
      "text/plain": [
       "      0   1   2   3   4\n",
       "股票0 NaN NaN NaN NaN NaN\n",
       "股票1 NaN NaN NaN NaN NaN\n",
       "股票2 NaN NaN NaN NaN NaN\n",
       "股票3 NaN NaN NaN NaN NaN\n",
       "股票4 NaN NaN NaN NaN NaN\n",
       "股票5 NaN NaN NaN NaN NaN\n",
       "股票6 NaN NaN NaN NaN NaN\n",
       "股票7 NaN NaN NaN NaN NaN\n",
       "股票8 NaN NaN NaN NaN NaN\n",
       "股票9 NaN NaN NaN NaN NaN"
      ]
     },
     "execution_count": 30,
     "metadata": {},
     "output_type": "execute_result"
    }
   ],
   "source": [
    "# 增加行索引\n",
    "stock_code = ['股票' + str(i) for i in range(10)]\n",
    "stock_code\n",
    "stock_day_rise.shape[0]\n",
    "stock_day_rise\n",
    "# 添加行索引\n",
    "data = pd.DataFrame(stock_day_rise, index=stock_code)\n",
    "data = pd.DataFrame(stock_day_rise, index=stock_code)\n",
    "data"
   ]
  },
  {
   "cell_type": "code",
   "execution_count": 29,
   "metadata": {},
   "outputs": [
    {
     "data": {
      "text/html": [
       "<div>\n",
       "<style>\n",
       "    .dataframe thead tr:only-child th {\n",
       "        text-align: right;\n",
       "    }\n",
       "\n",
       "    .dataframe thead th {\n",
       "        text-align: left;\n",
       "    }\n",
       "\n",
       "    .dataframe tbody tr th {\n",
       "        vertical-align: top;\n",
       "    }\n",
       "</style>\n",
       "<table border=\"1\" class=\"dataframe\">\n",
       "  <thead>\n",
       "    <tr style=\"text-align: right;\">\n",
       "      <th></th>\n",
       "      <th>0</th>\n",
       "      <th>1</th>\n",
       "      <th>2</th>\n",
       "      <th>3</th>\n",
       "      <th>4</th>\n",
       "    </tr>\n",
       "  </thead>\n",
       "  <tbody>\n",
       "    <tr>\n",
       "      <th>股票0</th>\n",
       "      <td>NaN</td>\n",
       "      <td>NaN</td>\n",
       "      <td>NaN</td>\n",
       "      <td>NaN</td>\n",
       "      <td>NaN</td>\n",
       "    </tr>\n",
       "    <tr>\n",
       "      <th>股票1</th>\n",
       "      <td>NaN</td>\n",
       "      <td>NaN</td>\n",
       "      <td>NaN</td>\n",
       "      <td>NaN</td>\n",
       "      <td>NaN</td>\n",
       "    </tr>\n",
       "    <tr>\n",
       "      <th>股票2</th>\n",
       "      <td>NaN</td>\n",
       "      <td>NaN</td>\n",
       "      <td>NaN</td>\n",
       "      <td>NaN</td>\n",
       "      <td>NaN</td>\n",
       "    </tr>\n",
       "    <tr>\n",
       "      <th>股票3</th>\n",
       "      <td>NaN</td>\n",
       "      <td>NaN</td>\n",
       "      <td>NaN</td>\n",
       "      <td>NaN</td>\n",
       "      <td>NaN</td>\n",
       "    </tr>\n",
       "    <tr>\n",
       "      <th>股票4</th>\n",
       "      <td>NaN</td>\n",
       "      <td>NaN</td>\n",
       "      <td>NaN</td>\n",
       "      <td>NaN</td>\n",
       "      <td>NaN</td>\n",
       "    </tr>\n",
       "    <tr>\n",
       "      <th>股票5</th>\n",
       "      <td>NaN</td>\n",
       "      <td>NaN</td>\n",
       "      <td>NaN</td>\n",
       "      <td>NaN</td>\n",
       "      <td>NaN</td>\n",
       "    </tr>\n",
       "    <tr>\n",
       "      <th>股票6</th>\n",
       "      <td>NaN</td>\n",
       "      <td>NaN</td>\n",
       "      <td>NaN</td>\n",
       "      <td>NaN</td>\n",
       "      <td>NaN</td>\n",
       "    </tr>\n",
       "    <tr>\n",
       "      <th>股票7</th>\n",
       "      <td>NaN</td>\n",
       "      <td>NaN</td>\n",
       "      <td>NaN</td>\n",
       "      <td>NaN</td>\n",
       "      <td>NaN</td>\n",
       "    </tr>\n",
       "    <tr>\n",
       "      <th>股票8</th>\n",
       "      <td>NaN</td>\n",
       "      <td>NaN</td>\n",
       "      <td>NaN</td>\n",
       "      <td>NaN</td>\n",
       "      <td>NaN</td>\n",
       "    </tr>\n",
       "    <tr>\n",
       "      <th>股票9</th>\n",
       "      <td>NaN</td>\n",
       "      <td>NaN</td>\n",
       "      <td>NaN</td>\n",
       "      <td>NaN</td>\n",
       "      <td>NaN</td>\n",
       "    </tr>\n",
       "  </tbody>\n",
       "</table>\n",
       "</div>"
      ],
      "text/plain": [
       "      0   1   2   3   4\n",
       "股票0 NaN NaN NaN NaN NaN\n",
       "股票1 NaN NaN NaN NaN NaN\n",
       "股票2 NaN NaN NaN NaN NaN\n",
       "股票3 NaN NaN NaN NaN NaN\n",
       "股票4 NaN NaN NaN NaN NaN\n",
       "股票5 NaN NaN NaN NaN NaN\n",
       "股票6 NaN NaN NaN NaN NaN\n",
       "股票7 NaN NaN NaN NaN NaN\n",
       "股票8 NaN NaN NaN NaN NaN\n",
       "股票9 NaN NaN NaN NaN NaN"
      ]
     },
     "execution_count": 29,
     "metadata": {},
     "output_type": "execute_result"
    }
   ],
   "source": [
    "data"
   ]
  },
  {
   "cell_type": "code",
   "execution_count": 37,
   "metadata": {},
   "outputs": [],
   "source": [
    "# 生成数据\n",
    "stock_data = np.random.normal(size=(10, 5))\n",
    "# 构建索引\n",
    "index = ['股票' + str(i) for i in range(stock_data.shape[0])]\n",
    "# 生成有有列表的表格数据\n",
    "data1 = pd.DataFrame(stock_data, index=index)"
   ]
  },
  {
   "cell_type": "code",
   "execution_count": 38,
   "metadata": {},
   "outputs": [
    {
     "data": {
      "text/html": [
       "<div>\n",
       "<style>\n",
       "    .dataframe thead tr:only-child th {\n",
       "        text-align: right;\n",
       "    }\n",
       "\n",
       "    .dataframe thead th {\n",
       "        text-align: left;\n",
       "    }\n",
       "\n",
       "    .dataframe tbody tr th {\n",
       "        vertical-align: top;\n",
       "    }\n",
       "</style>\n",
       "<table border=\"1\" class=\"dataframe\">\n",
       "  <thead>\n",
       "    <tr style=\"text-align: right;\">\n",
       "      <th></th>\n",
       "      <th>0</th>\n",
       "      <th>1</th>\n",
       "      <th>2</th>\n",
       "      <th>3</th>\n",
       "      <th>4</th>\n",
       "    </tr>\n",
       "  </thead>\n",
       "  <tbody>\n",
       "    <tr>\n",
       "      <th>股票0</th>\n",
       "      <td>-1.702901</td>\n",
       "      <td>0.925913</td>\n",
       "      <td>0.071566</td>\n",
       "      <td>-1.182041</td>\n",
       "      <td>1.233194</td>\n",
       "    </tr>\n",
       "    <tr>\n",
       "      <th>股票1</th>\n",
       "      <td>-1.095020</td>\n",
       "      <td>0.987216</td>\n",
       "      <td>-0.501915</td>\n",
       "      <td>0.260007</td>\n",
       "      <td>-1.038902</td>\n",
       "    </tr>\n",
       "    <tr>\n",
       "      <th>股票2</th>\n",
       "      <td>-1.660335</td>\n",
       "      <td>0.014685</td>\n",
       "      <td>-0.174377</td>\n",
       "      <td>0.581658</td>\n",
       "      <td>-1.557958</td>\n",
       "    </tr>\n",
       "    <tr>\n",
       "      <th>股票3</th>\n",
       "      <td>-0.006692</td>\n",
       "      <td>1.477422</td>\n",
       "      <td>0.801805</td>\n",
       "      <td>-1.795572</td>\n",
       "      <td>-2.523386</td>\n",
       "    </tr>\n",
       "    <tr>\n",
       "      <th>股票4</th>\n",
       "      <td>0.320389</td>\n",
       "      <td>-0.778824</td>\n",
       "      <td>0.093143</td>\n",
       "      <td>-0.045424</td>\n",
       "      <td>0.664452</td>\n",
       "    </tr>\n",
       "    <tr>\n",
       "      <th>股票5</th>\n",
       "      <td>-1.925495</td>\n",
       "      <td>0.143330</td>\n",
       "      <td>1.133282</td>\n",
       "      <td>0.741712</td>\n",
       "      <td>1.333218</td>\n",
       "    </tr>\n",
       "    <tr>\n",
       "      <th>股票6</th>\n",
       "      <td>0.803548</td>\n",
       "      <td>-0.788776</td>\n",
       "      <td>-1.236342</td>\n",
       "      <td>-0.114000</td>\n",
       "      <td>-0.400642</td>\n",
       "    </tr>\n",
       "    <tr>\n",
       "      <th>股票7</th>\n",
       "      <td>0.521733</td>\n",
       "      <td>-0.662775</td>\n",
       "      <td>-0.268570</td>\n",
       "      <td>-0.569412</td>\n",
       "      <td>-1.049250</td>\n",
       "    </tr>\n",
       "    <tr>\n",
       "      <th>股票8</th>\n",
       "      <td>-0.702542</td>\n",
       "      <td>-0.389222</td>\n",
       "      <td>0.346350</td>\n",
       "      <td>-2.071526</td>\n",
       "      <td>-1.204020</td>\n",
       "    </tr>\n",
       "    <tr>\n",
       "      <th>股票9</th>\n",
       "      <td>-0.397324</td>\n",
       "      <td>0.327857</td>\n",
       "      <td>-0.387933</td>\n",
       "      <td>0.757978</td>\n",
       "      <td>0.449248</td>\n",
       "    </tr>\n",
       "  </tbody>\n",
       "</table>\n",
       "</div>"
      ],
      "text/plain": [
       "            0         1         2         3         4\n",
       "股票0 -1.702901  0.925913  0.071566 -1.182041  1.233194\n",
       "股票1 -1.095020  0.987216 -0.501915  0.260007 -1.038902\n",
       "股票2 -1.660335  0.014685 -0.174377  0.581658 -1.557958\n",
       "股票3 -0.006692  1.477422  0.801805 -1.795572 -2.523386\n",
       "股票4  0.320389 -0.778824  0.093143 -0.045424  0.664452\n",
       "股票5 -1.925495  0.143330  1.133282  0.741712  1.333218\n",
       "股票6  0.803548 -0.788776 -1.236342 -0.114000 -0.400642\n",
       "股票7  0.521733 -0.662775 -0.268570 -0.569412 -1.049250\n",
       "股票8 -0.702542 -0.389222  0.346350 -2.071526 -1.204020\n",
       "股票9 -0.397324  0.327857 -0.387933  0.757978  0.449248"
      ]
     },
     "execution_count": 38,
     "metadata": {},
     "output_type": "execute_result"
    }
   ],
   "source": [
    "data1"
   ]
  },
  {
   "cell_type": "markdown",
   "metadata": {},
   "source": [
    "# 生成列索引\n",
    "## pd.data_range(start, end, periods, freq)\n",
    "- start 开始时间\n",
    "- end 结束时间\n",
    "- periods 时间天数\n",
    "- freq 递进单位，　默认１天，　＇B' 默认跳过周末"
   ]
  },
  {
   "cell_type": "code",
   "execution_count": 41,
   "metadata": {},
   "outputs": [
    {
     "data": {
      "text/plain": [
       "DatetimeIndex(['2017-01-01', '2017-01-02', '2017-01-03', '2017-01-04',\n",
       "               '2017-01-05'],\n",
       "              dtype='datetime64[ns]', freq='D')"
      ]
     },
     "execution_count": 41,
     "metadata": {},
     "output_type": "execute_result"
    }
   ],
   "source": [
    "# 构建行索引\n",
    "date = pd.date_range('2017-01-01', periods=data1.shape[1], frep='B')\n",
    "date"
   ]
  },
  {
   "cell_type": "code",
   "execution_count": 43,
   "metadata": {},
   "outputs": [
    {
     "data": {
      "text/html": [
       "<div>\n",
       "<style>\n",
       "    .dataframe thead tr:only-child th {\n",
       "        text-align: right;\n",
       "    }\n",
       "\n",
       "    .dataframe thead th {\n",
       "        text-align: left;\n",
       "    }\n",
       "\n",
       "    .dataframe tbody tr th {\n",
       "        vertical-align: top;\n",
       "    }\n",
       "</style>\n",
       "<table border=\"1\" class=\"dataframe\">\n",
       "  <thead>\n",
       "    <tr style=\"text-align: right;\">\n",
       "      <th></th>\n",
       "      <th>2017-01-01 00:00:00</th>\n",
       "      <th>2017-01-02 00:00:00</th>\n",
       "      <th>2017-01-03 00:00:00</th>\n",
       "      <th>2017-01-04 00:00:00</th>\n",
       "      <th>2017-01-05 00:00:00</th>\n",
       "    </tr>\n",
       "  </thead>\n",
       "  <tbody>\n",
       "    <tr>\n",
       "      <th>股票0</th>\n",
       "      <td>-1.702901</td>\n",
       "      <td>0.925913</td>\n",
       "      <td>0.071566</td>\n",
       "      <td>-1.182041</td>\n",
       "      <td>1.233194</td>\n",
       "    </tr>\n",
       "    <tr>\n",
       "      <th>股票1</th>\n",
       "      <td>-1.095020</td>\n",
       "      <td>0.987216</td>\n",
       "      <td>-0.501915</td>\n",
       "      <td>0.260007</td>\n",
       "      <td>-1.038902</td>\n",
       "    </tr>\n",
       "    <tr>\n",
       "      <th>股票2</th>\n",
       "      <td>-1.660335</td>\n",
       "      <td>0.014685</td>\n",
       "      <td>-0.174377</td>\n",
       "      <td>0.581658</td>\n",
       "      <td>-1.557958</td>\n",
       "    </tr>\n",
       "    <tr>\n",
       "      <th>股票3</th>\n",
       "      <td>-0.006692</td>\n",
       "      <td>1.477422</td>\n",
       "      <td>0.801805</td>\n",
       "      <td>-1.795572</td>\n",
       "      <td>-2.523386</td>\n",
       "    </tr>\n",
       "    <tr>\n",
       "      <th>股票4</th>\n",
       "      <td>0.320389</td>\n",
       "      <td>-0.778824</td>\n",
       "      <td>0.093143</td>\n",
       "      <td>-0.045424</td>\n",
       "      <td>0.664452</td>\n",
       "    </tr>\n",
       "    <tr>\n",
       "      <th>股票5</th>\n",
       "      <td>-1.925495</td>\n",
       "      <td>0.143330</td>\n",
       "      <td>1.133282</td>\n",
       "      <td>0.741712</td>\n",
       "      <td>1.333218</td>\n",
       "    </tr>\n",
       "    <tr>\n",
       "      <th>股票6</th>\n",
       "      <td>0.803548</td>\n",
       "      <td>-0.788776</td>\n",
       "      <td>-1.236342</td>\n",
       "      <td>-0.114000</td>\n",
       "      <td>-0.400642</td>\n",
       "    </tr>\n",
       "    <tr>\n",
       "      <th>股票7</th>\n",
       "      <td>0.521733</td>\n",
       "      <td>-0.662775</td>\n",
       "      <td>-0.268570</td>\n",
       "      <td>-0.569412</td>\n",
       "      <td>-1.049250</td>\n",
       "    </tr>\n",
       "    <tr>\n",
       "      <th>股票8</th>\n",
       "      <td>-0.702542</td>\n",
       "      <td>-0.389222</td>\n",
       "      <td>0.346350</td>\n",
       "      <td>-2.071526</td>\n",
       "      <td>-1.204020</td>\n",
       "    </tr>\n",
       "    <tr>\n",
       "      <th>股票9</th>\n",
       "      <td>-0.397324</td>\n",
       "      <td>0.327857</td>\n",
       "      <td>-0.387933</td>\n",
       "      <td>0.757978</td>\n",
       "      <td>0.449248</td>\n",
       "    </tr>\n",
       "  </tbody>\n",
       "</table>\n",
       "</div>"
      ],
      "text/plain": [
       "     2017-01-01  2017-01-02  2017-01-03  2017-01-04  2017-01-05\n",
       "股票0   -1.702901    0.925913    0.071566   -1.182041    1.233194\n",
       "股票1   -1.095020    0.987216   -0.501915    0.260007   -1.038902\n",
       "股票2   -1.660335    0.014685   -0.174377    0.581658   -1.557958\n",
       "股票3   -0.006692    1.477422    0.801805   -1.795572   -2.523386\n",
       "股票4    0.320389   -0.778824    0.093143   -0.045424    0.664452\n",
       "股票5   -1.925495    0.143330    1.133282    0.741712    1.333218\n",
       "股票6    0.803548   -0.788776   -1.236342   -0.114000   -0.400642\n",
       "股票7    0.521733   -0.662775   -0.268570   -0.569412   -1.049250\n",
       "股票8   -0.702542   -0.389222    0.346350   -2.071526   -1.204020\n",
       "股票9   -0.397324    0.327857   -0.387933    0.757978    0.449248"
      ]
     },
     "execution_count": 43,
     "metadata": {},
     "output_type": "execute_result"
    }
   ],
   "source": [
    "# 生成列索引\n",
    "data = pd.DataFrame(stock_data, index=index, columns=date)\n",
    "data"
   ]
  },
  {
   "cell_type": "markdown",
   "metadata": {},
   "source": [
    "# DataFrame　结构\n",
    "- 行索引 index 表明不同行，　横向索引，　０轴，　axis=0\n",
    "- 列索引　colmuns 表明不同列，　１轴，　axis=1"
   ]
  },
  {
   "cell_type": "markdown",
   "metadata": {},
   "source": [
    "# DataFrame 属性"
   ]
  },
  {
   "cell_type": "markdown",
   "metadata": {},
   "source": [
    "- index"
   ]
  },
  {
   "cell_type": "code",
   "execution_count": 46,
   "metadata": {},
   "outputs": [
    {
     "data": {
      "text/plain": [
       "Index(['股票0', '股票1', '股票2', '股票3', '股票4', '股票5', '股票6', '股票7', '股票8', '股票9'], dtype='object')"
      ]
     },
     "execution_count": 46,
     "metadata": {},
     "output_type": "execute_result"
    }
   ],
   "source": [
    "data.index"
   ]
  },
  {
   "cell_type": "markdown",
   "metadata": {},
   "source": [
    "- columns"
   ]
  },
  {
   "cell_type": "code",
   "execution_count": 47,
   "metadata": {},
   "outputs": [
    {
     "data": {
      "text/plain": [
       "DatetimeIndex(['2017-01-01', '2017-01-02', '2017-01-03', '2017-01-04',\n",
       "               '2017-01-05'],\n",
       "              dtype='datetime64[ns]', freq='D')"
      ]
     },
     "execution_count": 47,
     "metadata": {},
     "output_type": "execute_result"
    }
   ],
   "source": [
    "data.columns"
   ]
  },
  {
   "cell_type": "markdown",
   "metadata": {},
   "source": [
    "- values"
   ]
  },
  {
   "cell_type": "code",
   "execution_count": 48,
   "metadata": {},
   "outputs": [
    {
     "data": {
      "text/plain": [
       "array([[-1.70290149,  0.92591314,  0.07156575, -1.18204054,  1.23319375],\n",
       "       [-1.09502044,  0.98721636, -0.50191523,  0.26000695, -1.03890216],\n",
       "       [-1.66033518,  0.01468518, -0.17437748,  0.58165824, -1.55795837],\n",
       "       [-0.00669212,  1.47742153,  0.80180533, -1.79557183, -2.5233857 ],\n",
       "       [ 0.32038856, -0.77882438,  0.09314309, -0.04542401,  0.66445196],\n",
       "       [-1.9254953 ,  0.14332965,  1.13328202,  0.74171163,  1.33321825],\n",
       "       [ 0.80354782, -0.78877588, -1.23634223, -0.11399961, -0.40064208],\n",
       "       [ 0.52173298, -0.66277501, -0.26857005, -0.56941243, -1.04924964],\n",
       "       [-0.7025424 , -0.38922234,  0.34634978, -2.07152637, -1.20401983],\n",
       "       [-0.39732417,  0.32785695, -0.3879325 ,  0.75797766,  0.44924811]])"
      ]
     },
     "execution_count": 48,
     "metadata": {},
     "output_type": "execute_result"
    }
   ],
   "source": [
    "data.values"
   ]
  },
  {
   "cell_type": "markdown",
   "metadata": {},
   "source": [
    "- .T"
   ]
  },
  {
   "cell_type": "code",
   "execution_count": 49,
   "metadata": {},
   "outputs": [
    {
     "data": {
      "text/html": [
       "<div>\n",
       "<style>\n",
       "    .dataframe thead tr:only-child th {\n",
       "        text-align: right;\n",
       "    }\n",
       "\n",
       "    .dataframe thead th {\n",
       "        text-align: left;\n",
       "    }\n",
       "\n",
       "    .dataframe tbody tr th {\n",
       "        vertical-align: top;\n",
       "    }\n",
       "</style>\n",
       "<table border=\"1\" class=\"dataframe\">\n",
       "  <thead>\n",
       "    <tr style=\"text-align: right;\">\n",
       "      <th></th>\n",
       "      <th>股票0</th>\n",
       "      <th>股票1</th>\n",
       "      <th>股票2</th>\n",
       "      <th>股票3</th>\n",
       "      <th>股票4</th>\n",
       "      <th>股票5</th>\n",
       "      <th>股票6</th>\n",
       "      <th>股票7</th>\n",
       "      <th>股票8</th>\n",
       "      <th>股票9</th>\n",
       "    </tr>\n",
       "  </thead>\n",
       "  <tbody>\n",
       "    <tr>\n",
       "      <th>2017-01-01</th>\n",
       "      <td>-1.702901</td>\n",
       "      <td>-1.095020</td>\n",
       "      <td>-1.660335</td>\n",
       "      <td>-0.006692</td>\n",
       "      <td>0.320389</td>\n",
       "      <td>-1.925495</td>\n",
       "      <td>0.803548</td>\n",
       "      <td>0.521733</td>\n",
       "      <td>-0.702542</td>\n",
       "      <td>-0.397324</td>\n",
       "    </tr>\n",
       "    <tr>\n",
       "      <th>2017-01-02</th>\n",
       "      <td>0.925913</td>\n",
       "      <td>0.987216</td>\n",
       "      <td>0.014685</td>\n",
       "      <td>1.477422</td>\n",
       "      <td>-0.778824</td>\n",
       "      <td>0.143330</td>\n",
       "      <td>-0.788776</td>\n",
       "      <td>-0.662775</td>\n",
       "      <td>-0.389222</td>\n",
       "      <td>0.327857</td>\n",
       "    </tr>\n",
       "    <tr>\n",
       "      <th>2017-01-03</th>\n",
       "      <td>0.071566</td>\n",
       "      <td>-0.501915</td>\n",
       "      <td>-0.174377</td>\n",
       "      <td>0.801805</td>\n",
       "      <td>0.093143</td>\n",
       "      <td>1.133282</td>\n",
       "      <td>-1.236342</td>\n",
       "      <td>-0.268570</td>\n",
       "      <td>0.346350</td>\n",
       "      <td>-0.387933</td>\n",
       "    </tr>\n",
       "    <tr>\n",
       "      <th>2017-01-04</th>\n",
       "      <td>-1.182041</td>\n",
       "      <td>0.260007</td>\n",
       "      <td>0.581658</td>\n",
       "      <td>-1.795572</td>\n",
       "      <td>-0.045424</td>\n",
       "      <td>0.741712</td>\n",
       "      <td>-0.114000</td>\n",
       "      <td>-0.569412</td>\n",
       "      <td>-2.071526</td>\n",
       "      <td>0.757978</td>\n",
       "    </tr>\n",
       "    <tr>\n",
       "      <th>2017-01-05</th>\n",
       "      <td>1.233194</td>\n",
       "      <td>-1.038902</td>\n",
       "      <td>-1.557958</td>\n",
       "      <td>-2.523386</td>\n",
       "      <td>0.664452</td>\n",
       "      <td>1.333218</td>\n",
       "      <td>-0.400642</td>\n",
       "      <td>-1.049250</td>\n",
       "      <td>-1.204020</td>\n",
       "      <td>0.449248</td>\n",
       "    </tr>\n",
       "  </tbody>\n",
       "</table>\n",
       "</div>"
      ],
      "text/plain": [
       "                 股票0       股票1       股票2       股票3       股票4       股票5  \\\n",
       "2017-01-01 -1.702901 -1.095020 -1.660335 -0.006692  0.320389 -1.925495   \n",
       "2017-01-02  0.925913  0.987216  0.014685  1.477422 -0.778824  0.143330   \n",
       "2017-01-03  0.071566 -0.501915 -0.174377  0.801805  0.093143  1.133282   \n",
       "2017-01-04 -1.182041  0.260007  0.581658 -1.795572 -0.045424  0.741712   \n",
       "2017-01-05  1.233194 -1.038902 -1.557958 -2.523386  0.664452  1.333218   \n",
       "\n",
       "                 股票6       股票7       股票8       股票9  \n",
       "2017-01-01  0.803548  0.521733 -0.702542 -0.397324  \n",
       "2017-01-02 -0.788776 -0.662775 -0.389222  0.327857  \n",
       "2017-01-03 -1.236342 -0.268570  0.346350 -0.387933  \n",
       "2017-01-04 -0.114000 -0.569412 -2.071526  0.757978  \n",
       "2017-01-05 -0.400642 -1.049250 -1.204020  0.449248  "
      ]
     },
     "execution_count": 49,
     "metadata": {},
     "output_type": "execute_result"
    }
   ],
   "source": [
    "data.T"
   ]
  },
  {
   "cell_type": "markdown",
   "metadata": {},
   "source": [
    "- head\n",
    "- 显示头几行，　默认５行"
   ]
  },
  {
   "cell_type": "code",
   "execution_count": 50,
   "metadata": {},
   "outputs": [
    {
     "data": {
      "text/html": [
       "<div>\n",
       "<style>\n",
       "    .dataframe thead tr:only-child th {\n",
       "        text-align: right;\n",
       "    }\n",
       "\n",
       "    .dataframe thead th {\n",
       "        text-align: left;\n",
       "    }\n",
       "\n",
       "    .dataframe tbody tr th {\n",
       "        vertical-align: top;\n",
       "    }\n",
       "</style>\n",
       "<table border=\"1\" class=\"dataframe\">\n",
       "  <thead>\n",
       "    <tr style=\"text-align: right;\">\n",
       "      <th></th>\n",
       "      <th>2017-01-01 00:00:00</th>\n",
       "      <th>2017-01-02 00:00:00</th>\n",
       "      <th>2017-01-03 00:00:00</th>\n",
       "      <th>2017-01-04 00:00:00</th>\n",
       "      <th>2017-01-05 00:00:00</th>\n",
       "    </tr>\n",
       "  </thead>\n",
       "  <tbody>\n",
       "    <tr>\n",
       "      <th>股票0</th>\n",
       "      <td>-1.702901</td>\n",
       "      <td>0.925913</td>\n",
       "      <td>0.071566</td>\n",
       "      <td>-1.182041</td>\n",
       "      <td>1.233194</td>\n",
       "    </tr>\n",
       "    <tr>\n",
       "      <th>股票1</th>\n",
       "      <td>-1.095020</td>\n",
       "      <td>0.987216</td>\n",
       "      <td>-0.501915</td>\n",
       "      <td>0.260007</td>\n",
       "      <td>-1.038902</td>\n",
       "    </tr>\n",
       "    <tr>\n",
       "      <th>股票2</th>\n",
       "      <td>-1.660335</td>\n",
       "      <td>0.014685</td>\n",
       "      <td>-0.174377</td>\n",
       "      <td>0.581658</td>\n",
       "      <td>-1.557958</td>\n",
       "    </tr>\n",
       "  </tbody>\n",
       "</table>\n",
       "</div>"
      ],
      "text/plain": [
       "     2017-01-01  2017-01-02  2017-01-03  2017-01-04  2017-01-05\n",
       "股票0   -1.702901    0.925913    0.071566   -1.182041    1.233194\n",
       "股票1   -1.095020    0.987216   -0.501915    0.260007   -1.038902\n",
       "股票2   -1.660335    0.014685   -0.174377    0.581658   -1.557958"
      ]
     },
     "execution_count": 50,
     "metadata": {},
     "output_type": "execute_result"
    }
   ],
   "source": [
    "data.head(3)"
   ]
  },
  {
   "cell_type": "markdown",
   "metadata": {},
   "source": [
    "- tail\n",
    "- 显示后几行，　默认５行"
   ]
  },
  {
   "cell_type": "code",
   "execution_count": 51,
   "metadata": {},
   "outputs": [
    {
     "data": {
      "text/html": [
       "<div>\n",
       "<style>\n",
       "    .dataframe thead tr:only-child th {\n",
       "        text-align: right;\n",
       "    }\n",
       "\n",
       "    .dataframe thead th {\n",
       "        text-align: left;\n",
       "    }\n",
       "\n",
       "    .dataframe tbody tr th {\n",
       "        vertical-align: top;\n",
       "    }\n",
       "</style>\n",
       "<table border=\"1\" class=\"dataframe\">\n",
       "  <thead>\n",
       "    <tr style=\"text-align: right;\">\n",
       "      <th></th>\n",
       "      <th>2017-01-01 00:00:00</th>\n",
       "      <th>2017-01-02 00:00:00</th>\n",
       "      <th>2017-01-03 00:00:00</th>\n",
       "      <th>2017-01-04 00:00:00</th>\n",
       "      <th>2017-01-05 00:00:00</th>\n",
       "    </tr>\n",
       "  </thead>\n",
       "  <tbody>\n",
       "    <tr>\n",
       "      <th>股票7</th>\n",
       "      <td>0.521733</td>\n",
       "      <td>-0.662775</td>\n",
       "      <td>-0.268570</td>\n",
       "      <td>-0.569412</td>\n",
       "      <td>-1.049250</td>\n",
       "    </tr>\n",
       "    <tr>\n",
       "      <th>股票8</th>\n",
       "      <td>-0.702542</td>\n",
       "      <td>-0.389222</td>\n",
       "      <td>0.346350</td>\n",
       "      <td>-2.071526</td>\n",
       "      <td>-1.204020</td>\n",
       "    </tr>\n",
       "    <tr>\n",
       "      <th>股票9</th>\n",
       "      <td>-0.397324</td>\n",
       "      <td>0.327857</td>\n",
       "      <td>-0.387933</td>\n",
       "      <td>0.757978</td>\n",
       "      <td>0.449248</td>\n",
       "    </tr>\n",
       "  </tbody>\n",
       "</table>\n",
       "</div>"
      ],
      "text/plain": [
       "     2017-01-01  2017-01-02  2017-01-03  2017-01-04  2017-01-05\n",
       "股票7    0.521733   -0.662775   -0.268570   -0.569412   -1.049250\n",
       "股票8   -0.702542   -0.389222    0.346350   -2.071526   -1.204020\n",
       "股票9   -0.397324    0.327857   -0.387933    0.757978    0.449248"
      ]
     },
     "execution_count": 51,
     "metadata": {},
     "output_type": "execute_result"
    }
   ],
   "source": [
    "data.tail(3)"
   ]
  },
  {
   "cell_type": "markdown",
   "metadata": {},
   "source": [
    "## 修改索引\n",
    "- 不可以　一个一个的改，如：\n",
    "- data.index[0] = '股票_0'  # 错误的\n",
    "- 只能先把值全部改了，　然后重新设计索引"
   ]
  },
  {
   "cell_type": "code",
   "execution_count": 54,
   "metadata": {},
   "outputs": [
    {
     "data": {
      "text/plain": [
       "Index(['股票＿０', '股票1', '股票2', '股票3', '股票4', '股票5', '股票6', '股票7', '股票8', '股票9'], dtype='object')"
      ]
     },
     "execution_count": 54,
     "metadata": {},
     "output_type": "execute_result"
    }
   ],
   "source": [
    "index[0] = '股票＿０'\n",
    "data.index = index\n",
    "data.index"
   ]
  },
  {
   "cell_type": "markdown",
   "metadata": {},
   "source": [
    "# 重设索引\n",
    "- reset_index(drop=False)\n",
    "    - 设置新的下标\n",
    "    - drop:　默认为False，　不删除原来的索引，　如果为True, 删除原来的索引\n",
    "    "
   ]
  },
  {
   "cell_type": "code",
   "execution_count": 57,
   "metadata": {},
   "outputs": [
    {
     "data": {
      "text/html": [
       "<div>\n",
       "<style>\n",
       "    .dataframe thead tr:only-child th {\n",
       "        text-align: right;\n",
       "    }\n",
       "\n",
       "    .dataframe thead th {\n",
       "        text-align: left;\n",
       "    }\n",
       "\n",
       "    .dataframe tbody tr th {\n",
       "        vertical-align: top;\n",
       "    }\n",
       "</style>\n",
       "<table border=\"1\" class=\"dataframe\">\n",
       "  <thead>\n",
       "    <tr style=\"text-align: right;\">\n",
       "      <th></th>\n",
       "      <th>index</th>\n",
       "      <th>2017-01-01 00:00:00</th>\n",
       "      <th>2017-01-02 00:00:00</th>\n",
       "      <th>2017-01-03 00:00:00</th>\n",
       "      <th>2017-01-04 00:00:00</th>\n",
       "      <th>2017-01-05 00:00:00</th>\n",
       "    </tr>\n",
       "  </thead>\n",
       "  <tbody>\n",
       "    <tr>\n",
       "      <th>0</th>\n",
       "      <td>股票＿０</td>\n",
       "      <td>-1.702901</td>\n",
       "      <td>0.925913</td>\n",
       "      <td>0.071566</td>\n",
       "      <td>-1.182041</td>\n",
       "      <td>1.233194</td>\n",
       "    </tr>\n",
       "    <tr>\n",
       "      <th>1</th>\n",
       "      <td>股票1</td>\n",
       "      <td>-1.095020</td>\n",
       "      <td>0.987216</td>\n",
       "      <td>-0.501915</td>\n",
       "      <td>0.260007</td>\n",
       "      <td>-1.038902</td>\n",
       "    </tr>\n",
       "    <tr>\n",
       "      <th>2</th>\n",
       "      <td>股票2</td>\n",
       "      <td>-1.660335</td>\n",
       "      <td>0.014685</td>\n",
       "      <td>-0.174377</td>\n",
       "      <td>0.581658</td>\n",
       "      <td>-1.557958</td>\n",
       "    </tr>\n",
       "    <tr>\n",
       "      <th>3</th>\n",
       "      <td>股票3</td>\n",
       "      <td>-0.006692</td>\n",
       "      <td>1.477422</td>\n",
       "      <td>0.801805</td>\n",
       "      <td>-1.795572</td>\n",
       "      <td>-2.523386</td>\n",
       "    </tr>\n",
       "    <tr>\n",
       "      <th>4</th>\n",
       "      <td>股票4</td>\n",
       "      <td>0.320389</td>\n",
       "      <td>-0.778824</td>\n",
       "      <td>0.093143</td>\n",
       "      <td>-0.045424</td>\n",
       "      <td>0.664452</td>\n",
       "    </tr>\n",
       "    <tr>\n",
       "      <th>5</th>\n",
       "      <td>股票5</td>\n",
       "      <td>-1.925495</td>\n",
       "      <td>0.143330</td>\n",
       "      <td>1.133282</td>\n",
       "      <td>0.741712</td>\n",
       "      <td>1.333218</td>\n",
       "    </tr>\n",
       "    <tr>\n",
       "      <th>6</th>\n",
       "      <td>股票6</td>\n",
       "      <td>0.803548</td>\n",
       "      <td>-0.788776</td>\n",
       "      <td>-1.236342</td>\n",
       "      <td>-0.114000</td>\n",
       "      <td>-0.400642</td>\n",
       "    </tr>\n",
       "    <tr>\n",
       "      <th>7</th>\n",
       "      <td>股票7</td>\n",
       "      <td>0.521733</td>\n",
       "      <td>-0.662775</td>\n",
       "      <td>-0.268570</td>\n",
       "      <td>-0.569412</td>\n",
       "      <td>-1.049250</td>\n",
       "    </tr>\n",
       "    <tr>\n",
       "      <th>8</th>\n",
       "      <td>股票8</td>\n",
       "      <td>-0.702542</td>\n",
       "      <td>-0.389222</td>\n",
       "      <td>0.346350</td>\n",
       "      <td>-2.071526</td>\n",
       "      <td>-1.204020</td>\n",
       "    </tr>\n",
       "    <tr>\n",
       "      <th>9</th>\n",
       "      <td>股票9</td>\n",
       "      <td>-0.397324</td>\n",
       "      <td>0.327857</td>\n",
       "      <td>-0.387933</td>\n",
       "      <td>0.757978</td>\n",
       "      <td>0.449248</td>\n",
       "    </tr>\n",
       "  </tbody>\n",
       "</table>\n",
       "</div>"
      ],
      "text/plain": [
       "  index  2017-01-01 00:00:00  2017-01-02 00:00:00  2017-01-03 00:00:00  \\\n",
       "0  股票＿０            -1.702901             0.925913             0.071566   \n",
       "1   股票1            -1.095020             0.987216            -0.501915   \n",
       "2   股票2            -1.660335             0.014685            -0.174377   \n",
       "3   股票3            -0.006692             1.477422             0.801805   \n",
       "4   股票4             0.320389            -0.778824             0.093143   \n",
       "5   股票5            -1.925495             0.143330             1.133282   \n",
       "6   股票6             0.803548            -0.788776            -1.236342   \n",
       "7   股票7             0.521733            -0.662775            -0.268570   \n",
       "8   股票8            -0.702542            -0.389222             0.346350   \n",
       "9   股票9            -0.397324             0.327857            -0.387933   \n",
       "\n",
       "   2017-01-04 00:00:00  2017-01-05 00:00:00  \n",
       "0            -1.182041             1.233194  \n",
       "1             0.260007            -1.038902  \n",
       "2             0.581658            -1.557958  \n",
       "3            -1.795572            -2.523386  \n",
       "4            -0.045424             0.664452  \n",
       "5             0.741712             1.333218  \n",
       "6            -0.114000            -0.400642  \n",
       "7            -0.569412            -1.049250  \n",
       "8            -2.071526            -1.204020  \n",
       "9             0.757978             0.449248  "
      ]
     },
     "execution_count": 57,
     "metadata": {},
     "output_type": "execute_result"
    }
   ],
   "source": [
    "# 不删除原来的索引\n",
    "data.reset_index()"
   ]
  },
  {
   "cell_type": "code",
   "execution_count": 58,
   "metadata": {},
   "outputs": [
    {
     "data": {
      "text/html": [
       "<div>\n",
       "<style>\n",
       "    .dataframe thead tr:only-child th {\n",
       "        text-align: right;\n",
       "    }\n",
       "\n",
       "    .dataframe thead th {\n",
       "        text-align: left;\n",
       "    }\n",
       "\n",
       "    .dataframe tbody tr th {\n",
       "        vertical-align: top;\n",
       "    }\n",
       "</style>\n",
       "<table border=\"1\" class=\"dataframe\">\n",
       "  <thead>\n",
       "    <tr style=\"text-align: right;\">\n",
       "      <th></th>\n",
       "      <th>2017-01-01 00:00:00</th>\n",
       "      <th>2017-01-02 00:00:00</th>\n",
       "      <th>2017-01-03 00:00:00</th>\n",
       "      <th>2017-01-04 00:00:00</th>\n",
       "      <th>2017-01-05 00:00:00</th>\n",
       "    </tr>\n",
       "  </thead>\n",
       "  <tbody>\n",
       "    <tr>\n",
       "      <th>0</th>\n",
       "      <td>-1.702901</td>\n",
       "      <td>0.925913</td>\n",
       "      <td>0.071566</td>\n",
       "      <td>-1.182041</td>\n",
       "      <td>1.233194</td>\n",
       "    </tr>\n",
       "    <tr>\n",
       "      <th>1</th>\n",
       "      <td>-1.095020</td>\n",
       "      <td>0.987216</td>\n",
       "      <td>-0.501915</td>\n",
       "      <td>0.260007</td>\n",
       "      <td>-1.038902</td>\n",
       "    </tr>\n",
       "    <tr>\n",
       "      <th>2</th>\n",
       "      <td>-1.660335</td>\n",
       "      <td>0.014685</td>\n",
       "      <td>-0.174377</td>\n",
       "      <td>0.581658</td>\n",
       "      <td>-1.557958</td>\n",
       "    </tr>\n",
       "    <tr>\n",
       "      <th>3</th>\n",
       "      <td>-0.006692</td>\n",
       "      <td>1.477422</td>\n",
       "      <td>0.801805</td>\n",
       "      <td>-1.795572</td>\n",
       "      <td>-2.523386</td>\n",
       "    </tr>\n",
       "    <tr>\n",
       "      <th>4</th>\n",
       "      <td>0.320389</td>\n",
       "      <td>-0.778824</td>\n",
       "      <td>0.093143</td>\n",
       "      <td>-0.045424</td>\n",
       "      <td>0.664452</td>\n",
       "    </tr>\n",
       "    <tr>\n",
       "      <th>5</th>\n",
       "      <td>-1.925495</td>\n",
       "      <td>0.143330</td>\n",
       "      <td>1.133282</td>\n",
       "      <td>0.741712</td>\n",
       "      <td>1.333218</td>\n",
       "    </tr>\n",
       "    <tr>\n",
       "      <th>6</th>\n",
       "      <td>0.803548</td>\n",
       "      <td>-0.788776</td>\n",
       "      <td>-1.236342</td>\n",
       "      <td>-0.114000</td>\n",
       "      <td>-0.400642</td>\n",
       "    </tr>\n",
       "    <tr>\n",
       "      <th>7</th>\n",
       "      <td>0.521733</td>\n",
       "      <td>-0.662775</td>\n",
       "      <td>-0.268570</td>\n",
       "      <td>-0.569412</td>\n",
       "      <td>-1.049250</td>\n",
       "    </tr>\n",
       "    <tr>\n",
       "      <th>8</th>\n",
       "      <td>-0.702542</td>\n",
       "      <td>-0.389222</td>\n",
       "      <td>0.346350</td>\n",
       "      <td>-2.071526</td>\n",
       "      <td>-1.204020</td>\n",
       "    </tr>\n",
       "    <tr>\n",
       "      <th>9</th>\n",
       "      <td>-0.397324</td>\n",
       "      <td>0.327857</td>\n",
       "      <td>-0.387933</td>\n",
       "      <td>0.757978</td>\n",
       "      <td>0.449248</td>\n",
       "    </tr>\n",
       "  </tbody>\n",
       "</table>\n",
       "</div>"
      ],
      "text/plain": [
       "   2017-01-01  2017-01-02  2017-01-03  2017-01-04  2017-01-05\n",
       "0   -1.702901    0.925913    0.071566   -1.182041    1.233194\n",
       "1   -1.095020    0.987216   -0.501915    0.260007   -1.038902\n",
       "2   -1.660335    0.014685   -0.174377    0.581658   -1.557958\n",
       "3   -0.006692    1.477422    0.801805   -1.795572   -2.523386\n",
       "4    0.320389   -0.778824    0.093143   -0.045424    0.664452\n",
       "5   -1.925495    0.143330    1.133282    0.741712    1.333218\n",
       "6    0.803548   -0.788776   -1.236342   -0.114000   -0.400642\n",
       "7    0.521733   -0.662775   -0.268570   -0.569412   -1.049250\n",
       "8   -0.702542   -0.389222    0.346350   -2.071526   -1.204020\n",
       "9   -0.397324    0.327857   -0.387933    0.757978    0.449248"
      ]
     },
     "execution_count": 58,
     "metadata": {},
     "output_type": "execute_result"
    }
   ],
   "source": [
    "# 删除原来的索引\n",
    "data.reset_index(drop=True)"
   ]
  },
  {
   "cell_type": "markdown",
   "metadata": {},
   "source": [
    "# 设置新索引案例"
   ]
  },
  {
   "cell_type": "markdown",
   "metadata": {},
   "source": [
    "- 创建"
   ]
  },
  {
   "cell_type": "code",
   "execution_count": 59,
   "metadata": {},
   "outputs": [
    {
     "data": {
      "text/html": [
       "<div>\n",
       "<style>\n",
       "    .dataframe thead tr:only-child th {\n",
       "        text-align: right;\n",
       "    }\n",
       "\n",
       "    .dataframe thead th {\n",
       "        text-align: left;\n",
       "    }\n",
       "\n",
       "    .dataframe tbody tr th {\n",
       "        vertical-align: top;\n",
       "    }\n",
       "</style>\n",
       "<table border=\"1\" class=\"dataframe\">\n",
       "  <thead>\n",
       "    <tr style=\"text-align: right;\">\n",
       "      <th></th>\n",
       "      <th>month</th>\n",
       "      <th>sale</th>\n",
       "      <th>year</th>\n",
       "    </tr>\n",
       "  </thead>\n",
       "  <tbody>\n",
       "    <tr>\n",
       "      <th>0</th>\n",
       "      <td>1</td>\n",
       "      <td>55</td>\n",
       "      <td>2012</td>\n",
       "    </tr>\n",
       "    <tr>\n",
       "      <th>1</th>\n",
       "      <td>4</td>\n",
       "      <td>40</td>\n",
       "      <td>2014</td>\n",
       "    </tr>\n",
       "    <tr>\n",
       "      <th>2</th>\n",
       "      <td>7</td>\n",
       "      <td>84</td>\n",
       "      <td>2013</td>\n",
       "    </tr>\n",
       "    <tr>\n",
       "      <th>3</th>\n",
       "      <td>10</td>\n",
       "      <td>31</td>\n",
       "      <td>2014</td>\n",
       "    </tr>\n",
       "  </tbody>\n",
       "</table>\n",
       "</div>"
      ],
      "text/plain": [
       "   month  sale  year\n",
       "0      1    55  2012\n",
       "1      4    40  2014\n",
       "2      7    84  2013\n",
       "3     10    31  2014"
      ]
     },
     "execution_count": 59,
     "metadata": {},
     "output_type": "execute_result"
    }
   ],
   "source": [
    "df = pd.DataFrame({'month': [1, 4, 7, 10],\n",
    "                    'year': [2012, 2014, 2013, 2014],\n",
    "                    'sale':[55, 40, 84, 31]})\n",
    "df"
   ]
  },
  {
   "cell_type": "markdown",
   "metadata": {},
   "source": [
    "- 以月份设置新的索引"
   ]
  },
  {
   "cell_type": "code",
   "execution_count": 62,
   "metadata": {},
   "outputs": [
    {
     "data": {
      "text/html": [
       "<div>\n",
       "<style>\n",
       "    .dataframe thead tr:only-child th {\n",
       "        text-align: right;\n",
       "    }\n",
       "\n",
       "    .dataframe thead th {\n",
       "        text-align: left;\n",
       "    }\n",
       "\n",
       "    .dataframe tbody tr th {\n",
       "        vertical-align: top;\n",
       "    }\n",
       "</style>\n",
       "<table border=\"1\" class=\"dataframe\">\n",
       "  <thead>\n",
       "    <tr style=\"text-align: right;\">\n",
       "      <th></th>\n",
       "      <th>sale</th>\n",
       "      <th>year</th>\n",
       "    </tr>\n",
       "    <tr>\n",
       "      <th>month</th>\n",
       "      <th></th>\n",
       "      <th></th>\n",
       "    </tr>\n",
       "  </thead>\n",
       "  <tbody>\n",
       "    <tr>\n",
       "      <th>1</th>\n",
       "      <td>55</td>\n",
       "      <td>2012</td>\n",
       "    </tr>\n",
       "    <tr>\n",
       "      <th>4</th>\n",
       "      <td>40</td>\n",
       "      <td>2014</td>\n",
       "    </tr>\n",
       "    <tr>\n",
       "      <th>7</th>\n",
       "      <td>84</td>\n",
       "      <td>2013</td>\n",
       "    </tr>\n",
       "    <tr>\n",
       "      <th>10</th>\n",
       "      <td>31</td>\n",
       "      <td>2014</td>\n",
       "    </tr>\n",
       "  </tbody>\n",
       "</table>\n",
       "</div>"
      ],
      "text/plain": [
       "       sale  year\n",
       "month            \n",
       "1        55  2012\n",
       "4        40  2014\n",
       "7        84  2013\n",
       "10       31  2014"
      ]
     },
     "execution_count": 62,
     "metadata": {},
     "output_type": "execute_result"
    }
   ],
   "source": [
    "df.set_index('month')"
   ]
  },
  {
   "cell_type": "markdown",
   "metadata": {},
   "source": [
    "- 设置多个索引，以年和月份"
   ]
  },
  {
   "cell_type": "code",
   "execution_count": 63,
   "metadata": {},
   "outputs": [
    {
     "data": {
      "text/html": [
       "<div>\n",
       "<style>\n",
       "    .dataframe thead tr:only-child th {\n",
       "        text-align: right;\n",
       "    }\n",
       "\n",
       "    .dataframe thead th {\n",
       "        text-align: left;\n",
       "    }\n",
       "\n",
       "    .dataframe tbody tr th {\n",
       "        vertical-align: top;\n",
       "    }\n",
       "</style>\n",
       "<table border=\"1\" class=\"dataframe\">\n",
       "  <thead>\n",
       "    <tr style=\"text-align: right;\">\n",
       "      <th></th>\n",
       "      <th></th>\n",
       "      <th>sale</th>\n",
       "    </tr>\n",
       "    <tr>\n",
       "      <th>year</th>\n",
       "      <th>month</th>\n",
       "      <th></th>\n",
       "    </tr>\n",
       "  </thead>\n",
       "  <tbody>\n",
       "    <tr>\n",
       "      <th>2012</th>\n",
       "      <th>1</th>\n",
       "      <td>55</td>\n",
       "    </tr>\n",
       "    <tr>\n",
       "      <th>2014</th>\n",
       "      <th>4</th>\n",
       "      <td>40</td>\n",
       "    </tr>\n",
       "    <tr>\n",
       "      <th>2013</th>\n",
       "      <th>7</th>\n",
       "      <td>84</td>\n",
       "    </tr>\n",
       "    <tr>\n",
       "      <th>2014</th>\n",
       "      <th>10</th>\n",
       "      <td>31</td>\n",
       "    </tr>\n",
       "  </tbody>\n",
       "</table>\n",
       "</div>"
      ],
      "text/plain": [
       "            sale\n",
       "year month      \n",
       "2012 1        55\n",
       "2014 4        40\n",
       "2013 7        84\n",
       "2014 10       31"
      ]
     },
     "execution_count": 63,
     "metadata": {},
     "output_type": "execute_result"
    }
   ],
   "source": [
    "df.set_index(['year', 'month'])"
   ]
  },
  {
   "cell_type": "markdown",
   "metadata": {},
   "source": [
    "- 通过上面的操作，　这样DataFrame 就成了一个具有MultiIndex的DataFrame\n",
    "- 其实就是一个三维结构"
   ]
  },
  {
   "cell_type": "code",
   "execution_count": 67,
   "metadata": {},
   "outputs": [
    {
     "name": "stdout",
     "output_type": "stream",
     "text": [
      "RangeIndex(start=0, stop=4, step=1)\n"
     ]
    },
    {
     "data": {
      "text/plain": [
       "MultiIndex(levels=[[2012, 2013, 2014], [1, 4, 7, 10]],\n",
       "           labels=[[0, 2, 1, 2], [0, 1, 2, 3]],\n",
       "           names=['year', 'month'])"
      ]
     },
     "execution_count": 67,
     "metadata": {},
     "output_type": "execute_result"
    }
   ],
   "source": [
    "print(df.index)\n",
    "dn = df.set_index(['year', 'month'])\n",
    "dn.index"
   ]
  },
  {
   "cell_type": "markdown",
   "metadata": {},
   "source": [
    "# MultiIndex\n",
    "## index属性\n",
    "- names: levels的名称\n",
    "- levels: 每个level的元组值"
   ]
  },
  {
   "cell_type": "code",
   "execution_count": 70,
   "metadata": {},
   "outputs": [
    {
     "data": {
      "text/plain": [
       "FrozenList([[2012, 2013, 2014], [1, 4, 7, 10]])"
      ]
     },
     "execution_count": 70,
     "metadata": {},
     "output_type": "execute_result"
    }
   ],
   "source": [
    "dn.index.levels"
   ]
  },
  {
   "cell_type": "code",
   "execution_count": 72,
   "metadata": {},
   "outputs": [
    {
     "data": {
      "text/plain": [
       "FrozenList(['year', 'month'])"
      ]
     },
     "execution_count": 72,
     "metadata": {},
     "output_type": "execute_result"
    }
   ],
   "source": [
    "dn.index.names"
   ]
  },
  {
   "cell_type": "code",
   "execution_count": 73,
   "metadata": {},
   "outputs": [
    {
     "data": {
      "text/plain": [
       "FrozenList([[0, 2, 1, 2], [0, 1, 2, 3]])"
      ]
     },
     "execution_count": 73,
     "metadata": {},
     "output_type": "execute_result"
    }
   ],
   "source": [
    "dn.index.labels"
   ]
  },
  {
   "cell_type": "markdown",
   "metadata": {},
   "source": [
    "# Series\n",
    "## Series 是一个一维的数组结构　　和 python 中的字典很像　　　　"
   ]
  },
  {
   "cell_type": "code",
   "execution_count": 85,
   "metadata": {},
   "outputs": [
    {
     "name": "stdout",
     "output_type": "stream",
     "text": [
      "<class 'pandas.core.series.Series'>\n",
      "Index(['股票＿０', '股票1', '股票2', '股票3', '股票4', '股票5', '股票6', '股票7', '股票8', '股票9'], dtype='object')\n"
     ]
    }
   ],
   "source": [
    "print(type(data.iloc[0]))\n",
    "print(data.index)"
   ]
  },
  {
   "cell_type": "markdown",
   "metadata": {},
   "source": [
    "## 创建Series"
   ]
  },
  {
   "cell_type": "code",
   "execution_count": 93,
   "metadata": {},
   "outputs": [
    {
     "data": {
      "text/plain": [
       "0    0\n",
       "1    1\n",
       "2    2\n",
       "3    3\n",
       "4    4\n",
       "5    5\n",
       "6    6\n",
       "7    7\n",
       "8    8\n",
       "9    9\n",
       "dtype: int64"
      ]
     },
     "execution_count": 93,
     "metadata": {},
     "output_type": "execute_result"
    }
   ],
   "source": [
    "pd.Series(np.arange(10))"
   ]
  },
  {
   "cell_type": "code",
   "execution_count": 94,
   "metadata": {},
   "outputs": [
    {
     "data": {
      "text/plain": [
       "A    1\n",
       "B    3\n",
       "C    4\n",
       "D    6\n",
       "dtype: int64"
      ]
     },
     "execution_count": 94,
     "metadata": {},
     "output_type": "execute_result"
    }
   ],
   "source": [
    "# 指定索引创建\n",
    "pd.Series([1, 3, 4, 6], index=list('ABCD'))"
   ]
  },
  {
   "cell_type": "code",
   "execution_count": 95,
   "metadata": {},
   "outputs": [
    {
     "data": {
      "text/plain": [
       "['a', 'b', 'c', 'd']"
      ]
     },
     "execution_count": 95,
     "metadata": {},
     "output_type": "execute_result"
    }
   ],
   "source": [
    "list('abcd')"
   ]
  },
  {
   "cell_type": "markdown",
   "metadata": {},
   "source": [
    "### 通过字典来创建Seriese\n"
   ]
  },
  {
   "cell_type": "code",
   "execution_count": 98,
   "metadata": {},
   "outputs": [],
   "source": [
    "aa = pd.Series({'aa': 11, 'bb': 22})"
   ]
  },
  {
   "cell_type": "code",
   "execution_count": 99,
   "metadata": {},
   "outputs": [
    {
     "data": {
      "text/plain": [
       "aa    11\n",
       "bb    22\n",
       "dtype: int64"
      ]
     },
     "execution_count": 99,
     "metadata": {},
     "output_type": "execute_result"
    }
   ],
   "source": [
    "aa"
   ]
  },
  {
   "cell_type": "code",
   "execution_count": 100,
   "metadata": {},
   "outputs": [
    {
     "data": {
      "text/plain": [
       "Index(['aa', 'bb'], dtype='object')"
      ]
     },
     "execution_count": 100,
     "metadata": {},
     "output_type": "execute_result"
    }
   ],
   "source": [
    "aa.index"
   ]
  },
  {
   "cell_type": "code",
   "execution_count": 101,
   "metadata": {},
   "outputs": [
    {
     "data": {
      "text/plain": [
       "array([11, 22])"
      ]
     },
     "execution_count": 101,
     "metadata": {},
     "output_type": "execute_result"
    }
   ],
   "source": [
    "aa.values"
   ]
  },
  {
   "cell_type": "markdown",
   "metadata": {},
   "source": [
    "# 小结\n",
    "- Seriese 是一维的数组\n",
    "- DataFrame 是二维的数组\n",
    "- MultiIndex 和　DataFrame 组合起来就是三维数组"
   ]
  }
 ],
 "metadata": {
  "kernelspec": {
   "display_name": "Python 3",
   "language": "python",
   "name": "python3"
  },
  "language_info": {
   "codemirror_mode": {
    "name": "ipython",
    "version": 3
   },
   "file_extension": ".py",
   "mimetype": "text/x-python",
   "name": "python",
   "nbconvert_exporter": "python",
   "pygments_lexer": "ipython3",
   "version": "3.5.2"
  }
 },
 "nbformat": 4,
 "nbformat_minor": 2
}
